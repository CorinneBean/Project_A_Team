{
 "cells": [
  {
   "cell_type": "code",
   "execution_count": 72,
   "id": "aa8b2194",
   "metadata": {},
   "outputs": [],
   "source": [
    "import pandas as pd \n",
    "import sklearn as skl\n",
    "from sklearn.preprocessing import OneHotEncoder\n",
    "from sklearn.linear_model import LogisticRegression\n",
    "from sklearn.metrics import accuracy_score\n",
    "from sklearn.model_selection import train_test_split\n",
    "from sklearn.preprocessing import StandardScaler\n",
    "from sklearn.ensemble import RandomForestClassifier\n",
    "\n"
   ]
  },
  {
   "cell_type": "code",
   "execution_count": 73,
   "id": "e908a8f4",
   "metadata": {},
   "outputs": [
    {
     "data": {
      "text/html": [
       "<div>\n",
       "<style scoped>\n",
       "    .dataframe tbody tr th:only-of-type {\n",
       "        vertical-align: middle;\n",
       "    }\n",
       "\n",
       "    .dataframe tbody tr th {\n",
       "        vertical-align: top;\n",
       "    }\n",
       "\n",
       "    .dataframe thead th {\n",
       "        text-align: right;\n",
       "    }\n",
       "</style>\n",
       "<table border=\"1\" class=\"dataframe\">\n",
       "  <thead>\n",
       "    <tr style=\"text-align: right;\">\n",
       "      <th></th>\n",
       "      <th>index_id_intake</th>\n",
       "      <th>animal_id_intake</th>\n",
       "      <th>datetime_intake</th>\n",
       "      <th>monthyear_intake</th>\n",
       "      <th>found_location</th>\n",
       "      <th>intake_type</th>\n",
       "      <th>intake_condition</th>\n",
       "      <th>animal_type_intake</th>\n",
       "      <th>sex_upon_intake</th>\n",
       "      <th>age_upon_intake</th>\n",
       "      <th>...</th>\n",
       "      <th>order_of_outcome</th>\n",
       "      <th>breed_intake_subtype</th>\n",
       "      <th>main_breed_intake</th>\n",
       "      <th>breed_contains_pitbull</th>\n",
       "      <th>sex_upon_intake_subtype</th>\n",
       "      <th>time_in_shelter</th>\n",
       "      <th>days_in_shelter</th>\n",
       "      <th>zipcode_intake</th>\n",
       "      <th>longitude_intake</th>\n",
       "      <th>latitude_intake</th>\n",
       "    </tr>\n",
       "  </thead>\n",
       "  <tbody>\n",
       "    <tr>\n",
       "      <th>0</th>\n",
       "      <td>70641</td>\n",
       "      <td>A178569</td>\n",
       "      <td>2014-03-17 09:45:00</td>\n",
       "      <td>March 2014</td>\n",
       "      <td>Austin (TX)</td>\n",
       "      <td>Public Assist</td>\n",
       "      <td>Normal</td>\n",
       "      <td>Dog</td>\n",
       "      <td>Neutered Male</td>\n",
       "      <td>15 years</td>\n",
       "      <td>...</td>\n",
       "      <td>1</td>\n",
       "      <td>Mix</td>\n",
       "      <td>Shetland Sheepdog</td>\n",
       "      <td>N</td>\n",
       "      <td>Male</td>\n",
       "      <td>6 days 06:12:00</td>\n",
       "      <td>6</td>\n",
       "      <td>NaN</td>\n",
       "      <td>NaN</td>\n",
       "      <td>NaN</td>\n",
       "    </tr>\n",
       "    <tr>\n",
       "      <th>1</th>\n",
       "      <td>944</td>\n",
       "      <td>A287017</td>\n",
       "      <td>2015-08-16 12:19:00</td>\n",
       "      <td>August 2015</td>\n",
       "      <td>6620 Deatonhill Dr in Austin (TX)</td>\n",
       "      <td>Stray</td>\n",
       "      <td>Normal</td>\n",
       "      <td>Dog</td>\n",
       "      <td>Spayed Female</td>\n",
       "      <td>14 years</td>\n",
       "      <td>...</td>\n",
       "      <td>2</td>\n",
       "      <td>Mix</td>\n",
       "      <td>Chihuahua Shorthair</td>\n",
       "      <td>N</td>\n",
       "      <td>Female</td>\n",
       "      <td>01:12:00</td>\n",
       "      <td>0</td>\n",
       "      <td>NaN</td>\n",
       "      <td>NaN</td>\n",
       "      <td>NaN</td>\n",
       "    </tr>\n",
       "    <tr>\n",
       "      <th>2</th>\n",
       "      <td>69127</td>\n",
       "      <td>A293383</td>\n",
       "      <td>2018-03-18 18:17:00</td>\n",
       "      <td>March 2018</td>\n",
       "      <td>6005 Walnut Hills in Austin (TX)</td>\n",
       "      <td>Stray</td>\n",
       "      <td>Sick</td>\n",
       "      <td>Cat</td>\n",
       "      <td>Neutered Male</td>\n",
       "      <td>15 years</td>\n",
       "      <td>...</td>\n",
       "      <td>1</td>\n",
       "      <td>Purebred</td>\n",
       "      <td>Siamese</td>\n",
       "      <td>N</td>\n",
       "      <td>Male</td>\n",
       "      <td>19:27:00</td>\n",
       "      <td>0</td>\n",
       "      <td>78723.0</td>\n",
       "      <td>-97.67646196099997,30.306264894000037</td>\n",
       "      <td>63951360.0</td>\n",
       "    </tr>\n",
       "    <tr>\n",
       "      <th>3</th>\n",
       "      <td>58622</td>\n",
       "      <td>A298677</td>\n",
       "      <td>2015-07-27 12:44:00</td>\n",
       "      <td>July 2015</td>\n",
       "      <td>Manor (TX)</td>\n",
       "      <td>Euthanasia Request</td>\n",
       "      <td>Sick</td>\n",
       "      <td>Dog</td>\n",
       "      <td>Spayed Female</td>\n",
       "      <td>13 years</td>\n",
       "      <td>...</td>\n",
       "      <td>1</td>\n",
       "      <td>Mix</td>\n",
       "      <td>German Shepherd</td>\n",
       "      <td>N</td>\n",
       "      <td>Female</td>\n",
       "      <td>01:15:00</td>\n",
       "      <td>0</td>\n",
       "      <td>NaN</td>\n",
       "      <td>NaN</td>\n",
       "      <td>NaN</td>\n",
       "    </tr>\n",
       "    <tr>\n",
       "      <th>4</th>\n",
       "      <td>69739</td>\n",
       "      <td>A302868</td>\n",
       "      <td>2018-06-27 09:03:00</td>\n",
       "      <td>June 2018</td>\n",
       "      <td>Pecan Creek Pkwy &amp; Hard Rock Rd in Austin (TX)</td>\n",
       "      <td>Stray</td>\n",
       "      <td>Aged</td>\n",
       "      <td>Cat</td>\n",
       "      <td>Spayed Female</td>\n",
       "      <td>15 years</td>\n",
       "      <td>...</td>\n",
       "      <td>1</td>\n",
       "      <td>Mix</td>\n",
       "      <td>Domestic Shorthair</td>\n",
       "      <td>N</td>\n",
       "      <td>Female</td>\n",
       "      <td>17 days 06:28:00</td>\n",
       "      <td>17</td>\n",
       "      <td>NaN</td>\n",
       "      <td>NaN</td>\n",
       "      <td>NaN</td>\n",
       "    </tr>\n",
       "  </tbody>\n",
       "</table>\n",
       "<p>5 rows × 51 columns</p>\n",
       "</div>"
      ],
      "text/plain": [
       "   index_id_intake animal_id_intake      datetime_intake monthyear_intake  \\\n",
       "0            70641          A178569  2014-03-17 09:45:00       March 2014   \n",
       "1              944          A287017  2015-08-16 12:19:00      August 2015   \n",
       "2            69127          A293383  2018-03-18 18:17:00       March 2018   \n",
       "3            58622          A298677  2015-07-27 12:44:00        July 2015   \n",
       "4            69739          A302868  2018-06-27 09:03:00        June 2018   \n",
       "\n",
       "                                   found_location         intake_type  \\\n",
       "0                                     Austin (TX)       Public Assist   \n",
       "1               6620 Deatonhill Dr in Austin (TX)               Stray   \n",
       "2                6005 Walnut Hills in Austin (TX)               Stray   \n",
       "3                                      Manor (TX)  Euthanasia Request   \n",
       "4  Pecan Creek Pkwy & Hard Rock Rd in Austin (TX)               Stray   \n",
       "\n",
       "  intake_condition animal_type_intake sex_upon_intake age_upon_intake  ...  \\\n",
       "0           Normal                Dog   Neutered Male        15 years  ...   \n",
       "1           Normal                Dog   Spayed Female        14 years  ...   \n",
       "2             Sick                Cat   Neutered Male        15 years  ...   \n",
       "3             Sick                Dog   Spayed Female        13 years  ...   \n",
       "4             Aged                Cat   Spayed Female        15 years  ...   \n",
       "\n",
       "  order_of_outcome breed_intake_subtype     main_breed_intake  \\\n",
       "0                1                  Mix    Shetland Sheepdog    \n",
       "1                2                  Mix  Chihuahua Shorthair    \n",
       "2                1             Purebred               Siamese   \n",
       "3                1                  Mix      German Shepherd    \n",
       "4                1                  Mix   Domestic Shorthair    \n",
       "\n",
       "   breed_contains_pitbull sex_upon_intake_subtype   time_in_shelter  \\\n",
       "0                       N                    Male   6 days 06:12:00   \n",
       "1                       N                  Female          01:12:00   \n",
       "2                       N                    Male          19:27:00   \n",
       "3                       N                  Female          01:15:00   \n",
       "4                       N                  Female  17 days 06:28:00   \n",
       "\n",
       "   days_in_shelter zipcode_intake                       longitude_intake  \\\n",
       "0                6            NaN                                    NaN   \n",
       "1                0            NaN                                    NaN   \n",
       "2                0        78723.0  -97.67646196099997,30.306264894000037   \n",
       "3                0            NaN                                    NaN   \n",
       "4               17            NaN                                    NaN   \n",
       "\n",
       "   latitude_intake  \n",
       "0              NaN  \n",
       "1              NaN  \n",
       "2       63951360.0  \n",
       "3              NaN  \n",
       "4              NaN  \n",
       "\n",
       "[5 rows x 51 columns]"
      ]
     },
     "execution_count": 73,
     "metadata": {},
     "output_type": "execute_result"
    }
   ],
   "source": [
    "df = pd.read_csv(\"../Resources/acc_intake_outcome.csv\")\n",
    "df.head()"
   ]
  },
  {
   "cell_type": "code",
   "execution_count": 74,
   "id": "e41f456d",
   "metadata": {},
   "outputs": [
    {
     "data": {
      "text/html": [
       "<div>\n",
       "<style scoped>\n",
       "    .dataframe tbody tr th:only-of-type {\n",
       "        vertical-align: middle;\n",
       "    }\n",
       "\n",
       "    .dataframe tbody tr th {\n",
       "        vertical-align: top;\n",
       "    }\n",
       "\n",
       "    .dataframe thead th {\n",
       "        text-align: right;\n",
       "    }\n",
       "</style>\n",
       "<table border=\"1\" class=\"dataframe\">\n",
       "  <thead>\n",
       "    <tr style=\"text-align: right;\">\n",
       "      <th></th>\n",
       "      <th>index_id_intake</th>\n",
       "      <th>animal_id_intake</th>\n",
       "      <th>datetime_intake</th>\n",
       "      <th>monthyear_intake</th>\n",
       "      <th>found_location</th>\n",
       "      <th>intake_type</th>\n",
       "      <th>intake_condition</th>\n",
       "      <th>animal_type_intake</th>\n",
       "      <th>sex_upon_intake</th>\n",
       "      <th>age_upon_intake</th>\n",
       "      <th>...</th>\n",
       "      <th>order_of_outcome</th>\n",
       "      <th>breed_intake_subtype</th>\n",
       "      <th>main_breed_intake</th>\n",
       "      <th>breed_contains_pitbull</th>\n",
       "      <th>sex_upon_intake_subtype</th>\n",
       "      <th>time_in_shelter</th>\n",
       "      <th>days_in_shelter</th>\n",
       "      <th>zipcode_intake</th>\n",
       "      <th>longitude_intake</th>\n",
       "      <th>latitude_intake</th>\n",
       "    </tr>\n",
       "  </thead>\n",
       "  <tbody>\n",
       "    <tr>\n",
       "      <th>0</th>\n",
       "      <td>70641</td>\n",
       "      <td>A178569</td>\n",
       "      <td>2014-03-17 09:45:00</td>\n",
       "      <td>March 2014</td>\n",
       "      <td>Austin (TX)</td>\n",
       "      <td>Public Assist</td>\n",
       "      <td>Normal</td>\n",
       "      <td>Dog</td>\n",
       "      <td>Neutered Male</td>\n",
       "      <td>15 years</td>\n",
       "      <td>...</td>\n",
       "      <td>1</td>\n",
       "      <td>Mix</td>\n",
       "      <td>Shetland Sheepdog</td>\n",
       "      <td>N</td>\n",
       "      <td>Male</td>\n",
       "      <td>6 days 06:12:00</td>\n",
       "      <td>6</td>\n",
       "      <td>NaN</td>\n",
       "      <td>NaN</td>\n",
       "      <td>NaN</td>\n",
       "    </tr>\n",
       "    <tr>\n",
       "      <th>1</th>\n",
       "      <td>944</td>\n",
       "      <td>A287017</td>\n",
       "      <td>2015-08-16 12:19:00</td>\n",
       "      <td>August 2015</td>\n",
       "      <td>6620 Deatonhill Dr in Austin (TX)</td>\n",
       "      <td>Stray</td>\n",
       "      <td>Normal</td>\n",
       "      <td>Dog</td>\n",
       "      <td>Spayed Female</td>\n",
       "      <td>14 years</td>\n",
       "      <td>...</td>\n",
       "      <td>2</td>\n",
       "      <td>Mix</td>\n",
       "      <td>Chihuahua Shorthair</td>\n",
       "      <td>N</td>\n",
       "      <td>Female</td>\n",
       "      <td>01:12:00</td>\n",
       "      <td>0</td>\n",
       "      <td>NaN</td>\n",
       "      <td>NaN</td>\n",
       "      <td>NaN</td>\n",
       "    </tr>\n",
       "    <tr>\n",
       "      <th>3</th>\n",
       "      <td>58622</td>\n",
       "      <td>A298677</td>\n",
       "      <td>2015-07-27 12:44:00</td>\n",
       "      <td>July 2015</td>\n",
       "      <td>Manor (TX)</td>\n",
       "      <td>Euthanasia Request</td>\n",
       "      <td>Sick</td>\n",
       "      <td>Dog</td>\n",
       "      <td>Spayed Female</td>\n",
       "      <td>13 years</td>\n",
       "      <td>...</td>\n",
       "      <td>1</td>\n",
       "      <td>Mix</td>\n",
       "      <td>German Shepherd</td>\n",
       "      <td>N</td>\n",
       "      <td>Female</td>\n",
       "      <td>01:15:00</td>\n",
       "      <td>0</td>\n",
       "      <td>NaN</td>\n",
       "      <td>NaN</td>\n",
       "      <td>NaN</td>\n",
       "    </tr>\n",
       "  </tbody>\n",
       "</table>\n",
       "<p>3 rows × 51 columns</p>\n",
       "</div>"
      ],
      "text/plain": [
       "   index_id_intake animal_id_intake      datetime_intake monthyear_intake  \\\n",
       "0            70641          A178569  2014-03-17 09:45:00       March 2014   \n",
       "1              944          A287017  2015-08-16 12:19:00      August 2015   \n",
       "3            58622          A298677  2015-07-27 12:44:00        July 2015   \n",
       "\n",
       "                      found_location         intake_type intake_condition  \\\n",
       "0                        Austin (TX)       Public Assist           Normal   \n",
       "1  6620 Deatonhill Dr in Austin (TX)               Stray           Normal   \n",
       "3                         Manor (TX)  Euthanasia Request             Sick   \n",
       "\n",
       "  animal_type_intake sex_upon_intake age_upon_intake  ... order_of_outcome  \\\n",
       "0                Dog   Neutered Male        15 years  ...                1   \n",
       "1                Dog   Spayed Female        14 years  ...                2   \n",
       "3                Dog   Spayed Female        13 years  ...                1   \n",
       "\n",
       "  breed_intake_subtype     main_breed_intake  breed_contains_pitbull  \\\n",
       "0                  Mix    Shetland Sheepdog                        N   \n",
       "1                  Mix  Chihuahua Shorthair                        N   \n",
       "3                  Mix      German Shepherd                        N   \n",
       "\n",
       "  sex_upon_intake_subtype  time_in_shelter  days_in_shelter zipcode_intake  \\\n",
       "0                    Male  6 days 06:12:00                6            NaN   \n",
       "1                  Female         01:12:00                0            NaN   \n",
       "3                  Female         01:15:00                0            NaN   \n",
       "\n",
       "   longitude_intake  latitude_intake  \n",
       "0               NaN              NaN  \n",
       "1               NaN              NaN  \n",
       "3               NaN              NaN  \n",
       "\n",
       "[3 rows x 51 columns]"
      ]
     },
     "execution_count": 74,
     "metadata": {},
     "output_type": "execute_result"
    }
   ],
   "source": [
    "df_dog = df[df['animal_type_intake']=='Dog']\n",
    "df_dog.head(3)"
   ]
  },
  {
   "cell_type": "code",
   "execution_count": 75,
   "id": "cab8e0e6",
   "metadata": {},
   "outputs": [
    {
     "data": {
      "text/plain": [
       "Index(['index_id_intake', 'animal_id_intake', 'datetime_intake',\n",
       "       'monthyear_intake', 'found_location', 'intake_type', 'intake_condition',\n",
       "       'animal_type_intake', 'sex_upon_intake', 'age_upon_intake',\n",
       "       'breed_intake', 'color_intake', 'age_upon_intake(days)',\n",
       "       'age_upon_intake(years)', 'age_range_intake', 'intake_month',\n",
       "       'intake_year', 'intake_weekday', 'intake_hour', 'intake_frequency',\n",
       "       'order_of_intake', 'index_id_outcome', 'animal_id_outcome',\n",
       "       'datetime_outcome', 'monthyear_outcome', 'date_of_birth_outcome',\n",
       "       'outcome_type', 'outcome_subtype', 'animal_type_outcome',\n",
       "       'sex_upon_outcome', 'age_upon_outcome', 'breed_outcome',\n",
       "       'color_outcome', 'age_upon_outcome(days)', 'outcome_month',\n",
       "       'outcome_year', 'outcome_weekday', 'outcome_hour',\n",
       "       'age_upon_outcome(years)', 'age_range_outcome', 'outcome_frequency',\n",
       "       'order_of_outcome', 'breed_intake_subtype', 'main_breed_intake',\n",
       "       'breed_contains_pitbull', 'sex_upon_intake_subtype', 'time_in_shelter',\n",
       "       'days_in_shelter', 'zipcode_intake', 'longitude_intake',\n",
       "       'latitude_intake'],\n",
       "      dtype='object')"
      ]
     },
     "execution_count": 75,
     "metadata": {},
     "output_type": "execute_result"
    }
   ],
   "source": [
    "df_dog_ML = df_dog.copy()\n",
    "df_dog_ML.columns\n"
   ]
  },
  {
   "cell_type": "markdown",
   "id": "666c1a5c",
   "metadata": {},
   "source": [
    "# Keep following columns  age ,  breed , color , intake type,intake condition & outcome type"
   ]
  },
  {
   "cell_type": "code",
   "execution_count": 76,
   "id": "e5cd6e15",
   "metadata": {},
   "outputs": [],
   "source": [
    "df_dog_ML= df_dog.drop(['index_id_intake','animal_id_intake','age_range_intake', 'breed_outcome','datetime_intake',\n",
    "                'monthyear_intake', 'found_location','sex_upon_intake','intake_month','intake_year','age_upon_intake', \n",
    "                'intake_weekday', 'intake_hour', 'intake_frequency','order_of_intake','index_id_outcome',\n",
    "                'animal_id_outcome','datetime_outcome', 'monthyear_outcome', 'date_of_birth_outcome', 'outcome_subtype', 'animal_type_outcome','sex_upon_outcome',  'outcome_month',\n",
    "                'outcome_year', 'outcome_weekday', 'outcome_hour','outcome_frequency','order_of_outcome',\n",
    "               'age_upon_intake(years)', 'age_upon_outcome','age_upon_outcome(years)',\n",
    "                'age_range_outcome','color_outcome', 'breed_intake_subtype','breed_contains_pitbull',\n",
    "                'sex_upon_intake_subtype','time_in_shelter','main_breed_intake',\n",
    "                'zipcode_intake','longitude_intake','latitude_intake'],axis=1)"
   ]
  },
  {
   "cell_type": "code",
   "execution_count": 77,
   "id": "a5f9ba7f",
   "metadata": {},
   "outputs": [
    {
     "data": {
      "text/html": [
       "<div>\n",
       "<style scoped>\n",
       "    .dataframe tbody tr th:only-of-type {\n",
       "        vertical-align: middle;\n",
       "    }\n",
       "\n",
       "    .dataframe tbody tr th {\n",
       "        vertical-align: top;\n",
       "    }\n",
       "\n",
       "    .dataframe thead th {\n",
       "        text-align: right;\n",
       "    }\n",
       "</style>\n",
       "<table border=\"1\" class=\"dataframe\">\n",
       "  <thead>\n",
       "    <tr style=\"text-align: right;\">\n",
       "      <th></th>\n",
       "      <th>intake_type</th>\n",
       "      <th>intake_condition</th>\n",
       "      <th>animal_type_intake</th>\n",
       "      <th>breed_intake</th>\n",
       "      <th>color_intake</th>\n",
       "      <th>age_upon_intake(days)</th>\n",
       "      <th>outcome_type</th>\n",
       "      <th>age_upon_outcome(days)</th>\n",
       "      <th>days_in_shelter</th>\n",
       "    </tr>\n",
       "  </thead>\n",
       "  <tbody>\n",
       "    <tr>\n",
       "      <th>0</th>\n",
       "      <td>Public Assist</td>\n",
       "      <td>Normal</td>\n",
       "      <td>Dog</td>\n",
       "      <td>Shetland Sheepdog Mix</td>\n",
       "      <td>White/Black</td>\n",
       "      <td>5475</td>\n",
       "      <td>Return to Owner</td>\n",
       "      <td>5485</td>\n",
       "      <td>6</td>\n",
       "    </tr>\n",
       "    <tr>\n",
       "      <th>1</th>\n",
       "      <td>Stray</td>\n",
       "      <td>Normal</td>\n",
       "      <td>Dog</td>\n",
       "      <td>Chihuahua Shorthair Mix</td>\n",
       "      <td>Black/White</td>\n",
       "      <td>5110</td>\n",
       "      <td>Return to Owner</td>\n",
       "      <td>5208</td>\n",
       "      <td>0</td>\n",
       "    </tr>\n",
       "    <tr>\n",
       "      <th>3</th>\n",
       "      <td>Euthanasia Request</td>\n",
       "      <td>Sick</td>\n",
       "      <td>Dog</td>\n",
       "      <td>German Shepherd Mix</td>\n",
       "      <td>Tan</td>\n",
       "      <td>4745</td>\n",
       "      <td>Euthanasia</td>\n",
       "      <td>4880</td>\n",
       "      <td>0</td>\n",
       "    </tr>\n",
       "    <tr>\n",
       "      <th>5</th>\n",
       "      <td>Owner Surrender</td>\n",
       "      <td>Normal</td>\n",
       "      <td>Dog</td>\n",
       "      <td>Parson Russell Terrier Mix</td>\n",
       "      <td>Brown/White</td>\n",
       "      <td>4380</td>\n",
       "      <td>Transfer</td>\n",
       "      <td>4454</td>\n",
       "      <td>11</td>\n",
       "    </tr>\n",
       "    <tr>\n",
       "      <th>6</th>\n",
       "      <td>Stray</td>\n",
       "      <td>Normal</td>\n",
       "      <td>Dog</td>\n",
       "      <td>Bullmastiff Mix</td>\n",
       "      <td>Black/White</td>\n",
       "      <td>4745</td>\n",
       "      <td>Return to Owner</td>\n",
       "      <td>4997</td>\n",
       "      <td>0</td>\n",
       "    </tr>\n",
       "  </tbody>\n",
       "</table>\n",
       "</div>"
      ],
      "text/plain": [
       "          intake_type intake_condition animal_type_intake  \\\n",
       "0       Public Assist           Normal                Dog   \n",
       "1               Stray           Normal                Dog   \n",
       "3  Euthanasia Request             Sick                Dog   \n",
       "5     Owner Surrender           Normal                Dog   \n",
       "6               Stray           Normal                Dog   \n",
       "\n",
       "                 breed_intake color_intake  age_upon_intake(days)  \\\n",
       "0       Shetland Sheepdog Mix  White/Black                   5475   \n",
       "1     Chihuahua Shorthair Mix  Black/White                   5110   \n",
       "3         German Shepherd Mix          Tan                   4745   \n",
       "5  Parson Russell Terrier Mix  Brown/White                   4380   \n",
       "6             Bullmastiff Mix  Black/White                   4745   \n",
       "\n",
       "      outcome_type  age_upon_outcome(days)  days_in_shelter  \n",
       "0  Return to Owner                    5485                6  \n",
       "1  Return to Owner                    5208                0  \n",
       "3       Euthanasia                    4880                0  \n",
       "5         Transfer                    4454               11  \n",
       "6  Return to Owner                    4997                0  "
      ]
     },
     "execution_count": 77,
     "metadata": {},
     "output_type": "execute_result"
    }
   ],
   "source": [
    "df_dog_ML.head()"
   ]
  },
  {
   "cell_type": "markdown",
   "id": "f149ed93",
   "metadata": {},
   "source": [
    "### Checking for the unique values of the all the categories that we choose for ML."
   ]
  },
  {
   "cell_type": "code",
   "execution_count": 78,
   "id": "c89838d3",
   "metadata": {},
   "outputs": [
    {
     "name": "stdout",
     "output_type": "stream",
     "text": [
      "intake_type 5\n",
      "intake_condition 13\n",
      "animal_type_intake 1\n",
      "breed_intake 2453\n",
      "color_intake 386\n",
      "outcome_type 10\n"
     ]
    }
   ],
   "source": [
    "col = ['intake_type','intake_condition','animal_type_intake','breed_intake','color_intake','outcome_type']\n",
    "\n",
    "for col in df_dog_ML[col]:\n",
    "    print(col,df_dog_ML[col].nunique())\n"
   ]
  },
  {
   "cell_type": "code",
   "execution_count": 79,
   "id": "e69fb57b",
   "metadata": {},
   "outputs": [
    {
     "data": {
      "text/plain": [
       "array(['Normal', 'Sick', 'Injured', 'Aged', 'Nursing', 'Medical', 'Other',\n",
       "       'Pregnant', 'Neonatal', 'Behavior', 'Feral', 'Med Urgent',\n",
       "       'Med Attn'], dtype=object)"
      ]
     },
     "execution_count": 79,
     "metadata": {},
     "output_type": "execute_result"
    }
   ],
   "source": [
    "df_dog_ML['intake_condition'].unique()"
   ]
  },
  {
   "cell_type": "markdown",
   "id": "fe942cbb",
   "metadata": {},
   "source": [
    "### Hot encoding color_intake to 10 categories and other  (616 in total)"
   ]
  },
  {
   "cell_type": "code",
   "execution_count": 80,
   "id": "9d5ac96e",
   "metadata": {},
   "outputs": [
    {
     "data": {
      "text/plain": [
       "Black/White    9464\n",
       "Brown/White    4577\n",
       "White          4261\n",
       "Tan/White      4204\n",
       "Black          4195\n",
       "Tan            3526\n",
       "Brown          3208\n",
       "Black/Tan      3070\n",
       "Tricolor       3068\n",
       "Black/Brown    2895\n",
       "Name: color_intake, dtype: int64"
      ]
     },
     "execution_count": 80,
     "metadata": {},
     "output_type": "execute_result"
    }
   ],
   "source": [
    "# finding the count of all categories in color_intake\n",
    "color_intake_counts = df_dog_ML.color_intake.value_counts()\n",
    "color_intake_counts.head(10)"
   ]
  },
  {
   "cell_type": "code",
   "execution_count": 81,
   "id": "e7fe377e",
   "metadata": {},
   "outputs": [
    {
     "data": {
      "text/plain": [
       "<AxesSubplot:ylabel='Density'>"
      ]
     },
     "execution_count": 81,
     "metadata": {},
     "output_type": "execute_result"
    },
    {
     "data": {
      "image/png": "[encoded data removed]",
      "text/plain": [
       "<Figure size 432x288 with 1 Axes>"
      ]
     },
     "metadata": {
      "needs_background": "light"
     },
     "output_type": "display_data"
    }
   ],
   "source": [
    "color_intake_counts.plot.density()"
   ]
  },
  {
   "cell_type": "code",
   "execution_count": 82,
   "id": "2f5dac67",
   "metadata": {},
   "outputs": [
    {
     "data": {
      "text/plain": [
       "Other          37646\n",
       "Black/White     9464\n",
       "Brown/White     4577\n",
       "White           4261\n",
       "Tan/White       4204\n",
       "Black           4195\n",
       "Tan             3526\n",
       "Brown           3208\n",
       "Black/Tan       3070\n",
       "Tricolor        3068\n",
       "Black/Brown     2895\n",
       "Name: color_intake, dtype: int64"
      ]
     },
     "execution_count": 82,
     "metadata": {},
     "output_type": "execute_result"
    }
   ],
   "source": [
    "# Determine which values to replace\n",
    "replace_color_intake = list(color_intake_counts[color_intake_counts < 2895].index)\n",
    "\n",
    "# Replace in DataFrame\n",
    "for color in replace_color_intake:\n",
    "    df_dog_ML.color_intake = df_dog_ML.color_intake.replace(color,\"Other\")\n",
    "\n",
    "\n",
    "# Check to make sure binning was successful\n",
    "df_dog_ML.color_intake.value_counts()\n"
   ]
  },
  {
   "cell_type": "code",
   "execution_count": 83,
   "id": "76afc0d0",
   "metadata": {},
   "outputs": [
    {
     "data": {
      "text/html": [
       "<div>\n",
       "<style scoped>\n",
       "    .dataframe tbody tr th:only-of-type {\n",
       "        vertical-align: middle;\n",
       "    }\n",
       "\n",
       "    .dataframe tbody tr th {\n",
       "        vertical-align: top;\n",
       "    }\n",
       "\n",
       "    .dataframe thead th {\n",
       "        text-align: right;\n",
       "    }\n",
       "</style>\n",
       "<table border=\"1\" class=\"dataframe\">\n",
       "  <thead>\n",
       "    <tr style=\"text-align: right;\">\n",
       "      <th></th>\n",
       "      <th>color_intake_Black</th>\n",
       "      <th>color_intake_Black/Brown</th>\n",
       "      <th>color_intake_Black/Tan</th>\n",
       "      <th>color_intake_Black/White</th>\n",
       "      <th>color_intake_Brown</th>\n",
       "      <th>color_intake_Brown/White</th>\n",
       "      <th>color_intake_Other</th>\n",
       "      <th>color_intake_Tan</th>\n",
       "      <th>color_intake_Tan/White</th>\n",
       "      <th>color_intake_Tricolor</th>\n",
       "      <th>color_intake_White</th>\n",
       "    </tr>\n",
       "  </thead>\n",
       "  <tbody>\n",
       "    <tr>\n",
       "      <th>0</th>\n",
       "      <td>0.0</td>\n",
       "      <td>0.0</td>\n",
       "      <td>0.0</td>\n",
       "      <td>0.0</td>\n",
       "      <td>0.0</td>\n",
       "      <td>0.0</td>\n",
       "      <td>1.0</td>\n",
       "      <td>0.0</td>\n",
       "      <td>0.0</td>\n",
       "      <td>0.0</td>\n",
       "      <td>0.0</td>\n",
       "    </tr>\n",
       "    <tr>\n",
       "      <th>1</th>\n",
       "      <td>0.0</td>\n",
       "      <td>0.0</td>\n",
       "      <td>0.0</td>\n",
       "      <td>1.0</td>\n",
       "      <td>0.0</td>\n",
       "      <td>0.0</td>\n",
       "      <td>0.0</td>\n",
       "      <td>0.0</td>\n",
       "      <td>0.0</td>\n",
       "      <td>0.0</td>\n",
       "      <td>0.0</td>\n",
       "    </tr>\n",
       "    <tr>\n",
       "      <th>2</th>\n",
       "      <td>0.0</td>\n",
       "      <td>0.0</td>\n",
       "      <td>0.0</td>\n",
       "      <td>0.0</td>\n",
       "      <td>0.0</td>\n",
       "      <td>0.0</td>\n",
       "      <td>0.0</td>\n",
       "      <td>1.0</td>\n",
       "      <td>0.0</td>\n",
       "      <td>0.0</td>\n",
       "      <td>0.0</td>\n",
       "    </tr>\n",
       "    <tr>\n",
       "      <th>3</th>\n",
       "      <td>0.0</td>\n",
       "      <td>0.0</td>\n",
       "      <td>0.0</td>\n",
       "      <td>0.0</td>\n",
       "      <td>0.0</td>\n",
       "      <td>1.0</td>\n",
       "      <td>0.0</td>\n",
       "      <td>0.0</td>\n",
       "      <td>0.0</td>\n",
       "      <td>0.0</td>\n",
       "      <td>0.0</td>\n",
       "    </tr>\n",
       "    <tr>\n",
       "      <th>4</th>\n",
       "      <td>0.0</td>\n",
       "      <td>0.0</td>\n",
       "      <td>0.0</td>\n",
       "      <td>1.0</td>\n",
       "      <td>0.0</td>\n",
       "      <td>0.0</td>\n",
       "      <td>0.0</td>\n",
       "      <td>0.0</td>\n",
       "      <td>0.0</td>\n",
       "      <td>0.0</td>\n",
       "      <td>0.0</td>\n",
       "    </tr>\n",
       "  </tbody>\n",
       "</table>\n",
       "</div>"
      ],
      "text/plain": [
       "   color_intake_Black  color_intake_Black/Brown  color_intake_Black/Tan  \\\n",
       "0                 0.0                       0.0                     0.0   \n",
       "1                 0.0                       0.0                     0.0   \n",
       "2                 0.0                       0.0                     0.0   \n",
       "3                 0.0                       0.0                     0.0   \n",
       "4                 0.0                       0.0                     0.0   \n",
       "\n",
       "   color_intake_Black/White  color_intake_Brown  color_intake_Brown/White  \\\n",
       "0                       0.0                 0.0                       0.0   \n",
       "1                       1.0                 0.0                       0.0   \n",
       "2                       0.0                 0.0                       0.0   \n",
       "3                       0.0                 0.0                       1.0   \n",
       "4                       1.0                 0.0                       0.0   \n",
       "\n",
       "   color_intake_Other  color_intake_Tan  color_intake_Tan/White  \\\n",
       "0                 1.0               0.0                     0.0   \n",
       "1                 0.0               0.0                     0.0   \n",
       "2                 0.0               1.0                     0.0   \n",
       "3                 0.0               0.0                     0.0   \n",
       "4                 0.0               0.0                     0.0   \n",
       "\n",
       "   color_intake_Tricolor  color_intake_White  \n",
       "0                    0.0                 0.0  \n",
       "1                    0.0                 0.0  \n",
       "2                    0.0                 0.0  \n",
       "3                    0.0                 0.0  \n",
       "4                    0.0                 0.0  "
      ]
     },
     "execution_count": 83,
     "metadata": {},
     "output_type": "execute_result"
    }
   ],
   "source": [
    "enc_color = OneHotEncoder(sparse=False)\n",
    "\n",
    "# Fit the encoder and produce encoded DataFrame\n",
    "encode_df_color = pd.DataFrame(enc_color.fit_transform(df_dog_ML.color_intake.values.reshape(-1,1)))\n",
    "#print(encode_df)\n",
    "# Rename encoded columns\n",
    "encode_df_color.columns = enc_color.get_feature_names_out(['color_intake'])\n",
    "encode_df_color.head()"
   ]
  },
  {
   "cell_type": "code",
   "execution_count": 84,
   "id": "8f62844f",
   "metadata": {},
   "outputs": [
    {
     "name": "stderr",
     "output_type": "stream",
     "text": [
      "/var/folders/3m/mj278b89297553km9_g94ghr0000gn/T/ipykernel_2461/1457782111.py:1: FutureWarning: In a future version of pandas all arguments of DataFrame.drop except for the argument 'labels' will be keyword-only.\n",
      "  df_dog_ML=df_dog_ML.merge(encode_df_color,left_index=True,right_index=True).drop(\"color_intake\",1)\n"
     ]
    }
   ],
   "source": [
    "df_dog_ML=df_dog_ML.merge(encode_df_color,left_index=True,right_index=True).drop(\"color_intake\",1)\n"
   ]
  },
  {
   "cell_type": "markdown",
   "id": "18eb584b",
   "metadata": {},
   "source": [
    "### Hot encoding breed_intake to 10 categories and other (2749 in total)"
   ]
  },
  {
   "cell_type": "code",
   "execution_count": 85,
   "id": "f75b1bdb",
   "metadata": {},
   "outputs": [
    {
     "data": {
      "text/plain": [
       "Pit Bull Mix                 5332\n",
       "Labrador Retriever Mix       4414\n",
       "Chihuahua Shorthair Mix      3859\n",
       "German Shepherd Mix          2007\n",
       "Pit Bull                     1212\n",
       "Australian Cattle Dog Mix    1043\n",
       "Labrador Retriever            830\n",
       "Chihuahua Shorthair           821\n",
       "German Shepherd               696\n",
       "Dachshund Mix                 687\n",
       "Name: breed_intake, dtype: int64"
      ]
     },
     "execution_count": 85,
     "metadata": {},
     "output_type": "execute_result"
    }
   ],
   "source": [
    "breed_intake_counts = df_dog_ML.breed_intake.value_counts()\n",
    "breed_intake_counts.head(10)\n"
   ]
  },
  {
   "cell_type": "code",
   "execution_count": 86,
   "id": "098ae3f5",
   "metadata": {},
   "outputs": [
    {
     "data": {
      "text/plain": [
       "<AxesSubplot:ylabel='Density'>"
      ]
     },
     "execution_count": 86,
     "metadata": {},
     "output_type": "execute_result"
    },
    {
     "data": {
      "image/png": "[encoded data removed]",
      "text/plain": [
       "<Figure size 432x288 with 1 Axes>"
      ]
     },
     "metadata": {
      "needs_background": "light"
     },
     "output_type": "display_data"
    }
   ],
   "source": [
    "breed_intake_counts.plot.density()"
   ]
  },
  {
   "cell_type": "code",
   "execution_count": 87,
   "id": "1f7f016c",
   "metadata": {},
   "outputs": [
    {
     "data": {
      "text/plain": [
       "Other                        25849\n",
       "Pit Bull Mix                  5332\n",
       "Labrador Retriever Mix        4414\n",
       "Chihuahua Shorthair Mix       3859\n",
       "German Shepherd Mix           2007\n",
       "Pit Bull                      1212\n",
       "Australian Cattle Dog Mix     1043\n",
       "Labrador Retriever             830\n",
       "Chihuahua Shorthair            821\n",
       "German Shepherd                696\n",
       "Dachshund Mix                  687\n",
       "Name: breed_intake, dtype: int64"
      ]
     },
     "execution_count": 87,
     "metadata": {},
     "output_type": "execute_result"
    }
   ],
   "source": [
    "# Determine which values to replace\n",
    "replace_breed_intake = list(breed_intake_counts[breed_intake_counts < 687].index)\n",
    "replace_breed_intake\n",
    "# # Replace in DataFrame\n",
    "for breed in replace_breed_intake:\n",
    "    df_dog_ML.breed_intake = df_dog_ML.breed_intake.replace(breed,\"Other\")\n",
    "\n",
    "\n",
    "\n",
    "# # # Check to make sure binning was successful\n",
    "df_dog_ML.breed_intake.value_counts()\n"
   ]
  },
  {
   "cell_type": "code",
   "execution_count": 88,
   "id": "4c75f272",
   "metadata": {},
   "outputs": [
    {
     "data": {
      "text/html": [
       "<div>\n",
       "<style scoped>\n",
       "    .dataframe tbody tr th:only-of-type {\n",
       "        vertical-align: middle;\n",
       "    }\n",
       "\n",
       "    .dataframe tbody tr th {\n",
       "        vertical-align: top;\n",
       "    }\n",
       "\n",
       "    .dataframe thead th {\n",
       "        text-align: right;\n",
       "    }\n",
       "</style>\n",
       "<table border=\"1\" class=\"dataframe\">\n",
       "  <thead>\n",
       "    <tr style=\"text-align: right;\">\n",
       "      <th></th>\n",
       "      <th>breed_intake_Australian Cattle Dog Mix</th>\n",
       "      <th>breed_intake_Chihuahua Shorthair</th>\n",
       "      <th>breed_intake_Chihuahua Shorthair Mix</th>\n",
       "      <th>breed_intake_Dachshund Mix</th>\n",
       "      <th>breed_intake_German Shepherd</th>\n",
       "      <th>breed_intake_German Shepherd Mix</th>\n",
       "      <th>breed_intake_Labrador Retriever</th>\n",
       "      <th>breed_intake_Labrador Retriever Mix</th>\n",
       "      <th>breed_intake_Other</th>\n",
       "      <th>breed_intake_Pit Bull</th>\n",
       "      <th>breed_intake_Pit Bull Mix</th>\n",
       "    </tr>\n",
       "  </thead>\n",
       "  <tbody>\n",
       "    <tr>\n",
       "      <th>0</th>\n",
       "      <td>0.0</td>\n",
       "      <td>0.0</td>\n",
       "      <td>0.0</td>\n",
       "      <td>0.0</td>\n",
       "      <td>0.0</td>\n",
       "      <td>0.0</td>\n",
       "      <td>0.0</td>\n",
       "      <td>0.0</td>\n",
       "      <td>1.0</td>\n",
       "      <td>0.0</td>\n",
       "      <td>0.0</td>\n",
       "    </tr>\n",
       "    <tr>\n",
       "      <th>1</th>\n",
       "      <td>0.0</td>\n",
       "      <td>0.0</td>\n",
       "      <td>1.0</td>\n",
       "      <td>0.0</td>\n",
       "      <td>0.0</td>\n",
       "      <td>0.0</td>\n",
       "      <td>0.0</td>\n",
       "      <td>0.0</td>\n",
       "      <td>0.0</td>\n",
       "      <td>0.0</td>\n",
       "      <td>0.0</td>\n",
       "    </tr>\n",
       "    <tr>\n",
       "      <th>2</th>\n",
       "      <td>0.0</td>\n",
       "      <td>0.0</td>\n",
       "      <td>0.0</td>\n",
       "      <td>0.0</td>\n",
       "      <td>0.0</td>\n",
       "      <td>1.0</td>\n",
       "      <td>0.0</td>\n",
       "      <td>0.0</td>\n",
       "      <td>0.0</td>\n",
       "      <td>0.0</td>\n",
       "      <td>0.0</td>\n",
       "    </tr>\n",
       "    <tr>\n",
       "      <th>3</th>\n",
       "      <td>0.0</td>\n",
       "      <td>0.0</td>\n",
       "      <td>0.0</td>\n",
       "      <td>0.0</td>\n",
       "      <td>0.0</td>\n",
       "      <td>0.0</td>\n",
       "      <td>0.0</td>\n",
       "      <td>0.0</td>\n",
       "      <td>1.0</td>\n",
       "      <td>0.0</td>\n",
       "      <td>0.0</td>\n",
       "    </tr>\n",
       "    <tr>\n",
       "      <th>4</th>\n",
       "      <td>0.0</td>\n",
       "      <td>0.0</td>\n",
       "      <td>0.0</td>\n",
       "      <td>0.0</td>\n",
       "      <td>0.0</td>\n",
       "      <td>0.0</td>\n",
       "      <td>0.0</td>\n",
       "      <td>0.0</td>\n",
       "      <td>1.0</td>\n",
       "      <td>0.0</td>\n",
       "      <td>0.0</td>\n",
       "    </tr>\n",
       "  </tbody>\n",
       "</table>\n",
       "</div>"
      ],
      "text/plain": [
       "   breed_intake_Australian Cattle Dog Mix  breed_intake_Chihuahua Shorthair  \\\n",
       "0                                     0.0                               0.0   \n",
       "1                                     0.0                               0.0   \n",
       "2                                     0.0                               0.0   \n",
       "3                                     0.0                               0.0   \n",
       "4                                     0.0                               0.0   \n",
       "\n",
       "   breed_intake_Chihuahua Shorthair Mix  breed_intake_Dachshund Mix  \\\n",
       "0                                   0.0                         0.0   \n",
       "1                                   1.0                         0.0   \n",
       "2                                   0.0                         0.0   \n",
       "3                                   0.0                         0.0   \n",
       "4                                   0.0                         0.0   \n",
       "\n",
       "   breed_intake_German Shepherd  breed_intake_German Shepherd Mix  \\\n",
       "0                           0.0                               0.0   \n",
       "1                           0.0                               0.0   \n",
       "2                           0.0                               1.0   \n",
       "3                           0.0                               0.0   \n",
       "4                           0.0                               0.0   \n",
       "\n",
       "   breed_intake_Labrador Retriever  breed_intake_Labrador Retriever Mix  \\\n",
       "0                              0.0                                  0.0   \n",
       "1                              0.0                                  0.0   \n",
       "2                              0.0                                  0.0   \n",
       "3                              0.0                                  0.0   \n",
       "4                              0.0                                  0.0   \n",
       "\n",
       "   breed_intake_Other  breed_intake_Pit Bull  breed_intake_Pit Bull Mix  \n",
       "0                 1.0                    0.0                        0.0  \n",
       "1                 0.0                    0.0                        0.0  \n",
       "2                 0.0                    0.0                        0.0  \n",
       "3                 1.0                    0.0                        0.0  \n",
       "4                 1.0                    0.0                        0.0  "
      ]
     },
     "execution_count": 88,
     "metadata": {},
     "output_type": "execute_result"
    }
   ],
   "source": [
    "enc_breed = OneHotEncoder(sparse=False)\n",
    "\n",
    "# Fit the encoder and produce encoded DataFrame\n",
    "encode_df_breed = pd.DataFrame(enc_breed.fit_transform(df_dog_ML.breed_intake.values.reshape(-1,1)))\n",
    "#print(encode_df)\n",
    "# Rename encoded columns\n",
    "encode_df_breed.columns = enc_breed.get_feature_names_out(['breed_intake'])\n",
    "encode_df_breed.head()"
   ]
  },
  {
   "cell_type": "code",
   "execution_count": 89,
   "id": "b977a7e5",
   "metadata": {},
   "outputs": [
    {
     "name": "stderr",
     "output_type": "stream",
     "text": [
      "/var/folders/3m/mj278b89297553km9_g94ghr0000gn/T/ipykernel_2461/3827914156.py:1: FutureWarning: In a future version of pandas all arguments of DataFrame.drop except for the argument 'labels' will be keyword-only.\n",
      "  df_dog_ML=df_dog_ML.merge(encode_df_breed,left_index=True,right_index=True).drop(\"breed_intake\",1)\n"
     ]
    }
   ],
   "source": [
    "df_dog_ML=df_dog_ML.merge(encode_df_breed,left_index=True,right_index=True).drop(\"breed_intake\",1)\n"
   ]
  },
  {
   "cell_type": "code",
   "execution_count": 90,
   "id": "553aba9d",
   "metadata": {},
   "outputs": [
    {
     "data": {
      "text/html": [
       "<div>\n",
       "<style scoped>\n",
       "    .dataframe tbody tr th:only-of-type {\n",
       "        vertical-align: middle;\n",
       "    }\n",
       "\n",
       "    .dataframe tbody tr th {\n",
       "        vertical-align: top;\n",
       "    }\n",
       "\n",
       "    .dataframe thead th {\n",
       "        text-align: right;\n",
       "    }\n",
       "</style>\n",
       "<table border=\"1\" class=\"dataframe\">\n",
       "  <thead>\n",
       "    <tr style=\"text-align: right;\">\n",
       "      <th></th>\n",
       "      <th>intake_type</th>\n",
       "      <th>intake_condition</th>\n",
       "      <th>animal_type_intake</th>\n",
       "      <th>age_upon_intake(days)</th>\n",
       "      <th>outcome_type</th>\n",
       "      <th>age_upon_outcome(days)</th>\n",
       "      <th>days_in_shelter</th>\n",
       "      <th>color_intake_Black</th>\n",
       "      <th>color_intake_Black/Brown</th>\n",
       "      <th>color_intake_Black/Tan</th>\n",
       "      <th>...</th>\n",
       "      <th>breed_intake_Chihuahua Shorthair</th>\n",
       "      <th>breed_intake_Chihuahua Shorthair Mix</th>\n",
       "      <th>breed_intake_Dachshund Mix</th>\n",
       "      <th>breed_intake_German Shepherd</th>\n",
       "      <th>breed_intake_German Shepherd Mix</th>\n",
       "      <th>breed_intake_Labrador Retriever</th>\n",
       "      <th>breed_intake_Labrador Retriever Mix</th>\n",
       "      <th>breed_intake_Other</th>\n",
       "      <th>breed_intake_Pit Bull</th>\n",
       "      <th>breed_intake_Pit Bull Mix</th>\n",
       "    </tr>\n",
       "  </thead>\n",
       "  <tbody>\n",
       "    <tr>\n",
       "      <th>0</th>\n",
       "      <td>Public Assist</td>\n",
       "      <td>Normal</td>\n",
       "      <td>Dog</td>\n",
       "      <td>5475</td>\n",
       "      <td>Return to Owner</td>\n",
       "      <td>5485</td>\n",
       "      <td>6</td>\n",
       "      <td>0.0</td>\n",
       "      <td>0.0</td>\n",
       "      <td>0.0</td>\n",
       "      <td>...</td>\n",
       "      <td>0.0</td>\n",
       "      <td>0.0</td>\n",
       "      <td>0.0</td>\n",
       "      <td>0.0</td>\n",
       "      <td>0.0</td>\n",
       "      <td>0.0</td>\n",
       "      <td>0.0</td>\n",
       "      <td>1.0</td>\n",
       "      <td>0.0</td>\n",
       "      <td>0.0</td>\n",
       "    </tr>\n",
       "    <tr>\n",
       "      <th>1</th>\n",
       "      <td>Stray</td>\n",
       "      <td>Normal</td>\n",
       "      <td>Dog</td>\n",
       "      <td>5110</td>\n",
       "      <td>Return to Owner</td>\n",
       "      <td>5208</td>\n",
       "      <td>0</td>\n",
       "      <td>0.0</td>\n",
       "      <td>0.0</td>\n",
       "      <td>0.0</td>\n",
       "      <td>...</td>\n",
       "      <td>0.0</td>\n",
       "      <td>1.0</td>\n",
       "      <td>0.0</td>\n",
       "      <td>0.0</td>\n",
       "      <td>0.0</td>\n",
       "      <td>0.0</td>\n",
       "      <td>0.0</td>\n",
       "      <td>0.0</td>\n",
       "      <td>0.0</td>\n",
       "      <td>0.0</td>\n",
       "    </tr>\n",
       "  </tbody>\n",
       "</table>\n",
       "<p>2 rows × 29 columns</p>\n",
       "</div>"
      ],
      "text/plain": [
       "     intake_type intake_condition animal_type_intake  age_upon_intake(days)  \\\n",
       "0  Public Assist           Normal                Dog                   5475   \n",
       "1          Stray           Normal                Dog                   5110   \n",
       "\n",
       "      outcome_type  age_upon_outcome(days)  days_in_shelter  \\\n",
       "0  Return to Owner                    5485                6   \n",
       "1  Return to Owner                    5208                0   \n",
       "\n",
       "   color_intake_Black  color_intake_Black/Brown  color_intake_Black/Tan  ...  \\\n",
       "0                 0.0                       0.0                     0.0  ...   \n",
       "1                 0.0                       0.0                     0.0  ...   \n",
       "\n",
       "   breed_intake_Chihuahua Shorthair  breed_intake_Chihuahua Shorthair Mix  \\\n",
       "0                               0.0                                   0.0   \n",
       "1                               0.0                                   1.0   \n",
       "\n",
       "   breed_intake_Dachshund Mix  breed_intake_German Shepherd  \\\n",
       "0                         0.0                           0.0   \n",
       "1                         0.0                           0.0   \n",
       "\n",
       "   breed_intake_German Shepherd Mix  breed_intake_Labrador Retriever  \\\n",
       "0                               0.0                              0.0   \n",
       "1                               0.0                              0.0   \n",
       "\n",
       "   breed_intake_Labrador Retriever Mix  breed_intake_Other  \\\n",
       "0                                  0.0                 1.0   \n",
       "1                                  0.0                 0.0   \n",
       "\n",
       "   breed_intake_Pit Bull  breed_intake_Pit Bull Mix  \n",
       "0                    0.0                        0.0  \n",
       "1                    0.0                        0.0  \n",
       "\n",
       "[2 rows x 29 columns]"
      ]
     },
     "execution_count": 90,
     "metadata": {},
     "output_type": "execute_result"
    }
   ],
   "source": [
    "df_dog_ML.head(2)"
   ]
  },
  {
   "cell_type": "markdown",
   "id": "7ce65f5d",
   "metadata": {},
   "source": [
    "### Hot encoding intake_condition to 10 categories and other (17 in total)"
   ]
  },
  {
   "cell_type": "code",
   "execution_count": 91,
   "id": "8f73c18b",
   "metadata": {},
   "outputs": [
    {
     "data": {
      "text/plain": [
       "12"
      ]
     },
     "execution_count": 91,
     "metadata": {},
     "output_type": "execute_result"
    }
   ],
   "source": [
    "df_dog_ML.intake_condition.nunique()"
   ]
  },
  {
   "cell_type": "code",
   "execution_count": 92,
   "id": "fa749e79",
   "metadata": {},
   "outputs": [
    {
     "data": {
      "text/plain": [
       "Normal        24738\n",
       "Injured        1198\n",
       "Sick            700\n",
       "Nursing         394\n",
       "Aged            142\n",
       "Other            65\n",
       "Medical          57\n",
       "Neonatal         37\n",
       "Pregnant         19\n",
       "Behavior         13\n",
       "Feral             5\n",
       "Med Urgent        1\n",
       "Name: intake_condition, dtype: int64"
      ]
     },
     "execution_count": 92,
     "metadata": {},
     "output_type": "execute_result"
    }
   ],
   "source": [
    "# finding the count of all categories in color_intake\n",
    "intake_condition_count = df_dog_ML.intake_condition.value_counts()\n",
    "intake_condition_count"
   ]
  },
  {
   "cell_type": "code",
   "execution_count": 93,
   "id": "d019c839",
   "metadata": {},
   "outputs": [
    {
     "data": {
      "text/plain": [
       "<AxesSubplot:ylabel='Density'>"
      ]
     },
     "execution_count": 93,
     "metadata": {},
     "output_type": "execute_result"
    },
    {
     "data": {
      "image/png": "[encoded data removed]",
      "text/plain": [
       "<Figure size 432x288 with 1 Axes>"
      ]
     },
     "metadata": {
      "needs_background": "light"
     },
     "output_type": "display_data"
    }
   ],
   "source": [
    "intake_condition_count.plot.density()"
   ]
  },
  {
   "cell_type": "code",
   "execution_count": 94,
   "id": "61e142f5",
   "metadata": {},
   "outputs": [],
   "source": [
    "intake_condition_normal = ['Normal','Behavior']\n",
    "intake_condition_aged = ['Aged'] \n",
    "intake_condtion_other = ['Injured','Sick','Nursing','Neonatal','Other','Medical','Feral','Pregnant','Med Urgent']"
   ]
  },
  {
   "cell_type": "code",
   "execution_count": 95,
   "id": "ae548d1c",
   "metadata": {},
   "outputs": [
    {
     "data": {
      "text/plain": [
       "Normal    24751\n",
       "Other      2476\n",
       "Aged        142\n",
       "Name: intake_condition, dtype: int64"
      ]
     },
     "execution_count": 95,
     "metadata": {},
     "output_type": "execute_result"
    }
   ],
   "source": [
    "# Replace in dataframe based on the above intake_conditions.\n",
    "\n",
    "# Replace in DataFrame\n",
    "for condition in intake_condition_normal:\n",
    "    df_dog_ML.intake_condition = df_dog_ML.intake_condition.replace(condition,\"Normal\")\n",
    "    \n",
    "for condition in intake_condition_aged:\n",
    "    df_dog_ML.intake_condition = df_dog_ML.intake_condition.replace(condition,\"Aged\")\n",
    "\n",
    "for condition in intake_condtion_other:\n",
    "    df_dog_ML.intake_condition = df_dog_ML.intake_condition.replace(condition,\"Other\")\n",
    "\n",
    "# Check to make sure binning was successful\n",
    "df_dog_ML.intake_condition.value_counts()"
   ]
  },
  {
   "cell_type": "code",
   "execution_count": 96,
   "id": "779a5813",
   "metadata": {},
   "outputs": [
    {
     "data": {
      "text/html": [
       "<div>\n",
       "<style scoped>\n",
       "    .dataframe tbody tr th:only-of-type {\n",
       "        vertical-align: middle;\n",
       "    }\n",
       "\n",
       "    .dataframe tbody tr th {\n",
       "        vertical-align: top;\n",
       "    }\n",
       "\n",
       "    .dataframe thead th {\n",
       "        text-align: right;\n",
       "    }\n",
       "</style>\n",
       "<table border=\"1\" class=\"dataframe\">\n",
       "  <thead>\n",
       "    <tr style=\"text-align: right;\">\n",
       "      <th></th>\n",
       "      <th>intake_condition_Aged</th>\n",
       "      <th>intake_condition_Normal</th>\n",
       "      <th>intake_condition_Other</th>\n",
       "    </tr>\n",
       "  </thead>\n",
       "  <tbody>\n",
       "    <tr>\n",
       "      <th>0</th>\n",
       "      <td>0.0</td>\n",
       "      <td>1.0</td>\n",
       "      <td>0.0</td>\n",
       "    </tr>\n",
       "    <tr>\n",
       "      <th>1</th>\n",
       "      <td>0.0</td>\n",
       "      <td>1.0</td>\n",
       "      <td>0.0</td>\n",
       "    </tr>\n",
       "    <tr>\n",
       "      <th>2</th>\n",
       "      <td>0.0</td>\n",
       "      <td>0.0</td>\n",
       "      <td>1.0</td>\n",
       "    </tr>\n",
       "    <tr>\n",
       "      <th>3</th>\n",
       "      <td>0.0</td>\n",
       "      <td>1.0</td>\n",
       "      <td>0.0</td>\n",
       "    </tr>\n",
       "    <tr>\n",
       "      <th>4</th>\n",
       "      <td>0.0</td>\n",
       "      <td>1.0</td>\n",
       "      <td>0.0</td>\n",
       "    </tr>\n",
       "  </tbody>\n",
       "</table>\n",
       "</div>"
      ],
      "text/plain": [
       "   intake_condition_Aged  intake_condition_Normal  intake_condition_Other\n",
       "0                    0.0                      1.0                     0.0\n",
       "1                    0.0                      1.0                     0.0\n",
       "2                    0.0                      0.0                     1.0\n",
       "3                    0.0                      1.0                     0.0\n",
       "4                    0.0                      1.0                     0.0"
      ]
     },
     "execution_count": 96,
     "metadata": {},
     "output_type": "execute_result"
    }
   ],
   "source": [
    "enc_condition = OneHotEncoder(sparse=False)\n",
    "\n",
    "# Fit the encoder and produce encoded DataFrame\n",
    "encode_df_condition = pd.DataFrame(enc_condition.fit_transform(df_dog_ML.intake_condition.values.reshape(-1,1)))\n",
    "#print(encode_df)\n",
    "# Rename encoded columns\n",
    "encode_df_condition.columns = enc_condition.get_feature_names_out(['intake_condition'])\n",
    "encode_df_condition.head()"
   ]
  },
  {
   "cell_type": "code",
   "execution_count": 97,
   "id": "bc83931f",
   "metadata": {},
   "outputs": [
    {
     "name": "stderr",
     "output_type": "stream",
     "text": [
      "/var/folders/3m/mj278b89297553km9_g94ghr0000gn/T/ipykernel_2461/456107252.py:1: FutureWarning: In a future version of pandas all arguments of DataFrame.drop except for the argument 'labels' will be keyword-only.\n",
      "  df_dog_ML=df_dog_ML.merge(encode_df_condition,left_index=True,right_index=True).drop(\"intake_condition\",1)\n"
     ]
    }
   ],
   "source": [
    "df_dog_ML=df_dog_ML.merge(encode_df_condition,left_index=True,right_index=True).drop(\"intake_condition\",1)\n"
   ]
  },
  {
   "cell_type": "code",
   "execution_count": 98,
   "id": "b12d76fe",
   "metadata": {},
   "outputs": [
    {
     "data": {
      "text/html": [
       "<div>\n",
       "<style scoped>\n",
       "    .dataframe tbody tr th:only-of-type {\n",
       "        vertical-align: middle;\n",
       "    }\n",
       "\n",
       "    .dataframe tbody tr th {\n",
       "        vertical-align: top;\n",
       "    }\n",
       "\n",
       "    .dataframe thead th {\n",
       "        text-align: right;\n",
       "    }\n",
       "</style>\n",
       "<table border=\"1\" class=\"dataframe\">\n",
       "  <thead>\n",
       "    <tr style=\"text-align: right;\">\n",
       "      <th></th>\n",
       "      <th>intake_type</th>\n",
       "      <th>animal_type_intake</th>\n",
       "      <th>age_upon_intake(days)</th>\n",
       "      <th>outcome_type</th>\n",
       "      <th>age_upon_outcome(days)</th>\n",
       "      <th>days_in_shelter</th>\n",
       "      <th>color_intake_Black</th>\n",
       "      <th>color_intake_Black/Brown</th>\n",
       "      <th>color_intake_Black/Tan</th>\n",
       "      <th>color_intake_Black/White</th>\n",
       "      <th>...</th>\n",
       "      <th>breed_intake_German Shepherd</th>\n",
       "      <th>breed_intake_German Shepherd Mix</th>\n",
       "      <th>breed_intake_Labrador Retriever</th>\n",
       "      <th>breed_intake_Labrador Retriever Mix</th>\n",
       "      <th>breed_intake_Other</th>\n",
       "      <th>breed_intake_Pit Bull</th>\n",
       "      <th>breed_intake_Pit Bull Mix</th>\n",
       "      <th>intake_condition_Aged</th>\n",
       "      <th>intake_condition_Normal</th>\n",
       "      <th>intake_condition_Other</th>\n",
       "    </tr>\n",
       "  </thead>\n",
       "  <tbody>\n",
       "    <tr>\n",
       "      <th>0</th>\n",
       "      <td>Public Assist</td>\n",
       "      <td>Dog</td>\n",
       "      <td>5475</td>\n",
       "      <td>Return to Owner</td>\n",
       "      <td>5485</td>\n",
       "      <td>6</td>\n",
       "      <td>0.0</td>\n",
       "      <td>0.0</td>\n",
       "      <td>0.0</td>\n",
       "      <td>0.0</td>\n",
       "      <td>...</td>\n",
       "      <td>0.0</td>\n",
       "      <td>0.0</td>\n",
       "      <td>0.0</td>\n",
       "      <td>0.0</td>\n",
       "      <td>1.0</td>\n",
       "      <td>0.0</td>\n",
       "      <td>0.0</td>\n",
       "      <td>0.0</td>\n",
       "      <td>1.0</td>\n",
       "      <td>0.0</td>\n",
       "    </tr>\n",
       "    <tr>\n",
       "      <th>1</th>\n",
       "      <td>Stray</td>\n",
       "      <td>Dog</td>\n",
       "      <td>5110</td>\n",
       "      <td>Return to Owner</td>\n",
       "      <td>5208</td>\n",
       "      <td>0</td>\n",
       "      <td>0.0</td>\n",
       "      <td>0.0</td>\n",
       "      <td>0.0</td>\n",
       "      <td>1.0</td>\n",
       "      <td>...</td>\n",
       "      <td>0.0</td>\n",
       "      <td>0.0</td>\n",
       "      <td>0.0</td>\n",
       "      <td>0.0</td>\n",
       "      <td>0.0</td>\n",
       "      <td>0.0</td>\n",
       "      <td>0.0</td>\n",
       "      <td>0.0</td>\n",
       "      <td>1.0</td>\n",
       "      <td>0.0</td>\n",
       "    </tr>\n",
       "  </tbody>\n",
       "</table>\n",
       "<p>2 rows × 31 columns</p>\n",
       "</div>"
      ],
      "text/plain": [
       "     intake_type animal_type_intake  age_upon_intake(days)     outcome_type  \\\n",
       "0  Public Assist                Dog                   5475  Return to Owner   \n",
       "1          Stray                Dog                   5110  Return to Owner   \n",
       "\n",
       "   age_upon_outcome(days)  days_in_shelter  color_intake_Black  \\\n",
       "0                    5485                6                 0.0   \n",
       "1                    5208                0                 0.0   \n",
       "\n",
       "   color_intake_Black/Brown  color_intake_Black/Tan  color_intake_Black/White  \\\n",
       "0                       0.0                     0.0                       0.0   \n",
       "1                       0.0                     0.0                       1.0   \n",
       "\n",
       "   ...  breed_intake_German Shepherd  breed_intake_German Shepherd Mix  \\\n",
       "0  ...                           0.0                               0.0   \n",
       "1  ...                           0.0                               0.0   \n",
       "\n",
       "   breed_intake_Labrador Retriever  breed_intake_Labrador Retriever Mix  \\\n",
       "0                              0.0                                  0.0   \n",
       "1                              0.0                                  0.0   \n",
       "\n",
       "   breed_intake_Other  breed_intake_Pit Bull  breed_intake_Pit Bull Mix  \\\n",
       "0                 1.0                    0.0                        0.0   \n",
       "1                 0.0                    0.0                        0.0   \n",
       "\n",
       "   intake_condition_Aged  intake_condition_Normal  intake_condition_Other  \n",
       "0                    0.0                      1.0                     0.0  \n",
       "1                    0.0                      1.0                     0.0  \n",
       "\n",
       "[2 rows x 31 columns]"
      ]
     },
     "execution_count": 98,
     "metadata": {},
     "output_type": "execute_result"
    }
   ],
   "source": [
    "df_dog_ML.head(2)"
   ]
  },
  {
   "cell_type": "markdown",
   "id": "eca02a04",
   "metadata": {},
   "source": [
    "### Hot encoding intake_type to 0 and 1 for 5 categories"
   ]
  },
  {
   "cell_type": "code",
   "execution_count": 99,
   "id": "fcf164fa",
   "metadata": {},
   "outputs": [
    {
     "data": {
      "text/plain": [
       "5"
      ]
     },
     "execution_count": 99,
     "metadata": {},
     "output_type": "execute_result"
    }
   ],
   "source": [
    "df_dog_ML.intake_type.nunique()"
   ]
  },
  {
   "cell_type": "code",
   "execution_count": 100,
   "id": "c04586db",
   "metadata": {},
   "outputs": [
    {
     "data": {
      "text/plain": [
       "Stray                 10984\n",
       "Owner Surrender        3599\n",
       "Public Assist          1386\n",
       "Abandoned                85\n",
       "Euthanasia Request       33\n",
       "Name: intake_type, dtype: int64"
      ]
     },
     "execution_count": 100,
     "metadata": {},
     "output_type": "execute_result"
    }
   ],
   "source": [
    "# finding the count of all categories in color_intake\n",
    "intake_type_count = df_dog_ML.intake_type.value_counts()\n",
    "intake_type_count"
   ]
  },
  {
   "cell_type": "code",
   "execution_count": 101,
   "id": "b6aa3354",
   "metadata": {},
   "outputs": [
    {
     "data": {
      "text/plain": [
       "<AxesSubplot:ylabel='Density'>"
      ]
     },
     "execution_count": 101,
     "metadata": {},
     "output_type": "execute_result"
    },
    {
     "data": {
      "image/png": "[encoded data removed]",
      "text/plain": [
       "<Figure size 432x288 with 1 Axes>"
      ]
     },
     "metadata": {
      "needs_background": "light"
     },
     "output_type": "display_data"
    }
   ],
   "source": [
    "intake_type_count.plot.density()"
   ]
  },
  {
   "cell_type": "code",
   "execution_count": 102,
   "id": "54be7544",
   "metadata": {},
   "outputs": [],
   "source": [
    "# # Determine which values to replace\n",
    "# replace_intake_condition = list(intake_type[intake_type < 465].index)\n",
    "    \n",
    "# # Replace in DataFrame\n",
    "# for condition in replace_intake_condition:\n",
    "#     df_dog_ML.intake_condition = df_dog_ML.intake_condition.replace(condition,\"Other\")\n",
    "\n",
    "\n",
    "# # Check to make sure binning was successful\n",
    "# df_dog_ML.intake_condition.value_counts()"
   ]
  },
  {
   "cell_type": "code",
   "execution_count": 103,
   "id": "0d95ff63",
   "metadata": {},
   "outputs": [
    {
     "data": {
      "text/html": [
       "<div>\n",
       "<style scoped>\n",
       "    .dataframe tbody tr th:only-of-type {\n",
       "        vertical-align: middle;\n",
       "    }\n",
       "\n",
       "    .dataframe tbody tr th {\n",
       "        vertical-align: top;\n",
       "    }\n",
       "\n",
       "    .dataframe thead th {\n",
       "        text-align: right;\n",
       "    }\n",
       "</style>\n",
       "<table border=\"1\" class=\"dataframe\">\n",
       "  <thead>\n",
       "    <tr style=\"text-align: right;\">\n",
       "      <th></th>\n",
       "      <th>intake_type_Abandoned</th>\n",
       "      <th>intake_type_Euthanasia Request</th>\n",
       "      <th>intake_type_Owner Surrender</th>\n",
       "      <th>intake_type_Public Assist</th>\n",
       "      <th>intake_type_Stray</th>\n",
       "    </tr>\n",
       "  </thead>\n",
       "  <tbody>\n",
       "    <tr>\n",
       "      <th>0</th>\n",
       "      <td>0.0</td>\n",
       "      <td>0.0</td>\n",
       "      <td>0.0</td>\n",
       "      <td>1.0</td>\n",
       "      <td>0.0</td>\n",
       "    </tr>\n",
       "    <tr>\n",
       "      <th>1</th>\n",
       "      <td>0.0</td>\n",
       "      <td>0.0</td>\n",
       "      <td>0.0</td>\n",
       "      <td>0.0</td>\n",
       "      <td>1.0</td>\n",
       "    </tr>\n",
       "    <tr>\n",
       "      <th>2</th>\n",
       "      <td>0.0</td>\n",
       "      <td>1.0</td>\n",
       "      <td>0.0</td>\n",
       "      <td>0.0</td>\n",
       "      <td>0.0</td>\n",
       "    </tr>\n",
       "    <tr>\n",
       "      <th>3</th>\n",
       "      <td>0.0</td>\n",
       "      <td>0.0</td>\n",
       "      <td>1.0</td>\n",
       "      <td>0.0</td>\n",
       "      <td>0.0</td>\n",
       "    </tr>\n",
       "    <tr>\n",
       "      <th>4</th>\n",
       "      <td>0.0</td>\n",
       "      <td>0.0</td>\n",
       "      <td>0.0</td>\n",
       "      <td>0.0</td>\n",
       "      <td>1.0</td>\n",
       "    </tr>\n",
       "  </tbody>\n",
       "</table>\n",
       "</div>"
      ],
      "text/plain": [
       "   intake_type_Abandoned  intake_type_Euthanasia Request  \\\n",
       "0                    0.0                             0.0   \n",
       "1                    0.0                             0.0   \n",
       "2                    0.0                             1.0   \n",
       "3                    0.0                             0.0   \n",
       "4                    0.0                             0.0   \n",
       "\n",
       "   intake_type_Owner Surrender  intake_type_Public Assist  intake_type_Stray  \n",
       "0                          0.0                        1.0                0.0  \n",
       "1                          0.0                        0.0                1.0  \n",
       "2                          0.0                        0.0                0.0  \n",
       "3                          1.0                        0.0                0.0  \n",
       "4                          0.0                        0.0                1.0  "
      ]
     },
     "execution_count": 103,
     "metadata": {},
     "output_type": "execute_result"
    }
   ],
   "source": [
    "enc_intake_type = OneHotEncoder(sparse=False)\n",
    "\n",
    "# Fit the encoder and produce encoded DataFrame\n",
    "encode_df_intake_type = pd.DataFrame(enc_intake_type.fit_transform(df_dog_ML.intake_type.values.reshape(-1,1)))\n",
    "#print(encode_df)\n",
    "# Rename encoded columns\n",
    "encode_df_intake_type.columns = enc_intake_type.get_feature_names_out(['intake_type'])\n",
    "encode_df_intake_type.head()"
   ]
  },
  {
   "cell_type": "code",
   "execution_count": 104,
   "id": "76069595",
   "metadata": {},
   "outputs": [
    {
     "name": "stderr",
     "output_type": "stream",
     "text": [
      "/var/folders/3m/mj278b89297553km9_g94ghr0000gn/T/ipykernel_2461/3144135216.py:1: FutureWarning: In a future version of pandas all arguments of DataFrame.drop except for the argument 'labels' will be keyword-only.\n",
      "  df_dog_ML=df_dog_ML.merge(encode_df_intake_type,left_index=True,right_index=True).drop(\"intake_type\",1)\n"
     ]
    }
   ],
   "source": [
    "df_dog_ML=df_dog_ML.merge(encode_df_intake_type,left_index=True,right_index=True).drop(\"intake_type\",1)\n"
   ]
  },
  {
   "cell_type": "code",
   "execution_count": 105,
   "id": "8646a90e",
   "metadata": {},
   "outputs": [
    {
     "data": {
      "text/html": [
       "<div>\n",
       "<style scoped>\n",
       "    .dataframe tbody tr th:only-of-type {\n",
       "        vertical-align: middle;\n",
       "    }\n",
       "\n",
       "    .dataframe tbody tr th {\n",
       "        vertical-align: top;\n",
       "    }\n",
       "\n",
       "    .dataframe thead th {\n",
       "        text-align: right;\n",
       "    }\n",
       "</style>\n",
       "<table border=\"1\" class=\"dataframe\">\n",
       "  <thead>\n",
       "    <tr style=\"text-align: right;\">\n",
       "      <th></th>\n",
       "      <th>animal_type_intake</th>\n",
       "      <th>age_upon_intake(days)</th>\n",
       "      <th>outcome_type</th>\n",
       "      <th>age_upon_outcome(days)</th>\n",
       "      <th>days_in_shelter</th>\n",
       "      <th>color_intake_Black</th>\n",
       "      <th>color_intake_Black/Brown</th>\n",
       "      <th>color_intake_Black/Tan</th>\n",
       "      <th>color_intake_Black/White</th>\n",
       "      <th>color_intake_Brown</th>\n",
       "      <th>...</th>\n",
       "      <th>breed_intake_Pit Bull</th>\n",
       "      <th>breed_intake_Pit Bull Mix</th>\n",
       "      <th>intake_condition_Aged</th>\n",
       "      <th>intake_condition_Normal</th>\n",
       "      <th>intake_condition_Other</th>\n",
       "      <th>intake_type_Abandoned</th>\n",
       "      <th>intake_type_Euthanasia Request</th>\n",
       "      <th>intake_type_Owner Surrender</th>\n",
       "      <th>intake_type_Public Assist</th>\n",
       "      <th>intake_type_Stray</th>\n",
       "    </tr>\n",
       "  </thead>\n",
       "  <tbody>\n",
       "    <tr>\n",
       "      <th>0</th>\n",
       "      <td>Dog</td>\n",
       "      <td>5475</td>\n",
       "      <td>Return to Owner</td>\n",
       "      <td>5485</td>\n",
       "      <td>6</td>\n",
       "      <td>0.0</td>\n",
       "      <td>0.0</td>\n",
       "      <td>0.0</td>\n",
       "      <td>0.0</td>\n",
       "      <td>0.0</td>\n",
       "      <td>...</td>\n",
       "      <td>0.0</td>\n",
       "      <td>0.0</td>\n",
       "      <td>0.0</td>\n",
       "      <td>1.0</td>\n",
       "      <td>0.0</td>\n",
       "      <td>0.0</td>\n",
       "      <td>0.0</td>\n",
       "      <td>0.0</td>\n",
       "      <td>1.0</td>\n",
       "      <td>0.0</td>\n",
       "    </tr>\n",
       "    <tr>\n",
       "      <th>1</th>\n",
       "      <td>Dog</td>\n",
       "      <td>5110</td>\n",
       "      <td>Return to Owner</td>\n",
       "      <td>5208</td>\n",
       "      <td>0</td>\n",
       "      <td>0.0</td>\n",
       "      <td>0.0</td>\n",
       "      <td>0.0</td>\n",
       "      <td>1.0</td>\n",
       "      <td>0.0</td>\n",
       "      <td>...</td>\n",
       "      <td>0.0</td>\n",
       "      <td>0.0</td>\n",
       "      <td>0.0</td>\n",
       "      <td>1.0</td>\n",
       "      <td>0.0</td>\n",
       "      <td>0.0</td>\n",
       "      <td>0.0</td>\n",
       "      <td>0.0</td>\n",
       "      <td>0.0</td>\n",
       "      <td>1.0</td>\n",
       "    </tr>\n",
       "  </tbody>\n",
       "</table>\n",
       "<p>2 rows × 35 columns</p>\n",
       "</div>"
      ],
      "text/plain": [
       "  animal_type_intake  age_upon_intake(days)     outcome_type  \\\n",
       "0                Dog                   5475  Return to Owner   \n",
       "1                Dog                   5110  Return to Owner   \n",
       "\n",
       "   age_upon_outcome(days)  days_in_shelter  color_intake_Black  \\\n",
       "0                    5485                6                 0.0   \n",
       "1                    5208                0                 0.0   \n",
       "\n",
       "   color_intake_Black/Brown  color_intake_Black/Tan  color_intake_Black/White  \\\n",
       "0                       0.0                     0.0                       0.0   \n",
       "1                       0.0                     0.0                       1.0   \n",
       "\n",
       "   color_intake_Brown  ...  breed_intake_Pit Bull  breed_intake_Pit Bull Mix  \\\n",
       "0                 0.0  ...                    0.0                        0.0   \n",
       "1                 0.0  ...                    0.0                        0.0   \n",
       "\n",
       "   intake_condition_Aged  intake_condition_Normal  intake_condition_Other  \\\n",
       "0                    0.0                      1.0                     0.0   \n",
       "1                    0.0                      1.0                     0.0   \n",
       "\n",
       "   intake_type_Abandoned  intake_type_Euthanasia Request  \\\n",
       "0                    0.0                             0.0   \n",
       "1                    0.0                             0.0   \n",
       "\n",
       "   intake_type_Owner Surrender  intake_type_Public Assist  intake_type_Stray  \n",
       "0                          0.0                        1.0                0.0  \n",
       "1                          0.0                        0.0                1.0  \n",
       "\n",
       "[2 rows x 35 columns]"
      ]
     },
     "execution_count": 105,
     "metadata": {},
     "output_type": "execute_result"
    }
   ],
   "source": [
    "df_dog_ML.head(2)"
   ]
  },
  {
   "cell_type": "code",
   "execution_count": null,
   "id": "20a06189",
   "metadata": {},
   "outputs": [],
   "source": []
  },
  {
   "cell_type": "markdown",
   "id": "ccb172c8",
   "metadata": {},
   "source": [
    "### Hot encoding animal_type_intake to 0 and 1 for 5 categories "
   ]
  },
  {
   "cell_type": "code",
   "execution_count": 106,
   "id": "5438735c",
   "metadata": {},
   "outputs": [],
   "source": [
    "# df_dog_ML.animal_type_intake.nunique()"
   ]
  },
  {
   "cell_type": "code",
   "execution_count": 107,
   "id": "3f13f089",
   "metadata": {},
   "outputs": [],
   "source": [
    "# # finding the count of all categories in color_intake\n",
    "# animal_intake_type_count = df_dog_ML.animal_type_intake.value_counts()\n",
    "# animal_intake_type_count"
   ]
  },
  {
   "cell_type": "code",
   "execution_count": 108,
   "id": "adcfe0a1",
   "metadata": {
    "scrolled": true
   },
   "outputs": [],
   "source": [
    "#animal_intake_type_count.plot.density()"
   ]
  },
  {
   "cell_type": "code",
   "execution_count": 109,
   "id": "1d7b464d",
   "metadata": {},
   "outputs": [],
   "source": [
    "# # Determine which values to replace\n",
    "# replace_intake_condition = list(intake_type[intake_type < 465].index)\n",
    "\n",
    "# # Replace in DataFrame\n",
    "# for condition in replace_intake_condition:\n",
    "#     df_dog_ML.intake_condition = df_dog_ML.intake_condition.replace(condition,\"Other\")\n",
    "\n",
    "\n",
    "# # Check to make sure binning was successful\n",
    "# df_dog_ML.intake_condition.value_counts()"
   ]
  },
  {
   "cell_type": "code",
   "execution_count": 110,
   "id": "fe5836d8",
   "metadata": {},
   "outputs": [],
   "source": [
    "# enc_animal_intake_type = OneHotEncoder(sparse=False)\n",
    "\n",
    "# # Fit the encoder and produce encoded DataFrame\n",
    "# encode_df_animal_intake_type = pd.DataFrame(enc_animal_intake_type.fit_transform(df_dog_ML.animal_type_intake.values.reshape(-1,1)))\n",
    "# #print(encode_df)\n",
    "# # Rename encoded columns\n",
    "# encode_df_animal_intake_type.columns = enc_animal_intake_type.get_feature_names_out(['animal_type_intake'])\n",
    "# encode_df_animal_intake_type.head()"
   ]
  },
  {
   "cell_type": "code",
   "execution_count": 111,
   "id": "527695ec",
   "metadata": {},
   "outputs": [],
   "source": [
    "# df_dog_ML=df_dog_ML.merge(encode_df_intake_type,left_index=True,right_index=True).drop(\"animal_type_intake\",1)\n"
   ]
  },
  {
   "cell_type": "code",
   "execution_count": 112,
   "id": "9b9e7705",
   "metadata": {},
   "outputs": [
    {
     "data": {
      "text/html": [
       "<div>\n",
       "<style scoped>\n",
       "    .dataframe tbody tr th:only-of-type {\n",
       "        vertical-align: middle;\n",
       "    }\n",
       "\n",
       "    .dataframe tbody tr th {\n",
       "        vertical-align: top;\n",
       "    }\n",
       "\n",
       "    .dataframe thead th {\n",
       "        text-align: right;\n",
       "    }\n",
       "</style>\n",
       "<table border=\"1\" class=\"dataframe\">\n",
       "  <thead>\n",
       "    <tr style=\"text-align: right;\">\n",
       "      <th></th>\n",
       "      <th>animal_type_intake</th>\n",
       "      <th>age_upon_intake(days)</th>\n",
       "      <th>outcome_type</th>\n",
       "      <th>age_upon_outcome(days)</th>\n",
       "      <th>days_in_shelter</th>\n",
       "      <th>color_intake_Black</th>\n",
       "      <th>color_intake_Black/Brown</th>\n",
       "      <th>color_intake_Black/Tan</th>\n",
       "      <th>color_intake_Black/White</th>\n",
       "      <th>color_intake_Brown</th>\n",
       "      <th>...</th>\n",
       "      <th>breed_intake_Pit Bull</th>\n",
       "      <th>breed_intake_Pit Bull Mix</th>\n",
       "      <th>intake_condition_Aged</th>\n",
       "      <th>intake_condition_Normal</th>\n",
       "      <th>intake_condition_Other</th>\n",
       "      <th>intake_type_Abandoned</th>\n",
       "      <th>intake_type_Euthanasia Request</th>\n",
       "      <th>intake_type_Owner Surrender</th>\n",
       "      <th>intake_type_Public Assist</th>\n",
       "      <th>intake_type_Stray</th>\n",
       "    </tr>\n",
       "  </thead>\n",
       "  <tbody>\n",
       "    <tr>\n",
       "      <th>0</th>\n",
       "      <td>Dog</td>\n",
       "      <td>5475</td>\n",
       "      <td>Return to Owner</td>\n",
       "      <td>5485</td>\n",
       "      <td>6</td>\n",
       "      <td>0.0</td>\n",
       "      <td>0.0</td>\n",
       "      <td>0.0</td>\n",
       "      <td>0.0</td>\n",
       "      <td>0.0</td>\n",
       "      <td>...</td>\n",
       "      <td>0.0</td>\n",
       "      <td>0.0</td>\n",
       "      <td>0.0</td>\n",
       "      <td>1.0</td>\n",
       "      <td>0.0</td>\n",
       "      <td>0.0</td>\n",
       "      <td>0.0</td>\n",
       "      <td>0.0</td>\n",
       "      <td>1.0</td>\n",
       "      <td>0.0</td>\n",
       "    </tr>\n",
       "    <tr>\n",
       "      <th>1</th>\n",
       "      <td>Dog</td>\n",
       "      <td>5110</td>\n",
       "      <td>Return to Owner</td>\n",
       "      <td>5208</td>\n",
       "      <td>0</td>\n",
       "      <td>0.0</td>\n",
       "      <td>0.0</td>\n",
       "      <td>0.0</td>\n",
       "      <td>1.0</td>\n",
       "      <td>0.0</td>\n",
       "      <td>...</td>\n",
       "      <td>0.0</td>\n",
       "      <td>0.0</td>\n",
       "      <td>0.0</td>\n",
       "      <td>1.0</td>\n",
       "      <td>0.0</td>\n",
       "      <td>0.0</td>\n",
       "      <td>0.0</td>\n",
       "      <td>0.0</td>\n",
       "      <td>0.0</td>\n",
       "      <td>1.0</td>\n",
       "    </tr>\n",
       "  </tbody>\n",
       "</table>\n",
       "<p>2 rows × 35 columns</p>\n",
       "</div>"
      ],
      "text/plain": [
       "  animal_type_intake  age_upon_intake(days)     outcome_type  \\\n",
       "0                Dog                   5475  Return to Owner   \n",
       "1                Dog                   5110  Return to Owner   \n",
       "\n",
       "   age_upon_outcome(days)  days_in_shelter  color_intake_Black  \\\n",
       "0                    5485                6                 0.0   \n",
       "1                    5208                0                 0.0   \n",
       "\n",
       "   color_intake_Black/Brown  color_intake_Black/Tan  color_intake_Black/White  \\\n",
       "0                       0.0                     0.0                       0.0   \n",
       "1                       0.0                     0.0                       1.0   \n",
       "\n",
       "   color_intake_Brown  ...  breed_intake_Pit Bull  breed_intake_Pit Bull Mix  \\\n",
       "0                 0.0  ...                    0.0                        0.0   \n",
       "1                 0.0  ...                    0.0                        0.0   \n",
       "\n",
       "   intake_condition_Aged  intake_condition_Normal  intake_condition_Other  \\\n",
       "0                    0.0                      1.0                     0.0   \n",
       "1                    0.0                      1.0                     0.0   \n",
       "\n",
       "   intake_type_Abandoned  intake_type_Euthanasia Request  \\\n",
       "0                    0.0                             0.0   \n",
       "1                    0.0                             0.0   \n",
       "\n",
       "   intake_type_Owner Surrender  intake_type_Public Assist  intake_type_Stray  \n",
       "0                          0.0                        1.0                0.0  \n",
       "1                          0.0                        0.0                1.0  \n",
       "\n",
       "[2 rows x 35 columns]"
      ]
     },
     "execution_count": 112,
     "metadata": {},
     "output_type": "execute_result"
    }
   ],
   "source": [
    "df_dog_ML.head(2)"
   ]
  },
  {
   "cell_type": "markdown",
   "id": "d12fd223",
   "metadata": {},
   "source": [
    "### Hot encoding outcome_type  to 0 and 1 for categories"
   ]
  },
  {
   "cell_type": "code",
   "execution_count": 113,
   "id": "5f5430db",
   "metadata": {},
   "outputs": [
    {
     "data": {
      "text/plain": [
       "array(['Return to Owner', 'Euthanasia', 'Transfer', 'Adoption',\n",
       "       'Rto-Adopt', 'Died', 'Missing', 'Disposal', nan], dtype=object)"
      ]
     },
     "execution_count": 113,
     "metadata": {},
     "output_type": "execute_result"
    }
   ],
   "source": [
    "df_dog_ML['outcome_type'].unique()"
   ]
  },
  {
   "cell_type": "code",
   "execution_count": 114,
   "id": "4b025b45",
   "metadata": {},
   "outputs": [
    {
     "data": {
      "text/plain": [
       "Adoption           4552\n",
       "Return to Owner    2546\n",
       "Transfer           2092\n",
       "Euthanasia          225\n",
       "Rto-Adopt            77\n",
       "Died                 33\n",
       "Disposal              7\n",
       "Missing               4\n",
       "Name: outcome_type, dtype: int64"
      ]
     },
     "execution_count": 114,
     "metadata": {},
     "output_type": "execute_result"
    }
   ],
   "source": [
    "# finding the count of all categories in color_intake\n",
    "outcome_type_count = df_dog_ML.outcome_type.value_counts()\n",
    "outcome_type_count"
   ]
  },
  {
   "cell_type": "code",
   "execution_count": 115,
   "id": "8a0bd2bd",
   "metadata": {},
   "outputs": [
    {
     "data": {
      "text/plain": [
       "<AxesSubplot:ylabel='Density'>"
      ]
     },
     "execution_count": 115,
     "metadata": {},
     "output_type": "execute_result"
    },
    {
     "data": {
      "image/png": "[encoded data removed]",
      "text/plain": [
       "<Figure size 432x288 with 1 Axes>"
      ]
     },
     "metadata": {
      "needs_background": "light"
     },
     "output_type": "display_data"
    }
   ],
   "source": [
    "outcome_type_count.plot.density()"
   ]
  },
  {
   "cell_type": "markdown",
   "id": "1358632c",
   "metadata": {},
   "source": [
    "### Categorizing output into Adopted( 'Adoption','Return to Owner','Rto-Adopt') & Other"
   ]
  },
  {
   "cell_type": "code",
   "execution_count": 116,
   "id": "85a9ec0b",
   "metadata": {},
   "outputs": [
    {
     "data": {
      "text/plain": [
       "Success    7175\n",
       "Failure    2361\n",
       "Name: outcome_type, dtype: int64"
      ]
     },
     "execution_count": 116,
     "metadata": {},
     "output_type": "execute_result"
    }
   ],
   "source": [
    "# # Determine which values to replace\n",
    "# replace_intake_condition = list(intake_type[intake_type < 465].index)\n",
    "\n",
    "other_outcome_type_list = ['Transfer','Euthanasia','Died','Disposal','Missing']\n",
    "success_outcome_list = ['Adoption','Return to Owner','Rto-Adopt']\n",
    "             \n",
    "\n",
    "# # Replace in DataFrame\n",
    "for outcome in other_outcome_type_list:\n",
    "    df_dog_ML.outcome_type = df_dog_ML.outcome_type.replace(outcome,\"Failure\")\n",
    "    \n",
    "for outcome in success_outcome_list:\n",
    "    df_dog_ML.outcome_type = df_dog_ML.outcome_type.replace(outcome,\"Success\")\n",
    "\n",
    "\n",
    "# # Check to make sure binning was successful\n",
    "df_dog_ML.outcome_type.value_counts()"
   ]
  },
  {
   "cell_type": "code",
   "execution_count": 117,
   "id": "4b4d9afb",
   "metadata": {},
   "outputs": [
    {
     "data": {
      "text/html": [
       "<div>\n",
       "<style scoped>\n",
       "    .dataframe tbody tr th:only-of-type {\n",
       "        vertical-align: middle;\n",
       "    }\n",
       "\n",
       "    .dataframe tbody tr th {\n",
       "        vertical-align: top;\n",
       "    }\n",
       "\n",
       "    .dataframe thead th {\n",
       "        text-align: right;\n",
       "    }\n",
       "</style>\n",
       "<table border=\"1\" class=\"dataframe\">\n",
       "  <thead>\n",
       "    <tr style=\"text-align: right;\">\n",
       "      <th></th>\n",
       "      <th>Failure</th>\n",
       "      <th>Success</th>\n",
       "    </tr>\n",
       "  </thead>\n",
       "  <tbody>\n",
       "    <tr>\n",
       "      <th>0</th>\n",
       "      <td>0</td>\n",
       "      <td>1</td>\n",
       "    </tr>\n",
       "    <tr>\n",
       "      <th>1</th>\n",
       "      <td>0</td>\n",
       "      <td>1</td>\n",
       "    </tr>\n",
       "    <tr>\n",
       "      <th>3</th>\n",
       "      <td>1</td>\n",
       "      <td>0</td>\n",
       "    </tr>\n",
       "    <tr>\n",
       "      <th>5</th>\n",
       "      <td>1</td>\n",
       "      <td>0</td>\n",
       "    </tr>\n",
       "    <tr>\n",
       "      <th>6</th>\n",
       "      <td>0</td>\n",
       "      <td>1</td>\n",
       "    </tr>\n",
       "    <tr>\n",
       "      <th>...</th>\n",
       "      <td>...</td>\n",
       "      <td>...</td>\n",
       "    </tr>\n",
       "    <tr>\n",
       "      <th>16078</th>\n",
       "      <td>0</td>\n",
       "      <td>1</td>\n",
       "    </tr>\n",
       "    <tr>\n",
       "      <th>16079</th>\n",
       "      <td>0</td>\n",
       "      <td>1</td>\n",
       "    </tr>\n",
       "    <tr>\n",
       "      <th>16081</th>\n",
       "      <td>0</td>\n",
       "      <td>1</td>\n",
       "    </tr>\n",
       "    <tr>\n",
       "      <th>16083</th>\n",
       "      <td>0</td>\n",
       "      <td>1</td>\n",
       "    </tr>\n",
       "    <tr>\n",
       "      <th>16085</th>\n",
       "      <td>0</td>\n",
       "      <td>1</td>\n",
       "    </tr>\n",
       "  </tbody>\n",
       "</table>\n",
       "<p>9541 rows × 2 columns</p>\n",
       "</div>"
      ],
      "text/plain": [
       "       Failure  Success\n",
       "0            0        1\n",
       "1            0        1\n",
       "3            1        0\n",
       "5            1        0\n",
       "6            0        1\n",
       "...        ...      ...\n",
       "16078        0        1\n",
       "16079        0        1\n",
       "16081        0        1\n",
       "16083        0        1\n",
       "16085        0        1\n",
       "\n",
       "[9541 rows x 2 columns]"
      ]
     },
     "execution_count": 117,
     "metadata": {},
     "output_type": "execute_result"
    }
   ],
   "source": [
    "adopted_dummies = pd.get_dummies(df_dog_ML[\"outcome_type\"])\n",
    "adopted_dummies"
   ]
  },
  {
   "cell_type": "code",
   "execution_count": 118,
   "id": "6a7d17aa",
   "metadata": {},
   "outputs": [
    {
     "name": "stderr",
     "output_type": "stream",
     "text": [
      "/var/folders/3m/mj278b89297553km9_g94ghr0000gn/T/ipykernel_2461/50248661.py:1: FutureWarning: In a future version of pandas all arguments of DataFrame.drop except for the argument 'labels' will be keyword-only.\n",
      "  df_dog_ML=df_dog_ML.merge(adopted_dummies,left_index=True,right_index=True).drop(\"outcome_type\",1)\n"
     ]
    }
   ],
   "source": [
    "df_dog_ML=df_dog_ML.merge(adopted_dummies,left_index=True,right_index=True).drop(\"outcome_type\",1)\n"
   ]
  },
  {
   "cell_type": "code",
   "execution_count": 119,
   "id": "8edb4d62",
   "metadata": {},
   "outputs": [
    {
     "data": {
      "text/html": [
       "<div>\n",
       "<style scoped>\n",
       "    .dataframe tbody tr th:only-of-type {\n",
       "        vertical-align: middle;\n",
       "    }\n",
       "\n",
       "    .dataframe tbody tr th {\n",
       "        vertical-align: top;\n",
       "    }\n",
       "\n",
       "    .dataframe thead th {\n",
       "        text-align: right;\n",
       "    }\n",
       "</style>\n",
       "<table border=\"1\" class=\"dataframe\">\n",
       "  <thead>\n",
       "    <tr style=\"text-align: right;\">\n",
       "      <th></th>\n",
       "      <th>age_upon_intake(days)</th>\n",
       "      <th>age_upon_outcome(days)</th>\n",
       "      <th>days_in_shelter</th>\n",
       "      <th>color_intake_Black</th>\n",
       "      <th>color_intake_Black/Brown</th>\n",
       "      <th>color_intake_Black/Tan</th>\n",
       "      <th>color_intake_Black/White</th>\n",
       "      <th>color_intake_Brown</th>\n",
       "      <th>color_intake_Brown/White</th>\n",
       "      <th>color_intake_Other</th>\n",
       "      <th>...</th>\n",
       "      <th>intake_condition_Aged</th>\n",
       "      <th>intake_condition_Normal</th>\n",
       "      <th>intake_condition_Other</th>\n",
       "      <th>intake_type_Abandoned</th>\n",
       "      <th>intake_type_Euthanasia Request</th>\n",
       "      <th>intake_type_Owner Surrender</th>\n",
       "      <th>intake_type_Public Assist</th>\n",
       "      <th>intake_type_Stray</th>\n",
       "      <th>Failure</th>\n",
       "      <th>Success</th>\n",
       "    </tr>\n",
       "  </thead>\n",
       "  <tbody>\n",
       "    <tr>\n",
       "      <th>0</th>\n",
       "      <td>5475</td>\n",
       "      <td>5485</td>\n",
       "      <td>6</td>\n",
       "      <td>0.0</td>\n",
       "      <td>0.0</td>\n",
       "      <td>0.0</td>\n",
       "      <td>0.0</td>\n",
       "      <td>0.0</td>\n",
       "      <td>0.0</td>\n",
       "      <td>1.0</td>\n",
       "      <td>...</td>\n",
       "      <td>0.0</td>\n",
       "      <td>1.0</td>\n",
       "      <td>0.0</td>\n",
       "      <td>0.0</td>\n",
       "      <td>0.0</td>\n",
       "      <td>0.0</td>\n",
       "      <td>1.0</td>\n",
       "      <td>0.0</td>\n",
       "      <td>0</td>\n",
       "      <td>1</td>\n",
       "    </tr>\n",
       "    <tr>\n",
       "      <th>1</th>\n",
       "      <td>5110</td>\n",
       "      <td>5208</td>\n",
       "      <td>0</td>\n",
       "      <td>0.0</td>\n",
       "      <td>0.0</td>\n",
       "      <td>0.0</td>\n",
       "      <td>1.0</td>\n",
       "      <td>0.0</td>\n",
       "      <td>0.0</td>\n",
       "      <td>0.0</td>\n",
       "      <td>...</td>\n",
       "      <td>0.0</td>\n",
       "      <td>1.0</td>\n",
       "      <td>0.0</td>\n",
       "      <td>0.0</td>\n",
       "      <td>0.0</td>\n",
       "      <td>0.0</td>\n",
       "      <td>0.0</td>\n",
       "      <td>1.0</td>\n",
       "      <td>0</td>\n",
       "      <td>1</td>\n",
       "    </tr>\n",
       "    <tr>\n",
       "      <th>3</th>\n",
       "      <td>4745</td>\n",
       "      <td>4880</td>\n",
       "      <td>0</td>\n",
       "      <td>0.0</td>\n",
       "      <td>0.0</td>\n",
       "      <td>0.0</td>\n",
       "      <td>0.0</td>\n",
       "      <td>0.0</td>\n",
       "      <td>1.0</td>\n",
       "      <td>0.0</td>\n",
       "      <td>...</td>\n",
       "      <td>0.0</td>\n",
       "      <td>1.0</td>\n",
       "      <td>0.0</td>\n",
       "      <td>0.0</td>\n",
       "      <td>0.0</td>\n",
       "      <td>1.0</td>\n",
       "      <td>0.0</td>\n",
       "      <td>0.0</td>\n",
       "      <td>1</td>\n",
       "      <td>0</td>\n",
       "    </tr>\n",
       "    <tr>\n",
       "      <th>5</th>\n",
       "      <td>4380</td>\n",
       "      <td>4454</td>\n",
       "      <td>11</td>\n",
       "      <td>0.0</td>\n",
       "      <td>0.0</td>\n",
       "      <td>0.0</td>\n",
       "      <td>0.0</td>\n",
       "      <td>0.0</td>\n",
       "      <td>0.0</td>\n",
       "      <td>1.0</td>\n",
       "      <td>...</td>\n",
       "      <td>0.0</td>\n",
       "      <td>1.0</td>\n",
       "      <td>0.0</td>\n",
       "      <td>0.0</td>\n",
       "      <td>0.0</td>\n",
       "      <td>0.0</td>\n",
       "      <td>0.0</td>\n",
       "      <td>1.0</td>\n",
       "      <td>1</td>\n",
       "      <td>0</td>\n",
       "    </tr>\n",
       "    <tr>\n",
       "      <th>6</th>\n",
       "      <td>4745</td>\n",
       "      <td>4997</td>\n",
       "      <td>0</td>\n",
       "      <td>0.0</td>\n",
       "      <td>0.0</td>\n",
       "      <td>0.0</td>\n",
       "      <td>0.0</td>\n",
       "      <td>0.0</td>\n",
       "      <td>0.0</td>\n",
       "      <td>1.0</td>\n",
       "      <td>...</td>\n",
       "      <td>0.0</td>\n",
       "      <td>1.0</td>\n",
       "      <td>0.0</td>\n",
       "      <td>0.0</td>\n",
       "      <td>0.0</td>\n",
       "      <td>0.0</td>\n",
       "      <td>0.0</td>\n",
       "      <td>1.0</td>\n",
       "      <td>0</td>\n",
       "      <td>1</td>\n",
       "    </tr>\n",
       "  </tbody>\n",
       "</table>\n",
       "<p>5 rows × 35 columns</p>\n",
       "</div>"
      ],
      "text/plain": [
       "   age_upon_intake(days)  age_upon_outcome(days)  days_in_shelter  \\\n",
       "0                   5475                    5485                6   \n",
       "1                   5110                    5208                0   \n",
       "3                   4745                    4880                0   \n",
       "5                   4380                    4454               11   \n",
       "6                   4745                    4997                0   \n",
       "\n",
       "   color_intake_Black  color_intake_Black/Brown  color_intake_Black/Tan  \\\n",
       "0                 0.0                       0.0                     0.0   \n",
       "1                 0.0                       0.0                     0.0   \n",
       "3                 0.0                       0.0                     0.0   \n",
       "5                 0.0                       0.0                     0.0   \n",
       "6                 0.0                       0.0                     0.0   \n",
       "\n",
       "   color_intake_Black/White  color_intake_Brown  color_intake_Brown/White  \\\n",
       "0                       0.0                 0.0                       0.0   \n",
       "1                       1.0                 0.0                       0.0   \n",
       "3                       0.0                 0.0                       1.0   \n",
       "5                       0.0                 0.0                       0.0   \n",
       "6                       0.0                 0.0                       0.0   \n",
       "\n",
       "   color_intake_Other  ...  intake_condition_Aged  intake_condition_Normal  \\\n",
       "0                 1.0  ...                    0.0                      1.0   \n",
       "1                 0.0  ...                    0.0                      1.0   \n",
       "3                 0.0  ...                    0.0                      1.0   \n",
       "5                 1.0  ...                    0.0                      1.0   \n",
       "6                 1.0  ...                    0.0                      1.0   \n",
       "\n",
       "   intake_condition_Other  intake_type_Abandoned  \\\n",
       "0                     0.0                    0.0   \n",
       "1                     0.0                    0.0   \n",
       "3                     0.0                    0.0   \n",
       "5                     0.0                    0.0   \n",
       "6                     0.0                    0.0   \n",
       "\n",
       "   intake_type_Euthanasia Request  intake_type_Owner Surrender  \\\n",
       "0                             0.0                          0.0   \n",
       "1                             0.0                          0.0   \n",
       "3                             0.0                          1.0   \n",
       "5                             0.0                          0.0   \n",
       "6                             0.0                          0.0   \n",
       "\n",
       "   intake_type_Public Assist  intake_type_Stray  Failure  Success  \n",
       "0                        1.0                0.0        0        1  \n",
       "1                        0.0                1.0        0        1  \n",
       "3                        0.0                0.0        1        0  \n",
       "5                        0.0                1.0        1        0  \n",
       "6                        0.0                1.0        0        1  \n",
       "\n",
       "[5 rows x 35 columns]"
      ]
     },
     "execution_count": 119,
     "metadata": {},
     "output_type": "execute_result"
    }
   ],
   "source": [
    "# Since the Logistic Regression Model is generated for Dogs, we can drop the animal_type_intake\n",
    "\n",
    "df_dog_ML=df_dog_ML.drop(\"animal_type_intake\",axis=1)\n",
    "df_dog_ML.head()"
   ]
  },
  {
   "cell_type": "code",
   "execution_count": 120,
   "id": "7a1dcf58",
   "metadata": {},
   "outputs": [],
   "source": [
    "# Seperate the features X from the target Y\n",
    "y = df_dog_ML.Success\n",
    "columns=[\"Success\",\"Failure\"]\n",
    "X = df_dog_ML.drop(columns=columns)\n",
    "\n",
    "\n",
    "# Split training/test datasets\n",
    "X_train, X_test, y_train, y_test = train_test_split(X, y, random_state=42, stratify=y)"
   ]
  },
  {
   "cell_type": "code",
   "execution_count": 121,
   "id": "a9144935",
   "metadata": {},
   "outputs": [
    {
     "data": {
      "text/plain": [
       "(7155, 33)"
      ]
     },
     "execution_count": 121,
     "metadata": {},
     "output_type": "execute_result"
    }
   ],
   "source": [
    "X_train.shape"
   ]
  },
  {
   "cell_type": "code",
   "execution_count": 122,
   "id": "c5baf7b1",
   "metadata": {},
   "outputs": [
    {
     "data": {
      "text/plain": [
       "(2386, 33)"
      ]
     },
     "execution_count": 122,
     "metadata": {},
     "output_type": "execute_result"
    }
   ],
   "source": [
    "X_test.shape"
   ]
  },
  {
   "cell_type": "code",
   "execution_count": 123,
   "id": "af218dcc",
   "metadata": {},
   "outputs": [
    {
     "name": "stdout",
     "output_type": "stream",
     "text": [
      "[[ 0.76756472  0.86668146 -0.32500828 ... -0.5306308  -0.30556173\n",
      "   0.67421357]\n",
      " [ 1.74639059  1.65222344 -0.2054794  ... -0.5306308  -0.30556173\n",
      "   0.67421357]\n",
      " [-0.58670121 -0.60326723 -0.12579349 ... -0.5306308  -0.30556173\n",
      "   0.67421357]\n",
      " ...\n",
      " [-0.21126115 -0.25975609 -0.22540088 ... -0.5306308  -0.30556173\n",
      "   0.67421357]\n",
      " [-0.21126115  0.03231557 -0.28516532 ...  1.88454947 -0.30556173\n",
      "  -1.48320955]\n",
      " [ 2.72521646  2.60254614 -0.28516532 ... -0.5306308  -0.30556173\n",
      "   0.67421357]]\n"
     ]
    }
   ],
   "source": [
    "# Create a StandardScaler instance\n",
    "scaler = StandardScaler()\n",
    "\n",
    "# # Fit the StandardScaler\n",
    "X_scaler = scaler.fit(X_train)\n",
    "\n",
    "# Scale the data\n",
    "X_train_scaled = X_scaler.transform(X_train)\n",
    "X_test_scaled = X_scaler.transform(X_test)\n",
    "\n",
    "print(X_train_scaled)"
   ]
  },
  {
   "cell_type": "markdown",
   "id": "4172a9a9",
   "metadata": {},
   "source": [
    "# Create a Logistic Regression Model"
   ]
  },
  {
   "cell_type": "code",
   "execution_count": 124,
   "id": "ba893076",
   "metadata": {},
   "outputs": [],
   "source": [
    "\n",
    "model_lr_dog = LogisticRegression(max_iter=1000,random_state=1)"
   ]
  },
  {
   "cell_type": "code",
   "execution_count": 125,
   "id": "71e0723b",
   "metadata": {},
   "outputs": [],
   "source": [
    "from sklearn._config import get_config, set_config\n",
    "\n",
    "# get_config()[\"print_changed_only\"]\n",
    "set_config(print_changed_only=False)\n",
    "\n"
   ]
  },
  {
   "cell_type": "code",
   "execution_count": 126,
   "id": "a23ae395",
   "metadata": {},
   "outputs": [
    {
     "data": {
      "text/html": [
       "<style>#sk-container-id-2 {color: black;background-color: white;}#sk-container-id-2 pre{padding: 0;}#sk-container-id-2 div.sk-toggleable {background-color: white;}#sk-container-id-2 label.sk-toggleable__label {cursor: pointer;display: block;width: 100%;margin-bottom: 0;padding: 0.3em;box-sizing: border-box;text-align: center;}#sk-container-id-2 label.sk-toggleable__label-arrow:before {content: \"▸\";float: left;margin-right: 0.25em;color: #696969;}#sk-container-id-2 label.sk-toggleable__label-arrow:hover:before {color: black;}#sk-container-id-2 div.sk-estimator:hover label.sk-toggleable__label-arrow:before {color: black;}#sk-container-id-2 div.sk-toggleable__content {max-height: 0;max-width: 0;overflow: hidden;text-align: left;background-color: #f0f8ff;}#sk-container-id-2 div.sk-toggleable__content pre {margin: 0.2em;color: black;border-radius: 0.25em;background-color: #f0f8ff;}#sk-container-id-2 input.sk-toggleable__control:checked~div.sk-toggleable__content {max-height: 200px;max-width: 100%;overflow: auto;}#sk-container-id-2 input.sk-toggleable__control:checked~label.sk-toggleable__label-arrow:before {content: \"▾\";}#sk-container-id-2 div.sk-estimator input.sk-toggleable__control:checked~label.sk-toggleable__label {background-color: #d4ebff;}#sk-container-id-2 div.sk-label input.sk-toggleable__control:checked~label.sk-toggleable__label {background-color: #d4ebff;}#sk-container-id-2 input.sk-hidden--visually {border: 0;clip: rect(1px 1px 1px 1px);clip: rect(1px, 1px, 1px, 1px);height: 1px;margin: -1px;overflow: hidden;padding: 0;position: absolute;width: 1px;}#sk-container-id-2 div.sk-estimator {font-family: monospace;background-color: #f0f8ff;border: 1px dotted black;border-radius: 0.25em;box-sizing: border-box;margin-bottom: 0.5em;}#sk-container-id-2 div.sk-estimator:hover {background-color: #d4ebff;}#sk-container-id-2 div.sk-parallel-item::after {content: \"\";width: 100%;border-bottom: 1px solid gray;flex-grow: 1;}#sk-container-id-2 div.sk-label:hover label.sk-toggleable__label {background-color: #d4ebff;}#sk-container-id-2 div.sk-serial::before {content: \"\";position: absolute;border-left: 1px solid gray;box-sizing: border-box;top: 0;bottom: 0;left: 50%;z-index: 0;}#sk-container-id-2 div.sk-serial {display: flex;flex-direction: column;align-items: center;background-color: white;padding-right: 0.2em;padding-left: 0.2em;position: relative;}#sk-container-id-2 div.sk-item {position: relative;z-index: 1;}#sk-container-id-2 div.sk-parallel {display: flex;align-items: stretch;justify-content: center;background-color: white;position: relative;}#sk-container-id-2 div.sk-item::before, #sk-container-id-2 div.sk-parallel-item::before {content: \"\";position: absolute;border-left: 1px solid gray;box-sizing: border-box;top: 0;bottom: 0;left: 50%;z-index: -1;}#sk-container-id-2 div.sk-parallel-item {display: flex;flex-direction: column;z-index: 1;position: relative;background-color: white;}#sk-container-id-2 div.sk-parallel-item:first-child::after {align-self: flex-end;width: 50%;}#sk-container-id-2 div.sk-parallel-item:last-child::after {align-self: flex-start;width: 50%;}#sk-container-id-2 div.sk-parallel-item:only-child::after {width: 0;}#sk-container-id-2 div.sk-dashed-wrapped {border: 1px dashed gray;margin: 0 0.4em 0.5em 0.4em;box-sizing: border-box;padding-bottom: 0.4em;background-color: white;}#sk-container-id-2 div.sk-label label {font-family: monospace;font-weight: bold;display: inline-block;line-height: 1.2em;}#sk-container-id-2 div.sk-label-container {text-align: center;}#sk-container-id-2 div.sk-container {/* jupyter's `normalize.less` sets `[hidden] { display: none; }` but bootstrap.min.css set `[hidden] { display: none !important; }` so we also need the `!important` here to be able to override the default hidden behavior on the sphinx rendered scikit-learn.org. See: https://github.com/scikit-learn/scikit-learn/issues/21755 */display: inline-block !important;position: relative;}#sk-container-id-2 div.sk-text-repr-fallback {display: none;}</style><div id=\"sk-container-id-2\" class=\"sk-top-container\"><div class=\"sk-text-repr-fallback\"><pre>LogisticRegression(C=1.0, class_weight=None, dual=False, fit_intercept=True,\n",
       "                   intercept_scaling=1, l1_ratio=None, max_iter=1000,\n",
       "                   multi_class=&#x27;auto&#x27;, n_jobs=None, penalty=&#x27;l2&#x27;,\n",
       "                   random_state=1, solver=&#x27;lbfgs&#x27;, tol=0.0001, verbose=0,\n",
       "                   warm_start=False)</pre><b>In a Jupyter environment, please rerun this cell to show the HTML representation or trust the notebook. <br />On GitHub, the HTML representation is unable to render, please try loading this page with nbviewer.org.</b></div><div class=\"sk-container\" hidden><div class=\"sk-item\"><div class=\"sk-estimator sk-toggleable\"><input class=\"sk-toggleable__control sk-hidden--visually\" id=\"sk-estimator-id-2\" type=\"checkbox\" checked><label for=\"sk-estimator-id-2\" class=\"sk-toggleable__label sk-toggleable__label-arrow\">LogisticRegression</label><div class=\"sk-toggleable__content\"><pre>LogisticRegression(C=1.0, class_weight=None, dual=False, fit_intercept=True,\n",
       "                   intercept_scaling=1, l1_ratio=None, max_iter=1000,\n",
       "                   multi_class=&#x27;auto&#x27;, n_jobs=None, penalty=&#x27;l2&#x27;,\n",
       "                   random_state=1, solver=&#x27;lbfgs&#x27;, tol=0.0001, verbose=0,\n",
       "                   warm_start=False)</pre></div></div></div></div></div>"
      ],
      "text/plain": [
       "LogisticRegression(C=1.0, class_weight=None, dual=False, fit_intercept=True,\n",
       "                   intercept_scaling=1, l1_ratio=None, max_iter=1000,\n",
       "                   multi_class='auto', n_jobs=None, penalty='l2',\n",
       "                   random_state=1, solver='lbfgs', tol=0.0001, verbose=0,\n",
       "                   warm_start=False)"
      ]
     },
     "execution_count": 126,
     "metadata": {},
     "output_type": "execute_result"
    }
   ],
   "source": [
    "model_lr_dog.fit(X_train,y_train)"
   ]
  },
  {
   "cell_type": "code",
   "execution_count": 127,
   "id": "5b663a67",
   "metadata": {},
   "outputs": [
    {
     "data": {
      "text/html": [
       "<div>\n",
       "<style scoped>\n",
       "    .dataframe tbody tr th:only-of-type {\n",
       "        vertical-align: middle;\n",
       "    }\n",
       "\n",
       "    .dataframe tbody tr th {\n",
       "        vertical-align: top;\n",
       "    }\n",
       "\n",
       "    .dataframe thead th {\n",
       "        text-align: right;\n",
       "    }\n",
       "</style>\n",
       "<table border=\"1\" class=\"dataframe\">\n",
       "  <thead>\n",
       "    <tr style=\"text-align: right;\">\n",
       "      <th></th>\n",
       "      <th>Prediction</th>\n",
       "      <th>Actual</th>\n",
       "    </tr>\n",
       "  </thead>\n",
       "  <tbody>\n",
       "    <tr>\n",
       "      <th>0</th>\n",
       "      <td>1</td>\n",
       "      <td>1</td>\n",
       "    </tr>\n",
       "    <tr>\n",
       "      <th>1</th>\n",
       "      <td>1</td>\n",
       "      <td>1</td>\n",
       "    </tr>\n",
       "    <tr>\n",
       "      <th>2</th>\n",
       "      <td>1</td>\n",
       "      <td>1</td>\n",
       "    </tr>\n",
       "    <tr>\n",
       "      <th>3</th>\n",
       "      <td>1</td>\n",
       "      <td>1</td>\n",
       "    </tr>\n",
       "    <tr>\n",
       "      <th>4</th>\n",
       "      <td>1</td>\n",
       "      <td>0</td>\n",
       "    </tr>\n",
       "    <tr>\n",
       "      <th>5</th>\n",
       "      <td>1</td>\n",
       "      <td>1</td>\n",
       "    </tr>\n",
       "    <tr>\n",
       "      <th>6</th>\n",
       "      <td>1</td>\n",
       "      <td>1</td>\n",
       "    </tr>\n",
       "    <tr>\n",
       "      <th>7</th>\n",
       "      <td>1</td>\n",
       "      <td>1</td>\n",
       "    </tr>\n",
       "    <tr>\n",
       "      <th>8</th>\n",
       "      <td>1</td>\n",
       "      <td>1</td>\n",
       "    </tr>\n",
       "    <tr>\n",
       "      <th>9</th>\n",
       "      <td>1</td>\n",
       "      <td>1</td>\n",
       "    </tr>\n",
       "    <tr>\n",
       "      <th>10</th>\n",
       "      <td>1</td>\n",
       "      <td>1</td>\n",
       "    </tr>\n",
       "    <tr>\n",
       "      <th>11</th>\n",
       "      <td>1</td>\n",
       "      <td>1</td>\n",
       "    </tr>\n",
       "    <tr>\n",
       "      <th>12</th>\n",
       "      <td>1</td>\n",
       "      <td>1</td>\n",
       "    </tr>\n",
       "    <tr>\n",
       "      <th>13</th>\n",
       "      <td>1</td>\n",
       "      <td>1</td>\n",
       "    </tr>\n",
       "    <tr>\n",
       "      <th>14</th>\n",
       "      <td>1</td>\n",
       "      <td>1</td>\n",
       "    </tr>\n",
       "    <tr>\n",
       "      <th>15</th>\n",
       "      <td>1</td>\n",
       "      <td>1</td>\n",
       "    </tr>\n",
       "    <tr>\n",
       "      <th>16</th>\n",
       "      <td>1</td>\n",
       "      <td>1</td>\n",
       "    </tr>\n",
       "    <tr>\n",
       "      <th>17</th>\n",
       "      <td>1</td>\n",
       "      <td>0</td>\n",
       "    </tr>\n",
       "    <tr>\n",
       "      <th>18</th>\n",
       "      <td>1</td>\n",
       "      <td>1</td>\n",
       "    </tr>\n",
       "    <tr>\n",
       "      <th>19</th>\n",
       "      <td>1</td>\n",
       "      <td>0</td>\n",
       "    </tr>\n",
       "  </tbody>\n",
       "</table>\n",
       "</div>"
      ],
      "text/plain": [
       "    Prediction  Actual\n",
       "0            1       1\n",
       "1            1       1\n",
       "2            1       1\n",
       "3            1       1\n",
       "4            1       0\n",
       "5            1       1\n",
       "6            1       1\n",
       "7            1       1\n",
       "8            1       1\n",
       "9            1       1\n",
       "10           1       1\n",
       "11           1       1\n",
       "12           1       1\n",
       "13           1       1\n",
       "14           1       1\n",
       "15           1       1\n",
       "16           1       1\n",
       "17           1       0\n",
       "18           1       1\n",
       "19           1       0"
      ]
     },
     "execution_count": 127,
     "metadata": {},
     "output_type": "execute_result"
    }
   ],
   "source": [
    "y_pred = model_lr_dog.predict(X_test)\n",
    "\n",
    "results = pd.DataFrame({\"Prediction\": y_pred, \"Actual\": y_test}).reset_index(drop=True)\n",
    "results.head(20)"
   ]
  },
  {
   "cell_type": "code",
   "execution_count": 128,
   "id": "19695b41",
   "metadata": {},
   "outputs": [
    {
     "name": "stdout",
     "output_type": "stream",
     "text": [
      "0.7510477787091366\n"
     ]
    }
   ],
   "source": [
    "# Print the accuracy score\n",
    "from sklearn.metrics import accuracy_score\n",
    "print(accuracy_score(y_test, y_pred))"
   ]
  },
  {
   "cell_type": "code",
   "execution_count": 129,
   "id": "9058e6ee",
   "metadata": {},
   "outputs": [],
   "source": [
    "from sklearn.metrics import confusion_matrix, classification_report"
   ]
  },
  {
   "cell_type": "code",
   "execution_count": 130,
   "id": "323be684",
   "metadata": {},
   "outputs": [
    {
     "name": "stdout",
     "output_type": "stream",
     "text": [
      "[[   0  592]\n",
      " [   2 1792]]\n"
     ]
    }
   ],
   "source": [
    "matrix = confusion_matrix(y_test, y_pred)\n",
    "print(matrix)"
   ]
  },
  {
   "cell_type": "code",
   "execution_count": 131,
   "id": "9c3b7eb1",
   "metadata": {},
   "outputs": [
    {
     "name": "stdout",
     "output_type": "stream",
     "text": [
      "              precision    recall  f1-score   support\n",
      "\n",
      "           0       0.00      0.00      0.00       592\n",
      "           1       0.75      1.00      0.86      1794\n",
      "\n",
      "    accuracy                           0.75      2386\n",
      "   macro avg       0.38      0.50      0.43      2386\n",
      "weighted avg       0.57      0.75      0.64      2386\n",
      "\n"
     ]
    }
   ],
   "source": [
    "report = classification_report(y_test, y_pred)\n",
    "print(report)"
   ]
  },
  {
   "cell_type": "code",
   "execution_count": null,
   "id": "4a735b64",
   "metadata": {},
   "outputs": [],
   "source": []
  },
  {
   "cell_type": "markdown",
   "id": "bceee6bb",
   "metadata": {},
   "source": [
    "# Create a Random Forest Classifier Model"
   ]
  },
  {
   "cell_type": "code",
   "execution_count": 132,
   "id": "ef63c8ef",
   "metadata": {},
   "outputs": [],
   "source": [
    "# Create a random forest classifier.\n",
    "model_rf_dog = RandomForestClassifier(n_estimators=1000, random_state=23) "
   ]
  },
  {
   "cell_type": "code",
   "execution_count": 133,
   "id": "c72c1cd7",
   "metadata": {},
   "outputs": [],
   "source": [
    "# Fitting the model\n",
    "model_rf_dog = model_rf_dog.fit(X_train_scaled, y_train)"
   ]
  },
  {
   "cell_type": "code",
   "execution_count": 134,
   "id": "2656538d",
   "metadata": {},
   "outputs": [
    {
     "data": {
      "text/plain": [
       "(2386,)"
      ]
     },
     "execution_count": 134,
     "metadata": {},
     "output_type": "execute_result"
    }
   ],
   "source": [
    "y_test.shape"
   ]
  },
  {
   "cell_type": "code",
   "execution_count": 135,
   "id": "b6521b1c",
   "metadata": {},
   "outputs": [
    {
     "name": "stderr",
     "output_type": "stream",
     "text": [
      "/Users/pappus/opt/anaconda3/lib/python3.8/site-packages/sklearn/base.py:450: UserWarning: X does not have valid feature names, but LogisticRegression was fitted with feature names\n",
      "  warnings.warn(\n"
     ]
    },
    {
     "data": {
      "text/plain": [
       "array([1, 1, 1, ..., 1, 1, 1], dtype=uint8)"
      ]
     },
     "execution_count": 135,
     "metadata": {},
     "output_type": "execute_result"
    }
   ],
   "source": [
    "# Making predictions using the testing data.\n",
    "predictions = model_lr_dog.predict(X_test_scaled)\n",
    "predictions"
   ]
  },
  {
   "cell_type": "code",
   "execution_count": 136,
   "id": "0dff64cd",
   "metadata": {},
   "outputs": [
    {
     "data": {
      "text/html": [
       "<div>\n",
       "<style scoped>\n",
       "    .dataframe tbody tr th:only-of-type {\n",
       "        vertical-align: middle;\n",
       "    }\n",
       "\n",
       "    .dataframe tbody tr th {\n",
       "        vertical-align: top;\n",
       "    }\n",
       "\n",
       "    .dataframe thead th {\n",
       "        text-align: right;\n",
       "    }\n",
       "</style>\n",
       "<table border=\"1\" class=\"dataframe\">\n",
       "  <thead>\n",
       "    <tr style=\"text-align: right;\">\n",
       "      <th></th>\n",
       "      <th>Failure</th>\n",
       "      <th>Success</th>\n",
       "    </tr>\n",
       "  </thead>\n",
       "  <tbody>\n",
       "    <tr>\n",
       "      <th>Failure</th>\n",
       "      <td>27</td>\n",
       "      <td>565</td>\n",
       "    </tr>\n",
       "    <tr>\n",
       "      <th>Success</th>\n",
       "      <td>62</td>\n",
       "      <td>1732</td>\n",
       "    </tr>\n",
       "  </tbody>\n",
       "</table>\n",
       "</div>"
      ],
      "text/plain": [
       "         Failure  Success\n",
       "Failure       27      565\n",
       "Success       62     1732"
      ]
     },
     "execution_count": 136,
     "metadata": {},
     "output_type": "execute_result"
    }
   ],
   "source": [
    "# Calculating the confusion matrix.\n",
    "cm = confusion_matrix(y_test, predictions)\n",
    "\n",
    "# Create a DataFrame from the confusion matrix.\n",
    "cm_df = pd.DataFrame(\n",
    "    cm, index=[\"Failure\", \"Success\"], columns=[\"Failure\", \"Success\"])\n",
    "\n",
    "cm_df"
   ]
  },
  {
   "cell_type": "code",
   "execution_count": 137,
   "id": "525fa957",
   "metadata": {},
   "outputs": [
    {
     "data": {
      "text/plain": [
       "0.7372170997485331"
      ]
     },
     "execution_count": 137,
     "metadata": {},
     "output_type": "execute_result"
    }
   ],
   "source": [
    "# Calculating the accuracy score.\n",
    "acc_score = accuracy_score(y_test, predictions)\n",
    "\n",
    "acc_score"
   ]
  },
  {
   "cell_type": "code",
   "execution_count": 138,
   "id": "8d1266a9",
   "metadata": {},
   "outputs": [
    {
     "name": "stdout",
     "output_type": "stream",
     "text": [
      "Confusion Matrix for Dogs\n"
     ]
    },
    {
     "data": {
      "text/html": [
       "<div>\n",
       "<style scoped>\n",
       "    .dataframe tbody tr th:only-of-type {\n",
       "        vertical-align: middle;\n",
       "    }\n",
       "\n",
       "    .dataframe tbody tr th {\n",
       "        vertical-align: top;\n",
       "    }\n",
       "\n",
       "    .dataframe thead th {\n",
       "        text-align: right;\n",
       "    }\n",
       "</style>\n",
       "<table border=\"1\" class=\"dataframe\">\n",
       "  <thead>\n",
       "    <tr style=\"text-align: right;\">\n",
       "      <th></th>\n",
       "      <th>Failure</th>\n",
       "      <th>Success</th>\n",
       "    </tr>\n",
       "  </thead>\n",
       "  <tbody>\n",
       "    <tr>\n",
       "      <th>Failure</th>\n",
       "      <td>27</td>\n",
       "      <td>565</td>\n",
       "    </tr>\n",
       "    <tr>\n",
       "      <th>Success</th>\n",
       "      <td>62</td>\n",
       "      <td>1732</td>\n",
       "    </tr>\n",
       "  </tbody>\n",
       "</table>\n",
       "</div>"
      ],
      "text/plain": [
       "         Failure  Success\n",
       "Failure       27      565\n",
       "Success       62     1732"
      ]
     },
     "metadata": {},
     "output_type": "display_data"
    },
    {
     "name": "stdout",
     "output_type": "stream",
     "text": [
      "Accuracy Score : 0.7372170997485331\n",
      "Classification Report\n",
      "              precision    recall  f1-score   support\n",
      "\n",
      "           0       0.30      0.05      0.08       592\n",
      "           1       0.75      0.97      0.85      1794\n",
      "\n",
      "    accuracy                           0.74      2386\n",
      "   macro avg       0.53      0.51      0.46      2386\n",
      "weighted avg       0.64      0.74      0.66      2386\n",
      "\n"
     ]
    }
   ],
   "source": [
    "# Displaying results\n",
    "print(\"Confusion Matrix for Dogs\")\n",
    "display(cm_df)\n",
    "print(f\"Accuracy Score : {acc_score}\")\n",
    "print(\"Classification Report\")\n",
    "print(classification_report(y_test, predictions))"
   ]
  },
  {
   "cell_type": "markdown",
   "id": "a9fb7379",
   "metadata": {},
   "source": [
    "# List the features sorted in descending order by feature importance for Dogs\n"
   ]
  },
  {
   "cell_type": "code",
   "execution_count": 139,
   "id": "cd5df582",
   "metadata": {},
   "outputs": [
    {
     "data": {
      "text/plain": [
       "[(0.39309657309654383, 'age_upon_outcome(days)'),\n",
       " (0.24277747567607447, 'days_in_shelter'),\n",
       " (0.1568803427337322, 'age_upon_intake(days)'),\n",
       " (0.015147144776372922, 'color_intake_Other'),\n",
       " (0.014008047917282588, 'breed_intake_Other'),\n",
       " (0.012890201019817811, 'intake_type_Stray'),\n",
       " (0.011385420311026942, 'intake_type_Owner Surrender'),\n",
       " (0.010216272413649438, 'color_intake_Black/White'),\n",
       " (0.009652607249224893, 'breed_intake_Pit Bull Mix'),\n",
       " (0.009007953197859351, 'breed_intake_Chihuahua Shorthair Mix'),\n",
       " (0.008893575835203442, 'breed_intake_Labrador Retriever Mix'),\n",
       " (0.008336976988455175, 'intake_type_Public Assist'),\n",
       " (0.0076031354169581395, 'color_intake_Brown/White'),\n",
       " (0.007474513331844545, 'color_intake_Tan/White'),\n",
       " (0.007354391494561423, 'intake_condition_Normal'),\n",
       " (0.00721322283037814, 'color_intake_Black'),\n",
       " (0.007124962082525152, 'intake_condition_Other'),\n",
       " (0.00676771954252847, 'color_intake_White'),\n",
       " (0.006545532706169518, 'color_intake_Brown'),\n",
       " (0.00619199315030537, 'color_intake_Black/Tan'),\n",
       " (0.006083037428707928, 'color_intake_Tricolor'),\n",
       " (0.005891375334720018, 'color_intake_Black/Brown'),\n",
       " (0.005883826515307021, 'color_intake_Tan'),\n",
       " (0.005818861744130591, 'breed_intake_German Shepherd Mix'),\n",
       " (0.005576467961738533, 'breed_intake_Pit Bull'),\n",
       " (0.004558513132027838, 'breed_intake_Australian Cattle Dog Mix'),\n",
       " (0.004035796187215843, 'breed_intake_Dachshund Mix'),\n",
       " (0.003693153559577773, 'breed_intake_Chihuahua Shorthair'),\n",
       " (0.0032440487308550417, 'breed_intake_Labrador Retriever'),\n",
       " (0.003193968759033919, 'breed_intake_German Shepherd'),\n",
       " (0.0016748233355614879, 'intake_type_Abandoned'),\n",
       " (0.0012359306943159514, 'intake_condition_Aged'),\n",
       " (0.0005421348462941408, 'intake_type_Euthanasia Request')]"
      ]
     },
     "execution_count": 139,
     "metadata": {},
     "output_type": "execute_result"
    }
   ],
   "source": [
    "attributes = list(df_dog_ML)\n",
    "\n",
    "sorted(zip(model_rf_dog.feature_importances_, attributes), reverse=True)\n",
    "\n",
    "#print(attributes,model_brfc.feature_importances_)"
   ]
  },
  {
   "cell_type": "markdown",
   "id": "30772ca2",
   "metadata": {},
   "source": [
    "## Calculate feature importance in the Random Forest model.\n"
   ]
  },
  {
   "cell_type": "code",
   "execution_count": 140,
   "id": "3daba2ee",
   "metadata": {},
   "outputs": [
    {
     "data": {
      "text/plain": [
       "array([0.15688034, 0.39309657, 0.24277748, 0.00721322, 0.00589138,\n",
       "       0.00619199, 0.01021627, 0.00654553, 0.00760314, 0.01514714,\n",
       "       0.00588383, 0.00747451, 0.00608304, 0.00676772, 0.00455851,\n",
       "       0.00369315, 0.00900795, 0.0040358 , 0.00319397, 0.00581886,\n",
       "       0.00324405, 0.00889358, 0.01400805, 0.00557647, 0.00965261,\n",
       "       0.00123593, 0.00735439, 0.00712496, 0.00167482, 0.00054213,\n",
       "       0.01138542, 0.00833698, 0.0128902 ])"
      ]
     },
     "execution_count": 140,
     "metadata": {},
     "output_type": "execute_result"
    }
   ],
   "source": [
    "importances = model_rf_dog.feature_importances_\n",
    "importances"
   ]
  },
  {
   "cell_type": "code",
   "execution_count": 141,
   "id": "14eccb53",
   "metadata": {},
   "outputs": [
    {
     "data": {
      "text/plain": [
       "Text(69.0, 0.5, 'Truth')"
      ]
     },
     "execution_count": 141,
     "metadata": {},
     "output_type": "execute_result"
    },
    {
     "data": {
      "image/png": "[encoded data removed]",
      "text/plain": [
       "<Figure size 720x504 with 2 Axes>"
      ]
     },
     "metadata": {
      "needs_background": "light"
     },
     "output_type": "display_data"
    }
   ],
   "source": [
    "#Plotting a confustion matrix using matplotlib\n",
    "\n",
    "\n",
    "%matplotlib inline\n",
    "import matplotlib.pyplot as plt\n",
    "\n",
    "import seaborn as sn\n",
    "plt.figure(figsize=(10,7))\n",
    "sn.heatmap(cm_df,annot=True)\n",
    "plt.xlabel('Predicted')\n",
    "plt.ylabel('Truth')"
   ]
  }
 ],
 "metadata": {
  "kernelspec": {
   "display_name": "PythonData",
   "language": "python",
   "name": "pythondata"
  },
  "language_info": {
   "codemirror_mode": {
    "name": "ipython",
    "version": 3
   },
   "file_extension": ".py",
   "mimetype": "text/x-python",
   "name": "python",
   "nbconvert_exporter": "python",
   "pygments_lexer": "ipython3",
   "version": "3.8.13"
  }
 },
 "nbformat": 4,
 "nbformat_minor": 5
}
