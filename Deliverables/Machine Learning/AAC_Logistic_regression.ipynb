{
 "cells": [
  {
   "cell_type": "code",
   "execution_count": 361,
   "id": "aa8b2194",
   "metadata": {},
   "outputs": [],
   "source": [
    "import pandas as pd \n",
    "import sklearn as skl\n",
    "from sklearn.preprocessing import OneHotEncoder\n",
    "from sklearn.linear_model import LogisticRegression\n",
    "from sklearn.metrics import accuracy_score\n",
    "from sklearn.model_selection import train_test_split\n",
    "from sklearn.preprocessing import StandardScaler\n",
    "\n"
   ]
  },
  {
   "cell_type": "code",
   "execution_count": 309,
   "id": "e908a8f4",
   "metadata": {},
   "outputs": [
    {
     "data": {
      "text/html": [
       "<div>\n",
       "<style scoped>\n",
       "    .dataframe tbody tr th:only-of-type {\n",
       "        vertical-align: middle;\n",
       "    }\n",
       "\n",
       "    .dataframe tbody tr th {\n",
       "        vertical-align: top;\n",
       "    }\n",
       "\n",
       "    .dataframe thead th {\n",
       "        text-align: right;\n",
       "    }\n",
       "</style>\n",
       "<table border=\"1\" class=\"dataframe\">\n",
       "  <thead>\n",
       "    <tr style=\"text-align: right;\">\n",
       "      <th></th>\n",
       "      <th>index_id_intake</th>\n",
       "      <th>animal_id_intake</th>\n",
       "      <th>datetime_intake</th>\n",
       "      <th>monthyear_intake</th>\n",
       "      <th>found_location</th>\n",
       "      <th>intake_type</th>\n",
       "      <th>intake_condition</th>\n",
       "      <th>animal_type_intake</th>\n",
       "      <th>sex_upon_intake</th>\n",
       "      <th>age_upon_intake</th>\n",
       "      <th>...</th>\n",
       "      <th>color_outcome</th>\n",
       "      <th>Age_Upon_Outcome(days)</th>\n",
       "      <th>outcome_month</th>\n",
       "      <th>outcome_year</th>\n",
       "      <th>outcome_weekday</th>\n",
       "      <th>outcome_hour</th>\n",
       "      <th>Age_Upon_Outcome(years)</th>\n",
       "      <th>age_range_outcome</th>\n",
       "      <th>outcome_frequency</th>\n",
       "      <th>order_of_outcome</th>\n",
       "    </tr>\n",
       "  </thead>\n",
       "  <tbody>\n",
       "    <tr>\n",
       "      <th>0</th>\n",
       "      <td>70641</td>\n",
       "      <td>A178569</td>\n",
       "      <td>2014-03-17 09:45:00</td>\n",
       "      <td>Mar-14</td>\n",
       "      <td>Austin (TX)</td>\n",
       "      <td>Public Assist</td>\n",
       "      <td>Normal</td>\n",
       "      <td>Dog</td>\n",
       "      <td>Neutered Male</td>\n",
       "      <td>15 years</td>\n",
       "      <td>...</td>\n",
       "      <td>White/Black</td>\n",
       "      <td>5485</td>\n",
       "      <td>3</td>\n",
       "      <td>2014</td>\n",
       "      <td>Sunday</td>\n",
       "      <td>15</td>\n",
       "      <td>15.03</td>\n",
       "      <td>(15.0, 17.5]</td>\n",
       "      <td>1</td>\n",
       "      <td>1</td>\n",
       "    </tr>\n",
       "    <tr>\n",
       "      <th>1</th>\n",
       "      <td>47828</td>\n",
       "      <td>A189592</td>\n",
       "      <td>2015-09-18 17:46:00</td>\n",
       "      <td>Sep-15</td>\n",
       "      <td>Chesney And Slaughter in Austin (TX)</td>\n",
       "      <td>Stray</td>\n",
       "      <td>Normal</td>\n",
       "      <td>Dog</td>\n",
       "      <td>Spayed Female</td>\n",
       "      <td>18 years</td>\n",
       "      <td>...</td>\n",
       "      <td>Brown/White</td>\n",
       "      <td>6622</td>\n",
       "      <td>9</td>\n",
       "      <td>2015</td>\n",
       "      <td>Friday</td>\n",
       "      <td>19</td>\n",
       "      <td>18.14</td>\n",
       "      <td>(17.5, 20.0]</td>\n",
       "      <td>1</td>\n",
       "      <td>1</td>\n",
       "    </tr>\n",
       "    <tr>\n",
       "      <th>2</th>\n",
       "      <td>64036</td>\n",
       "      <td>A215368</td>\n",
       "      <td>2014-08-04 13:51:00</td>\n",
       "      <td>Aug-14</td>\n",
       "      <td>Clay/Ulrich in Austin (TX)</td>\n",
       "      <td>Stray</td>\n",
       "      <td>Normal</td>\n",
       "      <td>Dog</td>\n",
       "      <td>Neutered Male</td>\n",
       "      <td>13 years</td>\n",
       "      <td>...</td>\n",
       "      <td>Black</td>\n",
       "      <td>4947</td>\n",
       "      <td>8</td>\n",
       "      <td>2014</td>\n",
       "      <td>Monday</td>\n",
       "      <td>16</td>\n",
       "      <td>13.55</td>\n",
       "      <td>(12.5, 15.0]</td>\n",
       "      <td>1</td>\n",
       "      <td>1</td>\n",
       "    </tr>\n",
       "    <tr>\n",
       "      <th>3</th>\n",
       "      <td>44677</td>\n",
       "      <td>A254503</td>\n",
       "      <td>2014-11-09 11:04:00</td>\n",
       "      <td>Nov-14</td>\n",
       "      <td>8603 Fathom Cir in Austin (TX)</td>\n",
       "      <td>Stray</td>\n",
       "      <td>Normal</td>\n",
       "      <td>Dog</td>\n",
       "      <td>Spayed Female</td>\n",
       "      <td>17 years</td>\n",
       "      <td>...</td>\n",
       "      <td>Tan</td>\n",
       "      <td>6399</td>\n",
       "      <td>11</td>\n",
       "      <td>2014</td>\n",
       "      <td>Thursday</td>\n",
       "      <td>11</td>\n",
       "      <td>17.53</td>\n",
       "      <td>(17.5, 20.0]</td>\n",
       "      <td>1</td>\n",
       "      <td>1</td>\n",
       "    </tr>\n",
       "    <tr>\n",
       "      <th>4</th>\n",
       "      <td>107124</td>\n",
       "      <td>A261770</td>\n",
       "      <td>2014-11-07 13:40:00</td>\n",
       "      <td>Nov-14</td>\n",
       "      <td>Del Valle (TX)</td>\n",
       "      <td>Euthanasia Request</td>\n",
       "      <td>Normal</td>\n",
       "      <td>Cat</td>\n",
       "      <td>Neutered Male</td>\n",
       "      <td>20 years</td>\n",
       "      <td>...</td>\n",
       "      <td>White</td>\n",
       "      <td>7305</td>\n",
       "      <td>11</td>\n",
       "      <td>2014</td>\n",
       "      <td>Friday</td>\n",
       "      <td>15</td>\n",
       "      <td>20.01</td>\n",
       "      <td>(20.0, 22.5]</td>\n",
       "      <td>1</td>\n",
       "      <td>1</td>\n",
       "    </tr>\n",
       "  </tbody>\n",
       "</table>\n",
       "<p>5 rows × 42 columns</p>\n",
       "</div>"
      ],
      "text/plain": [
       "   index_id_intake animal_id_intake      datetime_intake monthyear_intake  \\\n",
       "0            70641          A178569  2014-03-17 09:45:00           Mar-14   \n",
       "1            47828          A189592  2015-09-18 17:46:00           Sep-15   \n",
       "2            64036          A215368  2014-08-04 13:51:00           Aug-14   \n",
       "3            44677          A254503  2014-11-09 11:04:00           Nov-14   \n",
       "4           107124          A261770  2014-11-07 13:40:00           Nov-14   \n",
       "\n",
       "                         found_location         intake_type intake_condition  \\\n",
       "0                           Austin (TX)       Public Assist           Normal   \n",
       "1  Chesney And Slaughter in Austin (TX)               Stray           Normal   \n",
       "2            Clay/Ulrich in Austin (TX)               Stray           Normal   \n",
       "3        8603 Fathom Cir in Austin (TX)               Stray           Normal   \n",
       "4                        Del Valle (TX)  Euthanasia Request           Normal   \n",
       "\n",
       "  animal_type_intake sex_upon_intake age_upon_intake  ... color_outcome  \\\n",
       "0                Dog   Neutered Male        15 years  ...   White/Black   \n",
       "1                Dog   Spayed Female        18 years  ...   Brown/White   \n",
       "2                Dog   Neutered Male        13 years  ...         Black   \n",
       "3                Dog   Spayed Female        17 years  ...           Tan   \n",
       "4                Cat   Neutered Male        20 years  ...         White   \n",
       "\n",
       "  Age_Upon_Outcome(days)  outcome_month  outcome_year outcome_weekday  \\\n",
       "0                   5485              3          2014          Sunday   \n",
       "1                   6622              9          2015          Friday   \n",
       "2                   4947              8          2014          Monday   \n",
       "3                   6399             11          2014        Thursday   \n",
       "4                   7305             11          2014          Friday   \n",
       "\n",
       "   outcome_hour  Age_Upon_Outcome(years) age_range_outcome  outcome_frequency  \\\n",
       "0            15                    15.03      (15.0, 17.5]                  1   \n",
       "1            19                    18.14      (17.5, 20.0]                  1   \n",
       "2            16                    13.55      (12.5, 15.0]                  1   \n",
       "3            11                    17.53      (17.5, 20.0]                  1   \n",
       "4            15                    20.01      (20.0, 22.5]                  1   \n",
       "\n",
       "   order_of_outcome  \n",
       "0                 1  \n",
       "1                 1  \n",
       "2                 1  \n",
       "3                 1  \n",
       "4                 1  \n",
       "\n",
       "[5 rows x 42 columns]"
      ]
     },
     "execution_count": 309,
     "metadata": {},
     "output_type": "execute_result"
    }
   ],
   "source": [
    "df = pd.read_csv(\"./acc_intake_outcome.csv\")\n",
    "df.head()"
   ]
  },
  {
   "cell_type": "code",
   "execution_count": 310,
   "id": "cab8e0e6",
   "metadata": {},
   "outputs": [
    {
     "data": {
      "text/plain": [
       "Index(['index_id_intake', 'animal_id_intake', 'datetime_intake',\n",
       "       'monthyear_intake', 'found_location', 'intake_type', 'intake_condition',\n",
       "       'animal_type_intake', 'sex_upon_intake', 'age_upon_intake',\n",
       "       'breed_intake', 'color_intake', 'Age_Upon_Intake(days)',\n",
       "       'Age_Upon_Intake(years)', 'age_range_intake', 'intake_month',\n",
       "       'intake_year', 'intake_weekday', 'intake_hour', 'intake_frequency',\n",
       "       'order_of_intake', 'index_id_outcome', 'animal_id_outcome',\n",
       "       'datetime_outcome', 'monthyear_outcome', 'date_of_birth_outcome',\n",
       "       'outcome_type', 'outcome_subtype', 'animal_type_outcome',\n",
       "       'sex_upon_outcome', 'age_upon_outcome', 'breed_outcome',\n",
       "       'color_outcome', 'Age_Upon_Outcome(days)', 'outcome_month',\n",
       "       'outcome_year', 'outcome_weekday', 'outcome_hour',\n",
       "       'Age_Upon_Outcome(years)', 'age_range_outcome', 'outcome_frequency',\n",
       "       'order_of_outcome'],\n",
       "      dtype='object')"
      ]
     },
     "execution_count": 310,
     "metadata": {},
     "output_type": "execute_result"
    }
   ],
   "source": [
    "df_ML = df.copy()\n",
    "df_ML.columns\n"
   ]
  },
  {
   "cell_type": "markdown",
   "id": "666c1a5c",
   "metadata": {},
   "source": [
    "# Keep following columns  age ,  breed , color , intake type,intake condition & outcome type"
   ]
  },
  {
   "cell_type": "code",
   "execution_count": 311,
   "id": "e5cd6e15",
   "metadata": {},
   "outputs": [],
   "source": [
    "df_ML= df.drop(['index_id_intake','animal_id_intake','age_range_intake', 'breed_outcome','datetime_intake',\n",
    "                'monthyear_intake', 'found_location','sex_upon_intake','intake_month','intake_year','age_upon_intake', \n",
    "                'intake_weekday', 'intake_hour', 'intake_frequency','order_of_intake','index_id_outcome',\n",
    "                'animal_id_outcome','datetime_outcome', 'monthyear_outcome', 'date_of_birth_outcome', 'outcome_subtype', 'animal_type_outcome','sex_upon_outcome',  'outcome_month',\n",
    "                'outcome_year', 'outcome_weekday', 'outcome_hour','outcome_frequency','order_of_outcome',\n",
    "               'Age_Upon_Intake(years)', 'age_upon_outcome','Age_Upon_Outcome(years)', 'age_range_outcome','color_outcome'],axis=1)"
   ]
  },
  {
   "cell_type": "code",
   "execution_count": 312,
   "id": "a5f9ba7f",
   "metadata": {},
   "outputs": [
    {
     "data": {
      "text/html": [
       "<div>\n",
       "<style scoped>\n",
       "    .dataframe tbody tr th:only-of-type {\n",
       "        vertical-align: middle;\n",
       "    }\n",
       "\n",
       "    .dataframe tbody tr th {\n",
       "        vertical-align: top;\n",
       "    }\n",
       "\n",
       "    .dataframe thead th {\n",
       "        text-align: right;\n",
       "    }\n",
       "</style>\n",
       "<table border=\"1\" class=\"dataframe\">\n",
       "  <thead>\n",
       "    <tr style=\"text-align: right;\">\n",
       "      <th></th>\n",
       "      <th>intake_type</th>\n",
       "      <th>intake_condition</th>\n",
       "      <th>animal_type_intake</th>\n",
       "      <th>breed_intake</th>\n",
       "      <th>color_intake</th>\n",
       "      <th>Age_Upon_Intake(days)</th>\n",
       "      <th>outcome_type</th>\n",
       "      <th>Age_Upon_Outcome(days)</th>\n",
       "    </tr>\n",
       "  </thead>\n",
       "  <tbody>\n",
       "    <tr>\n",
       "      <th>0</th>\n",
       "      <td>Public Assist</td>\n",
       "      <td>Normal</td>\n",
       "      <td>Dog</td>\n",
       "      <td>Shetland Sheepdog Mix</td>\n",
       "      <td>White/Black</td>\n",
       "      <td>5475</td>\n",
       "      <td>Return to Owner</td>\n",
       "      <td>5485</td>\n",
       "    </tr>\n",
       "    <tr>\n",
       "      <th>1</th>\n",
       "      <td>Stray</td>\n",
       "      <td>Normal</td>\n",
       "      <td>Dog</td>\n",
       "      <td>Shetland Sheepdog Mix</td>\n",
       "      <td>Brown/White</td>\n",
       "      <td>6570</td>\n",
       "      <td>Return to Owner</td>\n",
       "      <td>6622</td>\n",
       "    </tr>\n",
       "  </tbody>\n",
       "</table>\n",
       "</div>"
      ],
      "text/plain": [
       "     intake_type intake_condition animal_type_intake           breed_intake  \\\n",
       "0  Public Assist           Normal                Dog  Shetland Sheepdog Mix   \n",
       "1          Stray           Normal                Dog  Shetland Sheepdog Mix   \n",
       "\n",
       "  color_intake  Age_Upon_Intake(days)     outcome_type  Age_Upon_Outcome(days)  \n",
       "0  White/Black                   5475  Return to Owner                    5485  \n",
       "1  Brown/White                   6570  Return to Owner                    6622  "
      ]
     },
     "execution_count": 312,
     "metadata": {},
     "output_type": "execute_result"
    }
   ],
   "source": [
    "df_ML.head(2)"
   ]
  },
  {
   "cell_type": "code",
   "execution_count": 313,
   "id": "2dc1f90e",
   "metadata": {},
   "outputs": [
    {
     "data": {
      "text/plain": [
       "array(['Normal', 'Sick', 'Aged', 'Medical', 'Injured', 'Nursing', 'Other',\n",
       "       'Feral', 'Pregnant', 'Behavior', 'Neonatal', 'Space', 'Med Attn',\n",
       "       'Neurologic', 'Panleuk', 'Med Urgent', 'Agonal'], dtype=object)"
      ]
     },
     "execution_count": 313,
     "metadata": {},
     "output_type": "execute_result"
    }
   ],
   "source": [
    "df_ML.intake_condition.unique()"
   ]
  },
  {
   "cell_type": "markdown",
   "id": "f149ed93",
   "metadata": {},
   "source": [
    "### Checking for the unique values of the all the categories that we choose for ML."
   ]
  },
  {
   "cell_type": "code",
   "execution_count": 314,
   "id": "c89838d3",
   "metadata": {},
   "outputs": [
    {
     "name": "stdout",
     "output_type": "stream",
     "text": [
      "intake_type 5\n",
      "intake_condition 17\n",
      "animal_type_intake 5\n",
      "breed_intake 2749\n",
      "color_intake 616\n",
      "outcome_type 11\n"
     ]
    }
   ],
   "source": [
    "col = ['intake_type','intake_condition','animal_type_intake','breed_intake','color_intake','outcome_type']\n",
    "\n",
    "for col in df_ML[col]:\n",
    "    print(col,df_ML[col].nunique())\n"
   ]
  },
  {
   "cell_type": "code",
   "execution_count": 315,
   "id": "e69fb57b",
   "metadata": {},
   "outputs": [
    {
     "data": {
      "text/plain": [
       "array(['Normal', 'Sick', 'Aged', 'Medical', 'Injured', 'Nursing', 'Other',\n",
       "       'Feral', 'Pregnant', 'Behavior', 'Neonatal', 'Space', 'Med Attn',\n",
       "       'Neurologic', 'Panleuk', 'Med Urgent', 'Agonal'], dtype=object)"
      ]
     },
     "execution_count": 315,
     "metadata": {},
     "output_type": "execute_result"
    }
   ],
   "source": [
    "df_ML['intake_condition'].unique()"
   ]
  },
  {
   "cell_type": "markdown",
   "id": "fe942cbb",
   "metadata": {},
   "source": [
    "### Hot encoding color_intake to 10 categories and other  (616 in total)"
   ]
  },
  {
   "cell_type": "code",
   "execution_count": 316,
   "id": "9d5ac96e",
   "metadata": {},
   "outputs": [
    {
     "data": {
      "text/plain": [
       "Black/White                14567\n",
       "Black                      11559\n",
       "Brown Tabby                 8268\n",
       "White                       5015\n",
       "Brown/White                 4693\n",
       "                           ...  \n",
       "Tortie/Gold                    1\n",
       "Orange Tabby/Black             1\n",
       "Blue Tabby/Orange              1\n",
       "Cream Tabby/Cream Tabby        1\n",
       "White/Tortie Point             1\n",
       "Name: color_intake, Length: 616, dtype: int64"
      ]
     },
     "execution_count": 316,
     "metadata": {},
     "output_type": "execute_result"
    }
   ],
   "source": [
    "# finding the count of all categories in color_intake\n",
    "color_intake_counts = df_ML.color_intake.value_counts()\n",
    "color_intake_counts"
   ]
  },
  {
   "cell_type": "code",
   "execution_count": 317,
   "id": "e7fe377e",
   "metadata": {},
   "outputs": [
    {
     "data": {
      "text/plain": [
       "<AxesSubplot:ylabel='Density'>"
      ]
     },
     "execution_count": 317,
     "metadata": {},
     "output_type": "execute_result"
    },
    {
     "data": {
      "image/png": "[encoded data removed]",
      "text/plain": [
       "<Figure size 432x288 with 1 Axes>"
      ]
     },
     "metadata": {
      "needs_background": "light"
     },
     "output_type": "display_data"
    }
   ],
   "source": [
    "color_intake_counts.plot.density()"
   ]
  },
  {
   "cell_type": "code",
   "execution_count": 318,
   "id": "2f5dac67",
   "metadata": {},
   "outputs": [
    {
     "data": {
      "text/plain": [
       "Other                72791\n",
       "Black/White          14567\n",
       "Black                11559\n",
       "Brown Tabby           8268\n",
       "White                 5015\n",
       "Brown/White           4693\n",
       "Brown Tabby/White     4259\n",
       "Tan/White             4228\n",
       "Orange Tabby          4025\n",
       "White/Black           3972\n",
       "Blue/White            3892\n",
       "Name: color_intake, dtype: int64"
      ]
     },
     "execution_count": 318,
     "metadata": {},
     "output_type": "execute_result"
    }
   ],
   "source": [
    "# Determine which values to replace\n",
    "replace_color_intake = list(color_intake_counts[color_intake_counts < 3892].index)\n",
    "\n",
    "# Replace in DataFrame\n",
    "for color in replace_color_intake:\n",
    "    df_ML.color_intake = df_ML.color_intake.replace(color,\"Other\")\n",
    "\n",
    "\n",
    "# Check to make sure binning was successful\n",
    "df_ML.color_intake.value_counts()\n"
   ]
  },
  {
   "cell_type": "code",
   "execution_count": 319,
   "id": "76afc0d0",
   "metadata": {},
   "outputs": [
    {
     "data": {
      "text/html": [
       "<div>\n",
       "<style scoped>\n",
       "    .dataframe tbody tr th:only-of-type {\n",
       "        vertical-align: middle;\n",
       "    }\n",
       "\n",
       "    .dataframe tbody tr th {\n",
       "        vertical-align: top;\n",
       "    }\n",
       "\n",
       "    .dataframe thead th {\n",
       "        text-align: right;\n",
       "    }\n",
       "</style>\n",
       "<table border=\"1\" class=\"dataframe\">\n",
       "  <thead>\n",
       "    <tr style=\"text-align: right;\">\n",
       "      <th></th>\n",
       "      <th>color_intake_Black</th>\n",
       "      <th>color_intake_Black/White</th>\n",
       "      <th>color_intake_Blue/White</th>\n",
       "      <th>color_intake_Brown Tabby</th>\n",
       "      <th>color_intake_Brown Tabby/White</th>\n",
       "      <th>color_intake_Brown/White</th>\n",
       "      <th>color_intake_Orange Tabby</th>\n",
       "      <th>color_intake_Other</th>\n",
       "      <th>color_intake_Tan/White</th>\n",
       "      <th>color_intake_White</th>\n",
       "      <th>color_intake_White/Black</th>\n",
       "    </tr>\n",
       "  </thead>\n",
       "  <tbody>\n",
       "    <tr>\n",
       "      <th>0</th>\n",
       "      <td>0.0</td>\n",
       "      <td>0.0</td>\n",
       "      <td>0.0</td>\n",
       "      <td>0.0</td>\n",
       "      <td>0.0</td>\n",
       "      <td>0.0</td>\n",
       "      <td>0.0</td>\n",
       "      <td>0.0</td>\n",
       "      <td>0.0</td>\n",
       "      <td>0.0</td>\n",
       "      <td>1.0</td>\n",
       "    </tr>\n",
       "    <tr>\n",
       "      <th>1</th>\n",
       "      <td>0.0</td>\n",
       "      <td>0.0</td>\n",
       "      <td>0.0</td>\n",
       "      <td>0.0</td>\n",
       "      <td>0.0</td>\n",
       "      <td>1.0</td>\n",
       "      <td>0.0</td>\n",
       "      <td>0.0</td>\n",
       "      <td>0.0</td>\n",
       "      <td>0.0</td>\n",
       "      <td>0.0</td>\n",
       "    </tr>\n",
       "    <tr>\n",
       "      <th>2</th>\n",
       "      <td>1.0</td>\n",
       "      <td>0.0</td>\n",
       "      <td>0.0</td>\n",
       "      <td>0.0</td>\n",
       "      <td>0.0</td>\n",
       "      <td>0.0</td>\n",
       "      <td>0.0</td>\n",
       "      <td>0.0</td>\n",
       "      <td>0.0</td>\n",
       "      <td>0.0</td>\n",
       "      <td>0.0</td>\n",
       "    </tr>\n",
       "    <tr>\n",
       "      <th>3</th>\n",
       "      <td>0.0</td>\n",
       "      <td>0.0</td>\n",
       "      <td>0.0</td>\n",
       "      <td>0.0</td>\n",
       "      <td>0.0</td>\n",
       "      <td>0.0</td>\n",
       "      <td>0.0</td>\n",
       "      <td>1.0</td>\n",
       "      <td>0.0</td>\n",
       "      <td>0.0</td>\n",
       "      <td>0.0</td>\n",
       "    </tr>\n",
       "    <tr>\n",
       "      <th>4</th>\n",
       "      <td>0.0</td>\n",
       "      <td>0.0</td>\n",
       "      <td>0.0</td>\n",
       "      <td>0.0</td>\n",
       "      <td>0.0</td>\n",
       "      <td>0.0</td>\n",
       "      <td>0.0</td>\n",
       "      <td>0.0</td>\n",
       "      <td>0.0</td>\n",
       "      <td>1.0</td>\n",
       "      <td>0.0</td>\n",
       "    </tr>\n",
       "  </tbody>\n",
       "</table>\n",
       "</div>"
      ],
      "text/plain": [
       "   color_intake_Black  color_intake_Black/White  color_intake_Blue/White  \\\n",
       "0                 0.0                       0.0                      0.0   \n",
       "1                 0.0                       0.0                      0.0   \n",
       "2                 1.0                       0.0                      0.0   \n",
       "3                 0.0                       0.0                      0.0   \n",
       "4                 0.0                       0.0                      0.0   \n",
       "\n",
       "   color_intake_Brown Tabby  color_intake_Brown Tabby/White  \\\n",
       "0                       0.0                             0.0   \n",
       "1                       0.0                             0.0   \n",
       "2                       0.0                             0.0   \n",
       "3                       0.0                             0.0   \n",
       "4                       0.0                             0.0   \n",
       "\n",
       "   color_intake_Brown/White  color_intake_Orange Tabby  color_intake_Other  \\\n",
       "0                       0.0                        0.0                 0.0   \n",
       "1                       1.0                        0.0                 0.0   \n",
       "2                       0.0                        0.0                 0.0   \n",
       "3                       0.0                        0.0                 1.0   \n",
       "4                       0.0                        0.0                 0.0   \n",
       "\n",
       "   color_intake_Tan/White  color_intake_White  color_intake_White/Black  \n",
       "0                     0.0                 0.0                       1.0  \n",
       "1                     0.0                 0.0                       0.0  \n",
       "2                     0.0                 0.0                       0.0  \n",
       "3                     0.0                 0.0                       0.0  \n",
       "4                     0.0                 1.0                       0.0  "
      ]
     },
     "execution_count": 319,
     "metadata": {},
     "output_type": "execute_result"
    }
   ],
   "source": [
    "enc_color = OneHotEncoder(sparse=False)\n",
    "\n",
    "# Fit the encoder and produce encoded DataFrame\n",
    "encode_df_color = pd.DataFrame(enc_color.fit_transform(df_ML.color_intake.values.reshape(-1,1)))\n",
    "#print(encode_df)\n",
    "# Rename encoded columns\n",
    "encode_df_color.columns = enc_color.get_feature_names_out(['color_intake'])\n",
    "encode_df_color.head()"
   ]
  },
  {
   "cell_type": "code",
   "execution_count": 320,
   "id": "8f62844f",
   "metadata": {},
   "outputs": [
    {
     "name": "stderr",
     "output_type": "stream",
     "text": [
      "/var/folders/3m/mj278b89297553km9_g94ghr0000gn/T/ipykernel_14268/2328822473.py:1: FutureWarning: In a future version of pandas all arguments of DataFrame.drop except for the argument 'labels' will be keyword-only.\n",
      "  df_ML=df_ML.merge(encode_df_color,left_index=True,right_index=True).drop(\"color_intake\",1)\n"
     ]
    }
   ],
   "source": [
    "df_ML=df_ML.merge(encode_df_color,left_index=True,right_index=True).drop(\"color_intake\",1)\n"
   ]
  },
  {
   "cell_type": "markdown",
   "id": "18eb584b",
   "metadata": {},
   "source": [
    "### Hot encoding breed_intake to 10 categories and other (2749 in total)"
   ]
  },
  {
   "cell_type": "code",
   "execution_count": 321,
   "id": "f75b1bdb",
   "metadata": {},
   "outputs": [
    {
     "data": {
      "text/plain": [
       "Domestic Shorthair Mix                                   32671\n",
       "Domestic Shorthair                                       12070\n",
       "Pit Bull Mix                                              9085\n",
       "Labrador Retriever Mix                                    7642\n",
       "Chihuahua Shorthair Mix                                   6584\n",
       "                                                         ...  \n",
       "American Pit Bull Terrier/Black Mouth Cur                    1\n",
       "Shih Tzu/Dachshund Longhair                                  1\n",
       "Siberian Husky/Golden Retriever                              1\n",
       "Pit Bull/Australian Kelpie                                   1\n",
       "Labrador Retriever/Nova Scotia Duck Tolling Retriever        1\n",
       "Name: breed_intake, Length: 2749, dtype: int64"
      ]
     },
     "execution_count": 321,
     "metadata": {},
     "output_type": "execute_result"
    }
   ],
   "source": [
    "breed_intake_counts = df_ML.breed_intake.value_counts()\n",
    "breed_intake_counts\n"
   ]
  },
  {
   "cell_type": "code",
   "execution_count": 322,
   "id": "098ae3f5",
   "metadata": {},
   "outputs": [
    {
     "data": {
      "text/plain": [
       "<AxesSubplot:ylabel='Density'>"
      ]
     },
     "execution_count": 322,
     "metadata": {},
     "output_type": "execute_result"
    },
    {
     "data": {
      "image/png": "[encoded data removed]",
      "text/plain": [
       "<Figure size 432x288 with 1 Axes>"
      ]
     },
     "metadata": {
      "needs_background": "light"
     },
     "output_type": "display_data"
    }
   ],
   "source": [
    "breed_intake_counts.plot.density()"
   ]
  },
  {
   "cell_type": "code",
   "execution_count": 323,
   "id": "1f7f016c",
   "metadata": {},
   "outputs": [
    {
     "data": {
      "text/plain": [
       "Other                        56945\n",
       "Domestic Shorthair Mix       32671\n",
       "Domestic Shorthair           12070\n",
       "Pit Bull Mix                  9085\n",
       "Labrador Retriever Mix        7642\n",
       "Chihuahua Shorthair Mix       6584\n",
       "German Shepherd Mix           3493\n",
       "Domestic Medium Hair Mix      3264\n",
       "Pit Bull                      2140\n",
       "Australian Cattle Dog Mix     1743\n",
       "Domestic Longhair Mix         1632\n",
       "Name: breed_intake, dtype: int64"
      ]
     },
     "execution_count": 323,
     "metadata": {},
     "output_type": "execute_result"
    }
   ],
   "source": [
    "# Determine which values to replace\n",
    "replace_breed_intake = list(breed_intake_counts[breed_intake_counts < 1632].index)\n",
    "replace_breed_intake\n",
    "# # Replace in DataFrame\n",
    "for breed in replace_breed_intake:\n",
    "    df_ML.breed_intake = df_ML.breed_intake.replace(breed,\"Other\")\n",
    "\n",
    "\n",
    "\n",
    "# # # Check to make sure binning was successful\n",
    "df_ML.breed_intake.value_counts()\n"
   ]
  },
  {
   "cell_type": "code",
   "execution_count": 324,
   "id": "4c75f272",
   "metadata": {},
   "outputs": [
    {
     "data": {
      "text/html": [
       "<div>\n",
       "<style scoped>\n",
       "    .dataframe tbody tr th:only-of-type {\n",
       "        vertical-align: middle;\n",
       "    }\n",
       "\n",
       "    .dataframe tbody tr th {\n",
       "        vertical-align: top;\n",
       "    }\n",
       "\n",
       "    .dataframe thead th {\n",
       "        text-align: right;\n",
       "    }\n",
       "</style>\n",
       "<table border=\"1\" class=\"dataframe\">\n",
       "  <thead>\n",
       "    <tr style=\"text-align: right;\">\n",
       "      <th></th>\n",
       "      <th>breed_intake_Australian Cattle Dog Mix</th>\n",
       "      <th>breed_intake_Chihuahua Shorthair Mix</th>\n",
       "      <th>breed_intake_Domestic Longhair Mix</th>\n",
       "      <th>breed_intake_Domestic Medium Hair Mix</th>\n",
       "      <th>breed_intake_Domestic Shorthair</th>\n",
       "      <th>breed_intake_Domestic Shorthair Mix</th>\n",
       "      <th>breed_intake_German Shepherd Mix</th>\n",
       "      <th>breed_intake_Labrador Retriever Mix</th>\n",
       "      <th>breed_intake_Other</th>\n",
       "      <th>breed_intake_Pit Bull</th>\n",
       "      <th>breed_intake_Pit Bull Mix</th>\n",
       "    </tr>\n",
       "  </thead>\n",
       "  <tbody>\n",
       "    <tr>\n",
       "      <th>0</th>\n",
       "      <td>0.0</td>\n",
       "      <td>0.0</td>\n",
       "      <td>0.0</td>\n",
       "      <td>0.0</td>\n",
       "      <td>0.0</td>\n",
       "      <td>0.0</td>\n",
       "      <td>0.0</td>\n",
       "      <td>0.0</td>\n",
       "      <td>1.0</td>\n",
       "      <td>0.0</td>\n",
       "      <td>0.0</td>\n",
       "    </tr>\n",
       "    <tr>\n",
       "      <th>1</th>\n",
       "      <td>0.0</td>\n",
       "      <td>0.0</td>\n",
       "      <td>0.0</td>\n",
       "      <td>0.0</td>\n",
       "      <td>0.0</td>\n",
       "      <td>0.0</td>\n",
       "      <td>0.0</td>\n",
       "      <td>0.0</td>\n",
       "      <td>1.0</td>\n",
       "      <td>0.0</td>\n",
       "      <td>0.0</td>\n",
       "    </tr>\n",
       "    <tr>\n",
       "      <th>2</th>\n",
       "      <td>0.0</td>\n",
       "      <td>0.0</td>\n",
       "      <td>0.0</td>\n",
       "      <td>0.0</td>\n",
       "      <td>0.0</td>\n",
       "      <td>0.0</td>\n",
       "      <td>0.0</td>\n",
       "      <td>0.0</td>\n",
       "      <td>1.0</td>\n",
       "      <td>0.0</td>\n",
       "      <td>0.0</td>\n",
       "    </tr>\n",
       "    <tr>\n",
       "      <th>3</th>\n",
       "      <td>0.0</td>\n",
       "      <td>0.0</td>\n",
       "      <td>0.0</td>\n",
       "      <td>0.0</td>\n",
       "      <td>0.0</td>\n",
       "      <td>0.0</td>\n",
       "      <td>0.0</td>\n",
       "      <td>1.0</td>\n",
       "      <td>0.0</td>\n",
       "      <td>0.0</td>\n",
       "      <td>0.0</td>\n",
       "    </tr>\n",
       "    <tr>\n",
       "      <th>4</th>\n",
       "      <td>0.0</td>\n",
       "      <td>0.0</td>\n",
       "      <td>0.0</td>\n",
       "      <td>0.0</td>\n",
       "      <td>0.0</td>\n",
       "      <td>1.0</td>\n",
       "      <td>0.0</td>\n",
       "      <td>0.0</td>\n",
       "      <td>0.0</td>\n",
       "      <td>0.0</td>\n",
       "      <td>0.0</td>\n",
       "    </tr>\n",
       "  </tbody>\n",
       "</table>\n",
       "</div>"
      ],
      "text/plain": [
       "   breed_intake_Australian Cattle Dog Mix  \\\n",
       "0                                     0.0   \n",
       "1                                     0.0   \n",
       "2                                     0.0   \n",
       "3                                     0.0   \n",
       "4                                     0.0   \n",
       "\n",
       "   breed_intake_Chihuahua Shorthair Mix  breed_intake_Domestic Longhair Mix  \\\n",
       "0                                   0.0                                 0.0   \n",
       "1                                   0.0                                 0.0   \n",
       "2                                   0.0                                 0.0   \n",
       "3                                   0.0                                 0.0   \n",
       "4                                   0.0                                 0.0   \n",
       "\n",
       "   breed_intake_Domestic Medium Hair Mix  breed_intake_Domestic Shorthair  \\\n",
       "0                                    0.0                              0.0   \n",
       "1                                    0.0                              0.0   \n",
       "2                                    0.0                              0.0   \n",
       "3                                    0.0                              0.0   \n",
       "4                                    0.0                              0.0   \n",
       "\n",
       "   breed_intake_Domestic Shorthair Mix  breed_intake_German Shepherd Mix  \\\n",
       "0                                  0.0                               0.0   \n",
       "1                                  0.0                               0.0   \n",
       "2                                  0.0                               0.0   \n",
       "3                                  0.0                               0.0   \n",
       "4                                  1.0                               0.0   \n",
       "\n",
       "   breed_intake_Labrador Retriever Mix  breed_intake_Other  \\\n",
       "0                                  0.0                 1.0   \n",
       "1                                  0.0                 1.0   \n",
       "2                                  0.0                 1.0   \n",
       "3                                  1.0                 0.0   \n",
       "4                                  0.0                 0.0   \n",
       "\n",
       "   breed_intake_Pit Bull  breed_intake_Pit Bull Mix  \n",
       "0                    0.0                        0.0  \n",
       "1                    0.0                        0.0  \n",
       "2                    0.0                        0.0  \n",
       "3                    0.0                        0.0  \n",
       "4                    0.0                        0.0  "
      ]
     },
     "execution_count": 324,
     "metadata": {},
     "output_type": "execute_result"
    }
   ],
   "source": [
    "enc_breed = OneHotEncoder(sparse=False)\n",
    "\n",
    "# Fit the encoder and produce encoded DataFrame\n",
    "encode_df_breed = pd.DataFrame(enc_breed.fit_transform(df_ML.breed_intake.values.reshape(-1,1)))\n",
    "#print(encode_df)\n",
    "# Rename encoded columns\n",
    "encode_df_breed.columns = enc_breed.get_feature_names_out(['breed_intake'])\n",
    "encode_df_breed.head()"
   ]
  },
  {
   "cell_type": "code",
   "execution_count": 325,
   "id": "b977a7e5",
   "metadata": {},
   "outputs": [
    {
     "name": "stderr",
     "output_type": "stream",
     "text": [
      "/var/folders/3m/mj278b89297553km9_g94ghr0000gn/T/ipykernel_14268/2773796391.py:1: FutureWarning: In a future version of pandas all arguments of DataFrame.drop except for the argument 'labels' will be keyword-only.\n",
      "  df_ML=df_ML.merge(encode_df_breed,left_index=True,right_index=True).drop(\"breed_intake\",1)\n"
     ]
    }
   ],
   "source": [
    "df_ML=df_ML.merge(encode_df_breed,left_index=True,right_index=True).drop(\"breed_intake\",1)\n"
   ]
  },
  {
   "cell_type": "code",
   "execution_count": 326,
   "id": "553aba9d",
   "metadata": {},
   "outputs": [
    {
     "data": {
      "text/html": [
       "<div>\n",
       "<style scoped>\n",
       "    .dataframe tbody tr th:only-of-type {\n",
       "        vertical-align: middle;\n",
       "    }\n",
       "\n",
       "    .dataframe tbody tr th {\n",
       "        vertical-align: top;\n",
       "    }\n",
       "\n",
       "    .dataframe thead th {\n",
       "        text-align: right;\n",
       "    }\n",
       "</style>\n",
       "<table border=\"1\" class=\"dataframe\">\n",
       "  <thead>\n",
       "    <tr style=\"text-align: right;\">\n",
       "      <th></th>\n",
       "      <th>intake_type</th>\n",
       "      <th>intake_condition</th>\n",
       "      <th>animal_type_intake</th>\n",
       "      <th>Age_Upon_Intake(days)</th>\n",
       "      <th>outcome_type</th>\n",
       "      <th>Age_Upon_Outcome(days)</th>\n",
       "      <th>color_intake_Black</th>\n",
       "      <th>color_intake_Black/White</th>\n",
       "      <th>color_intake_Blue/White</th>\n",
       "      <th>color_intake_Brown Tabby</th>\n",
       "      <th>...</th>\n",
       "      <th>breed_intake_Chihuahua Shorthair Mix</th>\n",
       "      <th>breed_intake_Domestic Longhair Mix</th>\n",
       "      <th>breed_intake_Domestic Medium Hair Mix</th>\n",
       "      <th>breed_intake_Domestic Shorthair</th>\n",
       "      <th>breed_intake_Domestic Shorthair Mix</th>\n",
       "      <th>breed_intake_German Shepherd Mix</th>\n",
       "      <th>breed_intake_Labrador Retriever Mix</th>\n",
       "      <th>breed_intake_Other</th>\n",
       "      <th>breed_intake_Pit Bull</th>\n",
       "      <th>breed_intake_Pit Bull Mix</th>\n",
       "    </tr>\n",
       "  </thead>\n",
       "  <tbody>\n",
       "    <tr>\n",
       "      <th>0</th>\n",
       "      <td>Public Assist</td>\n",
       "      <td>Normal</td>\n",
       "      <td>Dog</td>\n",
       "      <td>5475</td>\n",
       "      <td>Return to Owner</td>\n",
       "      <td>5485</td>\n",
       "      <td>0.0</td>\n",
       "      <td>0.0</td>\n",
       "      <td>0.0</td>\n",
       "      <td>0.0</td>\n",
       "      <td>...</td>\n",
       "      <td>0.0</td>\n",
       "      <td>0.0</td>\n",
       "      <td>0.0</td>\n",
       "      <td>0.0</td>\n",
       "      <td>0.0</td>\n",
       "      <td>0.0</td>\n",
       "      <td>0.0</td>\n",
       "      <td>1.0</td>\n",
       "      <td>0.0</td>\n",
       "      <td>0.0</td>\n",
       "    </tr>\n",
       "    <tr>\n",
       "      <th>1</th>\n",
       "      <td>Stray</td>\n",
       "      <td>Normal</td>\n",
       "      <td>Dog</td>\n",
       "      <td>6570</td>\n",
       "      <td>Return to Owner</td>\n",
       "      <td>6622</td>\n",
       "      <td>0.0</td>\n",
       "      <td>0.0</td>\n",
       "      <td>0.0</td>\n",
       "      <td>0.0</td>\n",
       "      <td>...</td>\n",
       "      <td>0.0</td>\n",
       "      <td>0.0</td>\n",
       "      <td>0.0</td>\n",
       "      <td>0.0</td>\n",
       "      <td>0.0</td>\n",
       "      <td>0.0</td>\n",
       "      <td>0.0</td>\n",
       "      <td>1.0</td>\n",
       "      <td>0.0</td>\n",
       "      <td>0.0</td>\n",
       "    </tr>\n",
       "  </tbody>\n",
       "</table>\n",
       "<p>2 rows × 28 columns</p>\n",
       "</div>"
      ],
      "text/plain": [
       "     intake_type intake_condition animal_type_intake  Age_Upon_Intake(days)  \\\n",
       "0  Public Assist           Normal                Dog                   5475   \n",
       "1          Stray           Normal                Dog                   6570   \n",
       "\n",
       "      outcome_type  Age_Upon_Outcome(days)  color_intake_Black  \\\n",
       "0  Return to Owner                    5485                 0.0   \n",
       "1  Return to Owner                    6622                 0.0   \n",
       "\n",
       "   color_intake_Black/White  color_intake_Blue/White  \\\n",
       "0                       0.0                      0.0   \n",
       "1                       0.0                      0.0   \n",
       "\n",
       "   color_intake_Brown Tabby  ...  breed_intake_Chihuahua Shorthair Mix  \\\n",
       "0                       0.0  ...                                   0.0   \n",
       "1                       0.0  ...                                   0.0   \n",
       "\n",
       "   breed_intake_Domestic Longhair Mix  breed_intake_Domestic Medium Hair Mix  \\\n",
       "0                                 0.0                                    0.0   \n",
       "1                                 0.0                                    0.0   \n",
       "\n",
       "   breed_intake_Domestic Shorthair  breed_intake_Domestic Shorthair Mix  \\\n",
       "0                              0.0                                  0.0   \n",
       "1                              0.0                                  0.0   \n",
       "\n",
       "   breed_intake_German Shepherd Mix  breed_intake_Labrador Retriever Mix  \\\n",
       "0                               0.0                                  0.0   \n",
       "1                               0.0                                  0.0   \n",
       "\n",
       "   breed_intake_Other  breed_intake_Pit Bull  breed_intake_Pit Bull Mix  \n",
       "0                 1.0                    0.0                        0.0  \n",
       "1                 1.0                    0.0                        0.0  \n",
       "\n",
       "[2 rows x 28 columns]"
      ]
     },
     "execution_count": 326,
     "metadata": {},
     "output_type": "execute_result"
    }
   ],
   "source": [
    "df_ML.head(2)"
   ]
  },
  {
   "cell_type": "markdown",
   "id": "7ce65f5d",
   "metadata": {},
   "source": [
    "### Hot encoding intake_condition to 10 categories and other (17 in total)"
   ]
  },
  {
   "cell_type": "code",
   "execution_count": 327,
   "id": "8f73c18b",
   "metadata": {},
   "outputs": [
    {
     "data": {
      "text/plain": [
       "17"
      ]
     },
     "execution_count": 327,
     "metadata": {},
     "output_type": "execute_result"
    }
   ],
   "source": [
    "df_ML.intake_condition.nunique()"
   ]
  },
  {
   "cell_type": "code",
   "execution_count": 328,
   "id": "fa749e79",
   "metadata": {},
   "outputs": [
    {
     "data": {
      "text/plain": [
       "Normal        119905\n",
       "Injured         7114\n",
       "Sick            4665\n",
       "Nursing         3875\n",
       "Neonatal         469\n",
       "Aged             467\n",
       "Other            289\n",
       "Medical          189\n",
       "Feral            124\n",
       "Pregnant         110\n",
       "Behavior          50\n",
       "Space              4\n",
       "Med Attn           3\n",
       "Med Urgent         2\n",
       "Neurologic         1\n",
       "Panleuk            1\n",
       "Agonal             1\n",
       "Name: intake_condition, dtype: int64"
      ]
     },
     "execution_count": 328,
     "metadata": {},
     "output_type": "execute_result"
    }
   ],
   "source": [
    "# finding the count of all categories in color_intake\n",
    "intake_condition_count = df_ML.intake_condition.value_counts()\n",
    "intake_condition_count"
   ]
  },
  {
   "cell_type": "code",
   "execution_count": 329,
   "id": "d019c839",
   "metadata": {},
   "outputs": [
    {
     "data": {
      "text/plain": [
       "<AxesSubplot:ylabel='Density'>"
      ]
     },
     "execution_count": 329,
     "metadata": {},
     "output_type": "execute_result"
    },
    {
     "data": {
      "image/png": "[encoded data removed]",
      "text/plain": [
       "<Figure size 432x288 with 1 Axes>"
      ]
     },
     "metadata": {
      "needs_background": "light"
     },
     "output_type": "display_data"
    }
   ],
   "source": [
    "intake_condition_count.plot.density()"
   ]
  },
  {
   "cell_type": "code",
   "execution_count": 330,
   "id": "ae548d1c",
   "metadata": {},
   "outputs": [
    {
     "data": {
      "text/plain": [
       "Normal      119905\n",
       "Injured       7114\n",
       "Sick          4665\n",
       "Nursing       3875\n",
       "Other          774\n",
       "Neonatal       469\n",
       "Aged           467\n",
       "Name: intake_condition, dtype: int64"
      ]
     },
     "execution_count": 330,
     "metadata": {},
     "output_type": "execute_result"
    }
   ],
   "source": [
    "# Determine which values to replace\n",
    "replace_intake_condition = list(intake_condition_count[intake_condition_count < 465].index)\n",
    "\n",
    "# Replace in DataFrame\n",
    "for condition in replace_intake_condition:\n",
    "    df_ML.intake_condition = df_ML.intake_condition.replace(condition,\"Other\")\n",
    "\n",
    "\n",
    "# Check to make sure binning was successful\n",
    "df_ML.intake_condition.value_counts()"
   ]
  },
  {
   "cell_type": "code",
   "execution_count": 331,
   "id": "779a5813",
   "metadata": {},
   "outputs": [
    {
     "data": {
      "text/html": [
       "<div>\n",
       "<style scoped>\n",
       "    .dataframe tbody tr th:only-of-type {\n",
       "        vertical-align: middle;\n",
       "    }\n",
       "\n",
       "    .dataframe tbody tr th {\n",
       "        vertical-align: top;\n",
       "    }\n",
       "\n",
       "    .dataframe thead th {\n",
       "        text-align: right;\n",
       "    }\n",
       "</style>\n",
       "<table border=\"1\" class=\"dataframe\">\n",
       "  <thead>\n",
       "    <tr style=\"text-align: right;\">\n",
       "      <th></th>\n",
       "      <th>intake_condition_Aged</th>\n",
       "      <th>intake_condition_Injured</th>\n",
       "      <th>intake_condition_Neonatal</th>\n",
       "      <th>intake_condition_Normal</th>\n",
       "      <th>intake_condition_Nursing</th>\n",
       "      <th>intake_condition_Other</th>\n",
       "      <th>intake_condition_Sick</th>\n",
       "    </tr>\n",
       "  </thead>\n",
       "  <tbody>\n",
       "    <tr>\n",
       "      <th>0</th>\n",
       "      <td>0.0</td>\n",
       "      <td>0.0</td>\n",
       "      <td>0.0</td>\n",
       "      <td>1.0</td>\n",
       "      <td>0.0</td>\n",
       "      <td>0.0</td>\n",
       "      <td>0.0</td>\n",
       "    </tr>\n",
       "    <tr>\n",
       "      <th>1</th>\n",
       "      <td>0.0</td>\n",
       "      <td>0.0</td>\n",
       "      <td>0.0</td>\n",
       "      <td>1.0</td>\n",
       "      <td>0.0</td>\n",
       "      <td>0.0</td>\n",
       "      <td>0.0</td>\n",
       "    </tr>\n",
       "    <tr>\n",
       "      <th>2</th>\n",
       "      <td>0.0</td>\n",
       "      <td>0.0</td>\n",
       "      <td>0.0</td>\n",
       "      <td>1.0</td>\n",
       "      <td>0.0</td>\n",
       "      <td>0.0</td>\n",
       "      <td>0.0</td>\n",
       "    </tr>\n",
       "    <tr>\n",
       "      <th>3</th>\n",
       "      <td>0.0</td>\n",
       "      <td>0.0</td>\n",
       "      <td>0.0</td>\n",
       "      <td>1.0</td>\n",
       "      <td>0.0</td>\n",
       "      <td>0.0</td>\n",
       "      <td>0.0</td>\n",
       "    </tr>\n",
       "    <tr>\n",
       "      <th>4</th>\n",
       "      <td>0.0</td>\n",
       "      <td>0.0</td>\n",
       "      <td>0.0</td>\n",
       "      <td>1.0</td>\n",
       "      <td>0.0</td>\n",
       "      <td>0.0</td>\n",
       "      <td>0.0</td>\n",
       "    </tr>\n",
       "  </tbody>\n",
       "</table>\n",
       "</div>"
      ],
      "text/plain": [
       "   intake_condition_Aged  intake_condition_Injured  intake_condition_Neonatal  \\\n",
       "0                    0.0                       0.0                        0.0   \n",
       "1                    0.0                       0.0                        0.0   \n",
       "2                    0.0                       0.0                        0.0   \n",
       "3                    0.0                       0.0                        0.0   \n",
       "4                    0.0                       0.0                        0.0   \n",
       "\n",
       "   intake_condition_Normal  intake_condition_Nursing  intake_condition_Other  \\\n",
       "0                      1.0                       0.0                     0.0   \n",
       "1                      1.0                       0.0                     0.0   \n",
       "2                      1.0                       0.0                     0.0   \n",
       "3                      1.0                       0.0                     0.0   \n",
       "4                      1.0                       0.0                     0.0   \n",
       "\n",
       "   intake_condition_Sick  \n",
       "0                    0.0  \n",
       "1                    0.0  \n",
       "2                    0.0  \n",
       "3                    0.0  \n",
       "4                    0.0  "
      ]
     },
     "execution_count": 331,
     "metadata": {},
     "output_type": "execute_result"
    }
   ],
   "source": [
    "enc_condition = OneHotEncoder(sparse=False)\n",
    "\n",
    "# Fit the encoder and produce encoded DataFrame\n",
    "encode_df_condition = pd.DataFrame(enc_condition.fit_transform(df_ML.intake_condition.values.reshape(-1,1)))\n",
    "#print(encode_df)\n",
    "# Rename encoded columns\n",
    "encode_df_condition.columns = enc_condition.get_feature_names_out(['intake_condition'])\n",
    "encode_df_condition.head()"
   ]
  },
  {
   "cell_type": "code",
   "execution_count": 332,
   "id": "bc83931f",
   "metadata": {},
   "outputs": [
    {
     "name": "stderr",
     "output_type": "stream",
     "text": [
      "/var/folders/3m/mj278b89297553km9_g94ghr0000gn/T/ipykernel_14268/1221785804.py:1: FutureWarning: In a future version of pandas all arguments of DataFrame.drop except for the argument 'labels' will be keyword-only.\n",
      "  df_ML=df_ML.merge(encode_df_condition,left_index=True,right_index=True).drop(\"intake_condition\",1)\n"
     ]
    }
   ],
   "source": [
    "df_ML=df_ML.merge(encode_df_condition,left_index=True,right_index=True).drop(\"intake_condition\",1)\n"
   ]
  },
  {
   "cell_type": "code",
   "execution_count": 333,
   "id": "b12d76fe",
   "metadata": {},
   "outputs": [
    {
     "data": {
      "text/html": [
       "<div>\n",
       "<style scoped>\n",
       "    .dataframe tbody tr th:only-of-type {\n",
       "        vertical-align: middle;\n",
       "    }\n",
       "\n",
       "    .dataframe tbody tr th {\n",
       "        vertical-align: top;\n",
       "    }\n",
       "\n",
       "    .dataframe thead th {\n",
       "        text-align: right;\n",
       "    }\n",
       "</style>\n",
       "<table border=\"1\" class=\"dataframe\">\n",
       "  <thead>\n",
       "    <tr style=\"text-align: right;\">\n",
       "      <th></th>\n",
       "      <th>intake_type</th>\n",
       "      <th>animal_type_intake</th>\n",
       "      <th>Age_Upon_Intake(days)</th>\n",
       "      <th>outcome_type</th>\n",
       "      <th>Age_Upon_Outcome(days)</th>\n",
       "      <th>color_intake_Black</th>\n",
       "      <th>color_intake_Black/White</th>\n",
       "      <th>color_intake_Blue/White</th>\n",
       "      <th>color_intake_Brown Tabby</th>\n",
       "      <th>color_intake_Brown Tabby/White</th>\n",
       "      <th>...</th>\n",
       "      <th>breed_intake_Other</th>\n",
       "      <th>breed_intake_Pit Bull</th>\n",
       "      <th>breed_intake_Pit Bull Mix</th>\n",
       "      <th>intake_condition_Aged</th>\n",
       "      <th>intake_condition_Injured</th>\n",
       "      <th>intake_condition_Neonatal</th>\n",
       "      <th>intake_condition_Normal</th>\n",
       "      <th>intake_condition_Nursing</th>\n",
       "      <th>intake_condition_Other</th>\n",
       "      <th>intake_condition_Sick</th>\n",
       "    </tr>\n",
       "  </thead>\n",
       "  <tbody>\n",
       "    <tr>\n",
       "      <th>0</th>\n",
       "      <td>Public Assist</td>\n",
       "      <td>Dog</td>\n",
       "      <td>5475</td>\n",
       "      <td>Return to Owner</td>\n",
       "      <td>5485</td>\n",
       "      <td>0.0</td>\n",
       "      <td>0.0</td>\n",
       "      <td>0.0</td>\n",
       "      <td>0.0</td>\n",
       "      <td>0.0</td>\n",
       "      <td>...</td>\n",
       "      <td>1.0</td>\n",
       "      <td>0.0</td>\n",
       "      <td>0.0</td>\n",
       "      <td>0.0</td>\n",
       "      <td>0.0</td>\n",
       "      <td>0.0</td>\n",
       "      <td>1.0</td>\n",
       "      <td>0.0</td>\n",
       "      <td>0.0</td>\n",
       "      <td>0.0</td>\n",
       "    </tr>\n",
       "    <tr>\n",
       "      <th>1</th>\n",
       "      <td>Stray</td>\n",
       "      <td>Dog</td>\n",
       "      <td>6570</td>\n",
       "      <td>Return to Owner</td>\n",
       "      <td>6622</td>\n",
       "      <td>0.0</td>\n",
       "      <td>0.0</td>\n",
       "      <td>0.0</td>\n",
       "      <td>0.0</td>\n",
       "      <td>0.0</td>\n",
       "      <td>...</td>\n",
       "      <td>1.0</td>\n",
       "      <td>0.0</td>\n",
       "      <td>0.0</td>\n",
       "      <td>0.0</td>\n",
       "      <td>0.0</td>\n",
       "      <td>0.0</td>\n",
       "      <td>1.0</td>\n",
       "      <td>0.0</td>\n",
       "      <td>0.0</td>\n",
       "      <td>0.0</td>\n",
       "    </tr>\n",
       "  </tbody>\n",
       "</table>\n",
       "<p>2 rows × 34 columns</p>\n",
       "</div>"
      ],
      "text/plain": [
       "     intake_type animal_type_intake  Age_Upon_Intake(days)     outcome_type  \\\n",
       "0  Public Assist                Dog                   5475  Return to Owner   \n",
       "1          Stray                Dog                   6570  Return to Owner   \n",
       "\n",
       "   Age_Upon_Outcome(days)  color_intake_Black  color_intake_Black/White  \\\n",
       "0                    5485                 0.0                       0.0   \n",
       "1                    6622                 0.0                       0.0   \n",
       "\n",
       "   color_intake_Blue/White  color_intake_Brown Tabby  \\\n",
       "0                      0.0                       0.0   \n",
       "1                      0.0                       0.0   \n",
       "\n",
       "   color_intake_Brown Tabby/White  ...  breed_intake_Other  \\\n",
       "0                             0.0  ...                 1.0   \n",
       "1                             0.0  ...                 1.0   \n",
       "\n",
       "   breed_intake_Pit Bull  breed_intake_Pit Bull Mix  intake_condition_Aged  \\\n",
       "0                    0.0                        0.0                    0.0   \n",
       "1                    0.0                        0.0                    0.0   \n",
       "\n",
       "   intake_condition_Injured  intake_condition_Neonatal  \\\n",
       "0                       0.0                        0.0   \n",
       "1                       0.0                        0.0   \n",
       "\n",
       "   intake_condition_Normal  intake_condition_Nursing  intake_condition_Other  \\\n",
       "0                      1.0                       0.0                     0.0   \n",
       "1                      1.0                       0.0                     0.0   \n",
       "\n",
       "   intake_condition_Sick  \n",
       "0                    0.0  \n",
       "1                    0.0  \n",
       "\n",
       "[2 rows x 34 columns]"
      ]
     },
     "execution_count": 333,
     "metadata": {},
     "output_type": "execute_result"
    }
   ],
   "source": [
    "df_ML.head(2)"
   ]
  },
  {
   "cell_type": "markdown",
   "id": "eca02a04",
   "metadata": {},
   "source": [
    "### Hot encoding intake_type to 0 and 1 for 5 categories"
   ]
  },
  {
   "cell_type": "code",
   "execution_count": 334,
   "id": "fcf164fa",
   "metadata": {},
   "outputs": [
    {
     "data": {
      "text/plain": [
       "5"
      ]
     },
     "execution_count": 334,
     "metadata": {},
     "output_type": "execute_result"
    }
   ],
   "source": [
    "df_ML.intake_type.nunique()"
   ]
  },
  {
   "cell_type": "code",
   "execution_count": 335,
   "id": "c04586db",
   "metadata": {},
   "outputs": [
    {
     "data": {
      "text/plain": [
       "Stray                 98067\n",
       "Owner Surrender       29505\n",
       "Public Assist          8588\n",
       "Abandoned               850\n",
       "Euthanasia Request      259\n",
       "Name: intake_type, dtype: int64"
      ]
     },
     "execution_count": 335,
     "metadata": {},
     "output_type": "execute_result"
    }
   ],
   "source": [
    "# finding the count of all categories in color_intake\n",
    "intake_type_count = df_ML.intake_type.value_counts()\n",
    "intake_type_count"
   ]
  },
  {
   "cell_type": "code",
   "execution_count": 336,
   "id": "b6aa3354",
   "metadata": {},
   "outputs": [
    {
     "data": {
      "text/plain": [
       "<AxesSubplot:ylabel='Density'>"
      ]
     },
     "execution_count": 336,
     "metadata": {},
     "output_type": "execute_result"
    },
    {
     "data": {
      "image/png": "[encoded data removed]",
      "text/plain": [
       "<Figure size 432x288 with 1 Axes>"
      ]
     },
     "metadata": {
      "needs_background": "light"
     },
     "output_type": "display_data"
    }
   ],
   "source": [
    "intake_type_count.plot.density()"
   ]
  },
  {
   "cell_type": "code",
   "execution_count": 337,
   "id": "54be7544",
   "metadata": {},
   "outputs": [],
   "source": [
    "# # Determine which values to replace\n",
    "# replace_intake_condition = list(intake_type[intake_type < 465].index)\n",
    "\n",
    "# # Replace in DataFrame\n",
    "# for condition in replace_intake_condition:\n",
    "#     df_ML.intake_condition = df_ML.intake_condition.replace(condition,\"Other\")\n",
    "\n",
    "\n",
    "# # Check to make sure binning was successful\n",
    "# df_ML.intake_condition.value_counts()"
   ]
  },
  {
   "cell_type": "code",
   "execution_count": 338,
   "id": "0d95ff63",
   "metadata": {},
   "outputs": [
    {
     "data": {
      "text/html": [
       "<div>\n",
       "<style scoped>\n",
       "    .dataframe tbody tr th:only-of-type {\n",
       "        vertical-align: middle;\n",
       "    }\n",
       "\n",
       "    .dataframe tbody tr th {\n",
       "        vertical-align: top;\n",
       "    }\n",
       "\n",
       "    .dataframe thead th {\n",
       "        text-align: right;\n",
       "    }\n",
       "</style>\n",
       "<table border=\"1\" class=\"dataframe\">\n",
       "  <thead>\n",
       "    <tr style=\"text-align: right;\">\n",
       "      <th></th>\n",
       "      <th>intake_type_Abandoned</th>\n",
       "      <th>intake_type_Euthanasia Request</th>\n",
       "      <th>intake_type_Owner Surrender</th>\n",
       "      <th>intake_type_Public Assist</th>\n",
       "      <th>intake_type_Stray</th>\n",
       "    </tr>\n",
       "  </thead>\n",
       "  <tbody>\n",
       "    <tr>\n",
       "      <th>0</th>\n",
       "      <td>0.0</td>\n",
       "      <td>0.0</td>\n",
       "      <td>0.0</td>\n",
       "      <td>1.0</td>\n",
       "      <td>0.0</td>\n",
       "    </tr>\n",
       "    <tr>\n",
       "      <th>1</th>\n",
       "      <td>0.0</td>\n",
       "      <td>0.0</td>\n",
       "      <td>0.0</td>\n",
       "      <td>0.0</td>\n",
       "      <td>1.0</td>\n",
       "    </tr>\n",
       "    <tr>\n",
       "      <th>2</th>\n",
       "      <td>0.0</td>\n",
       "      <td>0.0</td>\n",
       "      <td>0.0</td>\n",
       "      <td>0.0</td>\n",
       "      <td>1.0</td>\n",
       "    </tr>\n",
       "    <tr>\n",
       "      <th>3</th>\n",
       "      <td>0.0</td>\n",
       "      <td>0.0</td>\n",
       "      <td>0.0</td>\n",
       "      <td>0.0</td>\n",
       "      <td>1.0</td>\n",
       "    </tr>\n",
       "    <tr>\n",
       "      <th>4</th>\n",
       "      <td>0.0</td>\n",
       "      <td>1.0</td>\n",
       "      <td>0.0</td>\n",
       "      <td>0.0</td>\n",
       "      <td>0.0</td>\n",
       "    </tr>\n",
       "  </tbody>\n",
       "</table>\n",
       "</div>"
      ],
      "text/plain": [
       "   intake_type_Abandoned  intake_type_Euthanasia Request  \\\n",
       "0                    0.0                             0.0   \n",
       "1                    0.0                             0.0   \n",
       "2                    0.0                             0.0   \n",
       "3                    0.0                             0.0   \n",
       "4                    0.0                             1.0   \n",
       "\n",
       "   intake_type_Owner Surrender  intake_type_Public Assist  intake_type_Stray  \n",
       "0                          0.0                        1.0                0.0  \n",
       "1                          0.0                        0.0                1.0  \n",
       "2                          0.0                        0.0                1.0  \n",
       "3                          0.0                        0.0                1.0  \n",
       "4                          0.0                        0.0                0.0  "
      ]
     },
     "execution_count": 338,
     "metadata": {},
     "output_type": "execute_result"
    }
   ],
   "source": [
    "enc_intake_type = OneHotEncoder(sparse=False)\n",
    "\n",
    "# Fit the encoder and produce encoded DataFrame\n",
    "encode_df_intake_type = pd.DataFrame(enc_intake_type.fit_transform(df_ML.intake_type.values.reshape(-1,1)))\n",
    "#print(encode_df)\n",
    "# Rename encoded columns\n",
    "encode_df_intake_type.columns = enc_intake_type.get_feature_names_out(['intake_type'])\n",
    "encode_df_intake_type.head()"
   ]
  },
  {
   "cell_type": "code",
   "execution_count": 339,
   "id": "76069595",
   "metadata": {},
   "outputs": [
    {
     "name": "stderr",
     "output_type": "stream",
     "text": [
      "/var/folders/3m/mj278b89297553km9_g94ghr0000gn/T/ipykernel_14268/4083467400.py:1: FutureWarning: In a future version of pandas all arguments of DataFrame.drop except for the argument 'labels' will be keyword-only.\n",
      "  df_ML=df_ML.merge(encode_df_intake_type,left_index=True,right_index=True).drop(\"intake_type\",1)\n"
     ]
    }
   ],
   "source": [
    "df_ML=df_ML.merge(encode_df_intake_type,left_index=True,right_index=True).drop(\"intake_type\",1)\n"
   ]
  },
  {
   "cell_type": "code",
   "execution_count": 340,
   "id": "8646a90e",
   "metadata": {},
   "outputs": [
    {
     "data": {
      "text/html": [
       "<div>\n",
       "<style scoped>\n",
       "    .dataframe tbody tr th:only-of-type {\n",
       "        vertical-align: middle;\n",
       "    }\n",
       "\n",
       "    .dataframe tbody tr th {\n",
       "        vertical-align: top;\n",
       "    }\n",
       "\n",
       "    .dataframe thead th {\n",
       "        text-align: right;\n",
       "    }\n",
       "</style>\n",
       "<table border=\"1\" class=\"dataframe\">\n",
       "  <thead>\n",
       "    <tr style=\"text-align: right;\">\n",
       "      <th></th>\n",
       "      <th>animal_type_intake</th>\n",
       "      <th>Age_Upon_Intake(days)</th>\n",
       "      <th>outcome_type</th>\n",
       "      <th>Age_Upon_Outcome(days)</th>\n",
       "      <th>color_intake_Black</th>\n",
       "      <th>color_intake_Black/White</th>\n",
       "      <th>color_intake_Blue/White</th>\n",
       "      <th>color_intake_Brown Tabby</th>\n",
       "      <th>color_intake_Brown Tabby/White</th>\n",
       "      <th>color_intake_Brown/White</th>\n",
       "      <th>...</th>\n",
       "      <th>intake_condition_Neonatal</th>\n",
       "      <th>intake_condition_Normal</th>\n",
       "      <th>intake_condition_Nursing</th>\n",
       "      <th>intake_condition_Other</th>\n",
       "      <th>intake_condition_Sick</th>\n",
       "      <th>intake_type_Abandoned</th>\n",
       "      <th>intake_type_Euthanasia Request</th>\n",
       "      <th>intake_type_Owner Surrender</th>\n",
       "      <th>intake_type_Public Assist</th>\n",
       "      <th>intake_type_Stray</th>\n",
       "    </tr>\n",
       "  </thead>\n",
       "  <tbody>\n",
       "    <tr>\n",
       "      <th>0</th>\n",
       "      <td>Dog</td>\n",
       "      <td>5475</td>\n",
       "      <td>Return to Owner</td>\n",
       "      <td>5485</td>\n",
       "      <td>0.0</td>\n",
       "      <td>0.0</td>\n",
       "      <td>0.0</td>\n",
       "      <td>0.0</td>\n",
       "      <td>0.0</td>\n",
       "      <td>0.0</td>\n",
       "      <td>...</td>\n",
       "      <td>0.0</td>\n",
       "      <td>1.0</td>\n",
       "      <td>0.0</td>\n",
       "      <td>0.0</td>\n",
       "      <td>0.0</td>\n",
       "      <td>0.0</td>\n",
       "      <td>0.0</td>\n",
       "      <td>0.0</td>\n",
       "      <td>1.0</td>\n",
       "      <td>0.0</td>\n",
       "    </tr>\n",
       "    <tr>\n",
       "      <th>1</th>\n",
       "      <td>Dog</td>\n",
       "      <td>6570</td>\n",
       "      <td>Return to Owner</td>\n",
       "      <td>6622</td>\n",
       "      <td>0.0</td>\n",
       "      <td>0.0</td>\n",
       "      <td>0.0</td>\n",
       "      <td>0.0</td>\n",
       "      <td>0.0</td>\n",
       "      <td>1.0</td>\n",
       "      <td>...</td>\n",
       "      <td>0.0</td>\n",
       "      <td>1.0</td>\n",
       "      <td>0.0</td>\n",
       "      <td>0.0</td>\n",
       "      <td>0.0</td>\n",
       "      <td>0.0</td>\n",
       "      <td>0.0</td>\n",
       "      <td>0.0</td>\n",
       "      <td>0.0</td>\n",
       "      <td>1.0</td>\n",
       "    </tr>\n",
       "  </tbody>\n",
       "</table>\n",
       "<p>2 rows × 38 columns</p>\n",
       "</div>"
      ],
      "text/plain": [
       "  animal_type_intake  Age_Upon_Intake(days)     outcome_type  \\\n",
       "0                Dog                   5475  Return to Owner   \n",
       "1                Dog                   6570  Return to Owner   \n",
       "\n",
       "   Age_Upon_Outcome(days)  color_intake_Black  color_intake_Black/White  \\\n",
       "0                    5485                 0.0                       0.0   \n",
       "1                    6622                 0.0                       0.0   \n",
       "\n",
       "   color_intake_Blue/White  color_intake_Brown Tabby  \\\n",
       "0                      0.0                       0.0   \n",
       "1                      0.0                       0.0   \n",
       "\n",
       "   color_intake_Brown Tabby/White  color_intake_Brown/White  ...  \\\n",
       "0                             0.0                       0.0  ...   \n",
       "1                             0.0                       1.0  ...   \n",
       "\n",
       "   intake_condition_Neonatal  intake_condition_Normal  \\\n",
       "0                        0.0                      1.0   \n",
       "1                        0.0                      1.0   \n",
       "\n",
       "   intake_condition_Nursing  intake_condition_Other  intake_condition_Sick  \\\n",
       "0                       0.0                     0.0                    0.0   \n",
       "1                       0.0                     0.0                    0.0   \n",
       "\n",
       "   intake_type_Abandoned  intake_type_Euthanasia Request  \\\n",
       "0                    0.0                             0.0   \n",
       "1                    0.0                             0.0   \n",
       "\n",
       "   intake_type_Owner Surrender  intake_type_Public Assist  intake_type_Stray  \n",
       "0                          0.0                        1.0                0.0  \n",
       "1                          0.0                        0.0                1.0  \n",
       "\n",
       "[2 rows x 38 columns]"
      ]
     },
     "execution_count": 340,
     "metadata": {},
     "output_type": "execute_result"
    }
   ],
   "source": [
    "df_ML.head(2)"
   ]
  },
  {
   "cell_type": "code",
   "execution_count": null,
   "id": "20a06189",
   "metadata": {},
   "outputs": [],
   "source": []
  },
  {
   "cell_type": "markdown",
   "id": "ccb172c8",
   "metadata": {},
   "source": [
    "### Hot encoding animal_type_intake to 0 and 1 for 5 categories "
   ]
  },
  {
   "cell_type": "code",
   "execution_count": 341,
   "id": "5438735c",
   "metadata": {},
   "outputs": [
    {
     "data": {
      "text/plain": [
       "5"
      ]
     },
     "execution_count": 341,
     "metadata": {},
     "output_type": "execute_result"
    }
   ],
   "source": [
    "df_ML.animal_type_intake.nunique()"
   ]
  },
  {
   "cell_type": "code",
   "execution_count": 342,
   "id": "3f13f089",
   "metadata": {},
   "outputs": [
    {
     "data": {
      "text/plain": [
       "Dog          80114\n",
       "Cat          54372\n",
       "Other         2188\n",
       "Bird           571\n",
       "Livestock       24\n",
       "Name: animal_type_intake, dtype: int64"
      ]
     },
     "execution_count": 342,
     "metadata": {},
     "output_type": "execute_result"
    }
   ],
   "source": [
    "# finding the count of all categories in color_intake\n",
    "animal_intake_type_count = df_ML.animal_type_intake.value_counts()\n",
    "animal_intake_type_count"
   ]
  },
  {
   "cell_type": "code",
   "execution_count": 343,
   "id": "adcfe0a1",
   "metadata": {},
   "outputs": [
    {
     "data": {
      "text/plain": [
       "<AxesSubplot:ylabel='Density'>"
      ]
     },
     "execution_count": 343,
     "metadata": {},
     "output_type": "execute_result"
    },
    {
     "data": {
      "image/png": "[encoded data removed]",
      "text/plain": [
       "<Figure size 432x288 with 1 Axes>"
      ]
     },
     "metadata": {
      "needs_background": "light"
     },
     "output_type": "display_data"
    }
   ],
   "source": [
    "animal_intake_type_count.plot.density()"
   ]
  },
  {
   "cell_type": "code",
   "execution_count": 344,
   "id": "1d7b464d",
   "metadata": {},
   "outputs": [],
   "source": [
    "# # Determine which values to replace\n",
    "# replace_intake_condition = list(intake_type[intake_type < 465].index)\n",
    "\n",
    "# # Replace in DataFrame\n",
    "# for condition in replace_intake_condition:\n",
    "#     df_ML.intake_condition = df_ML.intake_condition.replace(condition,\"Other\")\n",
    "\n",
    "\n",
    "# # Check to make sure binning was successful\n",
    "# df_ML.intake_condition.value_counts()"
   ]
  },
  {
   "cell_type": "code",
   "execution_count": 345,
   "id": "fe5836d8",
   "metadata": {},
   "outputs": [
    {
     "data": {
      "text/html": [
       "<div>\n",
       "<style scoped>\n",
       "    .dataframe tbody tr th:only-of-type {\n",
       "        vertical-align: middle;\n",
       "    }\n",
       "\n",
       "    .dataframe tbody tr th {\n",
       "        vertical-align: top;\n",
       "    }\n",
       "\n",
       "    .dataframe thead th {\n",
       "        text-align: right;\n",
       "    }\n",
       "</style>\n",
       "<table border=\"1\" class=\"dataframe\">\n",
       "  <thead>\n",
       "    <tr style=\"text-align: right;\">\n",
       "      <th></th>\n",
       "      <th>animal_type_intake_Bird</th>\n",
       "      <th>animal_type_intake_Cat</th>\n",
       "      <th>animal_type_intake_Dog</th>\n",
       "      <th>animal_type_intake_Livestock</th>\n",
       "      <th>animal_type_intake_Other</th>\n",
       "    </tr>\n",
       "  </thead>\n",
       "  <tbody>\n",
       "    <tr>\n",
       "      <th>0</th>\n",
       "      <td>0.0</td>\n",
       "      <td>0.0</td>\n",
       "      <td>1.0</td>\n",
       "      <td>0.0</td>\n",
       "      <td>0.0</td>\n",
       "    </tr>\n",
       "    <tr>\n",
       "      <th>1</th>\n",
       "      <td>0.0</td>\n",
       "      <td>0.0</td>\n",
       "      <td>1.0</td>\n",
       "      <td>0.0</td>\n",
       "      <td>0.0</td>\n",
       "    </tr>\n",
       "    <tr>\n",
       "      <th>2</th>\n",
       "      <td>0.0</td>\n",
       "      <td>0.0</td>\n",
       "      <td>1.0</td>\n",
       "      <td>0.0</td>\n",
       "      <td>0.0</td>\n",
       "    </tr>\n",
       "    <tr>\n",
       "      <th>3</th>\n",
       "      <td>0.0</td>\n",
       "      <td>0.0</td>\n",
       "      <td>1.0</td>\n",
       "      <td>0.0</td>\n",
       "      <td>0.0</td>\n",
       "    </tr>\n",
       "    <tr>\n",
       "      <th>4</th>\n",
       "      <td>0.0</td>\n",
       "      <td>1.0</td>\n",
       "      <td>0.0</td>\n",
       "      <td>0.0</td>\n",
       "      <td>0.0</td>\n",
       "    </tr>\n",
       "  </tbody>\n",
       "</table>\n",
       "</div>"
      ],
      "text/plain": [
       "   animal_type_intake_Bird  animal_type_intake_Cat  animal_type_intake_Dog  \\\n",
       "0                      0.0                     0.0                     1.0   \n",
       "1                      0.0                     0.0                     1.0   \n",
       "2                      0.0                     0.0                     1.0   \n",
       "3                      0.0                     0.0                     1.0   \n",
       "4                      0.0                     1.0                     0.0   \n",
       "\n",
       "   animal_type_intake_Livestock  animal_type_intake_Other  \n",
       "0                           0.0                       0.0  \n",
       "1                           0.0                       0.0  \n",
       "2                           0.0                       0.0  \n",
       "3                           0.0                       0.0  \n",
       "4                           0.0                       0.0  "
      ]
     },
     "execution_count": 345,
     "metadata": {},
     "output_type": "execute_result"
    }
   ],
   "source": [
    "enc_animal_intake_type = OneHotEncoder(sparse=False)\n",
    "\n",
    "# Fit the encoder and produce encoded DataFrame\n",
    "encode_df_animal_intake_type = pd.DataFrame(enc_animal_intake_type.fit_transform(df_ML.animal_type_intake.values.reshape(-1,1)))\n",
    "#print(encode_df)\n",
    "# Rename encoded columns\n",
    "encode_df_animal_intake_type.columns = enc_animal_intake_type.get_feature_names_out(['animal_type_intake'])\n",
    "encode_df_animal_intake_type.head()"
   ]
  },
  {
   "cell_type": "code",
   "execution_count": 346,
   "id": "527695ec",
   "metadata": {},
   "outputs": [
    {
     "name": "stderr",
     "output_type": "stream",
     "text": [
      "/var/folders/3m/mj278b89297553km9_g94ghr0000gn/T/ipykernel_14268/2733093773.py:1: FutureWarning: In a future version of pandas all arguments of DataFrame.drop except for the argument 'labels' will be keyword-only.\n",
      "  df_ML=df_ML.merge(encode_df_intake_type,left_index=True,right_index=True).drop(\"animal_type_intake\",1)\n"
     ]
    }
   ],
   "source": [
    "df_ML=df_ML.merge(encode_df_intake_type,left_index=True,right_index=True).drop(\"animal_type_intake\",1)\n"
   ]
  },
  {
   "cell_type": "code",
   "execution_count": 347,
   "id": "9b9e7705",
   "metadata": {},
   "outputs": [
    {
     "data": {
      "text/html": [
       "<div>\n",
       "<style scoped>\n",
       "    .dataframe tbody tr th:only-of-type {\n",
       "        vertical-align: middle;\n",
       "    }\n",
       "\n",
       "    .dataframe tbody tr th {\n",
       "        vertical-align: top;\n",
       "    }\n",
       "\n",
       "    .dataframe thead th {\n",
       "        text-align: right;\n",
       "    }\n",
       "</style>\n",
       "<table border=\"1\" class=\"dataframe\">\n",
       "  <thead>\n",
       "    <tr style=\"text-align: right;\">\n",
       "      <th></th>\n",
       "      <th>Age_Upon_Intake(days)</th>\n",
       "      <th>outcome_type</th>\n",
       "      <th>Age_Upon_Outcome(days)</th>\n",
       "      <th>color_intake_Black</th>\n",
       "      <th>color_intake_Black/White</th>\n",
       "      <th>color_intake_Blue/White</th>\n",
       "      <th>color_intake_Brown Tabby</th>\n",
       "      <th>color_intake_Brown Tabby/White</th>\n",
       "      <th>color_intake_Brown/White</th>\n",
       "      <th>color_intake_Orange Tabby</th>\n",
       "      <th>...</th>\n",
       "      <th>intake_type_Abandoned_x</th>\n",
       "      <th>intake_type_Euthanasia Request_x</th>\n",
       "      <th>intake_type_Owner Surrender_x</th>\n",
       "      <th>intake_type_Public Assist_x</th>\n",
       "      <th>intake_type_Stray_x</th>\n",
       "      <th>intake_type_Abandoned_y</th>\n",
       "      <th>intake_type_Euthanasia Request_y</th>\n",
       "      <th>intake_type_Owner Surrender_y</th>\n",
       "      <th>intake_type_Public Assist_y</th>\n",
       "      <th>intake_type_Stray_y</th>\n",
       "    </tr>\n",
       "  </thead>\n",
       "  <tbody>\n",
       "    <tr>\n",
       "      <th>0</th>\n",
       "      <td>5475</td>\n",
       "      <td>Return to Owner</td>\n",
       "      <td>5485</td>\n",
       "      <td>0.0</td>\n",
       "      <td>0.0</td>\n",
       "      <td>0.0</td>\n",
       "      <td>0.0</td>\n",
       "      <td>0.0</td>\n",
       "      <td>0.0</td>\n",
       "      <td>0.0</td>\n",
       "      <td>...</td>\n",
       "      <td>0.0</td>\n",
       "      <td>0.0</td>\n",
       "      <td>0.0</td>\n",
       "      <td>1.0</td>\n",
       "      <td>0.0</td>\n",
       "      <td>0.0</td>\n",
       "      <td>0.0</td>\n",
       "      <td>0.0</td>\n",
       "      <td>1.0</td>\n",
       "      <td>0.0</td>\n",
       "    </tr>\n",
       "    <tr>\n",
       "      <th>1</th>\n",
       "      <td>6570</td>\n",
       "      <td>Return to Owner</td>\n",
       "      <td>6622</td>\n",
       "      <td>0.0</td>\n",
       "      <td>0.0</td>\n",
       "      <td>0.0</td>\n",
       "      <td>0.0</td>\n",
       "      <td>0.0</td>\n",
       "      <td>1.0</td>\n",
       "      <td>0.0</td>\n",
       "      <td>...</td>\n",
       "      <td>0.0</td>\n",
       "      <td>0.0</td>\n",
       "      <td>0.0</td>\n",
       "      <td>0.0</td>\n",
       "      <td>1.0</td>\n",
       "      <td>0.0</td>\n",
       "      <td>0.0</td>\n",
       "      <td>0.0</td>\n",
       "      <td>0.0</td>\n",
       "      <td>1.0</td>\n",
       "    </tr>\n",
       "  </tbody>\n",
       "</table>\n",
       "<p>2 rows × 42 columns</p>\n",
       "</div>"
      ],
      "text/plain": [
       "   Age_Upon_Intake(days)     outcome_type  Age_Upon_Outcome(days)  \\\n",
       "0                   5475  Return to Owner                    5485   \n",
       "1                   6570  Return to Owner                    6622   \n",
       "\n",
       "   color_intake_Black  color_intake_Black/White  color_intake_Blue/White  \\\n",
       "0                 0.0                       0.0                      0.0   \n",
       "1                 0.0                       0.0                      0.0   \n",
       "\n",
       "   color_intake_Brown Tabby  color_intake_Brown Tabby/White  \\\n",
       "0                       0.0                             0.0   \n",
       "1                       0.0                             0.0   \n",
       "\n",
       "   color_intake_Brown/White  color_intake_Orange Tabby  ...  \\\n",
       "0                       0.0                        0.0  ...   \n",
       "1                       1.0                        0.0  ...   \n",
       "\n",
       "   intake_type_Abandoned_x  intake_type_Euthanasia Request_x  \\\n",
       "0                      0.0                               0.0   \n",
       "1                      0.0                               0.0   \n",
       "\n",
       "   intake_type_Owner Surrender_x  intake_type_Public Assist_x  \\\n",
       "0                            0.0                          1.0   \n",
       "1                            0.0                          0.0   \n",
       "\n",
       "   intake_type_Stray_x  intake_type_Abandoned_y  \\\n",
       "0                  0.0                      0.0   \n",
       "1                  1.0                      0.0   \n",
       "\n",
       "   intake_type_Euthanasia Request_y  intake_type_Owner Surrender_y  \\\n",
       "0                               0.0                            0.0   \n",
       "1                               0.0                            0.0   \n",
       "\n",
       "   intake_type_Public Assist_y  intake_type_Stray_y  \n",
       "0                          1.0                  0.0  \n",
       "1                          0.0                  1.0  \n",
       "\n",
       "[2 rows x 42 columns]"
      ]
     },
     "execution_count": 347,
     "metadata": {},
     "output_type": "execute_result"
    }
   ],
   "source": [
    "df_ML.head(2)"
   ]
  },
  {
   "cell_type": "markdown",
   "id": "d12fd223",
   "metadata": {},
   "source": [
    "### Hot encoding outcome_type  to 0 and 1 for categories"
   ]
  },
  {
   "cell_type": "code",
   "execution_count": 348,
   "id": "5f5430db",
   "metadata": {},
   "outputs": [
    {
     "data": {
      "text/plain": [
       "array(['Return to Owner', 'Euthanasia', 'Adoption', 'Transfer',\n",
       "       'Rto-Adopt', 'Died', 'Missing', 'Disposal', nan, 'Relocate',\n",
       "       'Lost', 'Stolen'], dtype=object)"
      ]
     },
     "execution_count": 348,
     "metadata": {},
     "output_type": "execute_result"
    }
   ],
   "source": [
    "df_ML['outcome_type'].unique()"
   ]
  },
  {
   "cell_type": "code",
   "execution_count": 349,
   "id": "4b025b45",
   "metadata": {},
   "outputs": [
    {
     "data": {
      "text/plain": [
       "Adoption           65581\n",
       "Transfer           41394\n",
       "Return to Owner    23352\n",
       "Euthanasia          4496\n",
       "Died                1195\n",
       "Rto-Adopt            924\n",
       "Disposal             226\n",
       "Missing               69\n",
       "Relocate              11\n",
       "Stolen                 2\n",
       "Lost                   1\n",
       "Name: outcome_type, dtype: int64"
      ]
     },
     "execution_count": 349,
     "metadata": {},
     "output_type": "execute_result"
    }
   ],
   "source": [
    "# finding the count of all categories in color_intake\n",
    "outcome_type_count = df_ML.outcome_type.value_counts()\n",
    "outcome_type_count"
   ]
  },
  {
   "cell_type": "code",
   "execution_count": 350,
   "id": "8a0bd2bd",
   "metadata": {},
   "outputs": [
    {
     "data": {
      "text/plain": [
       "<AxesSubplot:ylabel='Density'>"
      ]
     },
     "execution_count": 350,
     "metadata": {},
     "output_type": "execute_result"
    },
    {
     "data": {
      "image/png": "[encoded data removed]",
      "text/plain": [
       "<Figure size 432x288 with 1 Axes>"
      ]
     },
     "metadata": {
      "needs_background": "light"
     },
     "output_type": "display_data"
    }
   ],
   "source": [
    "outcome_type_count.plot.density()"
   ]
  },
  {
   "cell_type": "markdown",
   "id": "1358632c",
   "metadata": {},
   "source": [
    "### Categorizing output into Adopted( 'Adoption','Return to Owner','Rto-Adopt') & Other"
   ]
  },
  {
   "cell_type": "code",
   "execution_count": 351,
   "id": "85a9ec0b",
   "metadata": {},
   "outputs": [
    {
     "data": {
      "text/plain": [
       "Adopted    89857\n",
       "Other      47394\n",
       "Name: outcome_type, dtype: int64"
      ]
     },
     "execution_count": 351,
     "metadata": {},
     "output_type": "execute_result"
    }
   ],
   "source": [
    "# # Determine which values to replace\n",
    "# replace_intake_condition = list(intake_type[intake_type < 465].index)\n",
    "\n",
    "other_outcome_type_list = ['Transfer','Euthanasia','Died','Disposal','Missing','Relocate','Stolen','Lost']\n",
    "adoption_list = ['Adoption','Return to Owner','Rto-Adopt']\n",
    "             \n",
    "\n",
    "# # Replace in DataFrame\n",
    "for outcome in other_outcome_type_list:\n",
    "    df_ML.outcome_type = df_ML.outcome_type.replace(outcome,\"Other\")\n",
    "    \n",
    "for outcome in adoption_list:\n",
    "    df_ML.outcome_type = df_ML.outcome_type.replace(outcome,\"Adopted\")\n",
    "\n",
    "\n",
    "# # Check to make sure binning was successful\n",
    "df_ML.outcome_type.value_counts()"
   ]
  },
  {
   "cell_type": "code",
   "execution_count": 352,
   "id": "4b4d9afb",
   "metadata": {},
   "outputs": [
    {
     "data": {
      "text/html": [
       "<div>\n",
       "<style scoped>\n",
       "    .dataframe tbody tr th:only-of-type {\n",
       "        vertical-align: middle;\n",
       "    }\n",
       "\n",
       "    .dataframe tbody tr th {\n",
       "        vertical-align: top;\n",
       "    }\n",
       "\n",
       "    .dataframe thead th {\n",
       "        text-align: right;\n",
       "    }\n",
       "</style>\n",
       "<table border=\"1\" class=\"dataframe\">\n",
       "  <thead>\n",
       "    <tr style=\"text-align: right;\">\n",
       "      <th></th>\n",
       "      <th>Adopted</th>\n",
       "      <th>Other</th>\n",
       "    </tr>\n",
       "  </thead>\n",
       "  <tbody>\n",
       "    <tr>\n",
       "      <th>0</th>\n",
       "      <td>1</td>\n",
       "      <td>0</td>\n",
       "    </tr>\n",
       "    <tr>\n",
       "      <th>1</th>\n",
       "      <td>1</td>\n",
       "      <td>0</td>\n",
       "    </tr>\n",
       "    <tr>\n",
       "      <th>2</th>\n",
       "      <td>1</td>\n",
       "      <td>0</td>\n",
       "    </tr>\n",
       "    <tr>\n",
       "      <th>3</th>\n",
       "      <td>0</td>\n",
       "      <td>1</td>\n",
       "    </tr>\n",
       "    <tr>\n",
       "      <th>4</th>\n",
       "      <td>0</td>\n",
       "      <td>1</td>\n",
       "    </tr>\n",
       "    <tr>\n",
       "      <th>...</th>\n",
       "      <td>...</td>\n",
       "      <td>...</td>\n",
       "    </tr>\n",
       "    <tr>\n",
       "      <th>137264</th>\n",
       "      <td>1</td>\n",
       "      <td>0</td>\n",
       "    </tr>\n",
       "    <tr>\n",
       "      <th>137265</th>\n",
       "      <td>1</td>\n",
       "      <td>0</td>\n",
       "    </tr>\n",
       "    <tr>\n",
       "      <th>137266</th>\n",
       "      <td>1</td>\n",
       "      <td>0</td>\n",
       "    </tr>\n",
       "    <tr>\n",
       "      <th>137267</th>\n",
       "      <td>0</td>\n",
       "      <td>1</td>\n",
       "    </tr>\n",
       "    <tr>\n",
       "      <th>137268</th>\n",
       "      <td>1</td>\n",
       "      <td>0</td>\n",
       "    </tr>\n",
       "  </tbody>\n",
       "</table>\n",
       "<p>137269 rows × 2 columns</p>\n",
       "</div>"
      ],
      "text/plain": [
       "        Adopted  Other\n",
       "0             1      0\n",
       "1             1      0\n",
       "2             1      0\n",
       "3             0      1\n",
       "4             0      1\n",
       "...         ...    ...\n",
       "137264        1      0\n",
       "137265        1      0\n",
       "137266        1      0\n",
       "137267        0      1\n",
       "137268        1      0\n",
       "\n",
       "[137269 rows x 2 columns]"
      ]
     },
     "execution_count": 352,
     "metadata": {},
     "output_type": "execute_result"
    }
   ],
   "source": [
    "adopted_dummies = pd.get_dummies(df_ML[\"outcome_type\"])\n",
    "adopted_dummies"
   ]
  },
  {
   "cell_type": "code",
   "execution_count": 353,
   "id": "6a7d17aa",
   "metadata": {},
   "outputs": [
    {
     "name": "stderr",
     "output_type": "stream",
     "text": [
      "/var/folders/3m/mj278b89297553km9_g94ghr0000gn/T/ipykernel_14268/4048757389.py:1: FutureWarning: In a future version of pandas all arguments of DataFrame.drop except for the argument 'labels' will be keyword-only.\n",
      "  df_ML=df_ML.merge(adopted_dummies,left_index=True,right_index=True).drop(\"outcome_type\",1)\n"
     ]
    }
   ],
   "source": [
    "df_ML=df_ML.merge(adopted_dummies,left_index=True,right_index=True).drop(\"outcome_type\",1)\n"
   ]
  },
  {
   "cell_type": "code",
   "execution_count": 356,
   "id": "dc68d36c",
   "metadata": {},
   "outputs": [
    {
     "data": {
      "text/html": [
       "<div>\n",
       "<style scoped>\n",
       "    .dataframe tbody tr th:only-of-type {\n",
       "        vertical-align: middle;\n",
       "    }\n",
       "\n",
       "    .dataframe tbody tr th {\n",
       "        vertical-align: top;\n",
       "    }\n",
       "\n",
       "    .dataframe thead th {\n",
       "        text-align: right;\n",
       "    }\n",
       "</style>\n",
       "<table border=\"1\" class=\"dataframe\">\n",
       "  <thead>\n",
       "    <tr style=\"text-align: right;\">\n",
       "      <th></th>\n",
       "      <th>Age_Upon_Intake(days)</th>\n",
       "      <th>Age_Upon_Outcome(days)</th>\n",
       "      <th>color_intake_Black</th>\n",
       "      <th>color_intake_Black/White</th>\n",
       "      <th>color_intake_Blue/White</th>\n",
       "      <th>color_intake_Brown Tabby</th>\n",
       "      <th>color_intake_Brown Tabby/White</th>\n",
       "      <th>color_intake_Brown/White</th>\n",
       "      <th>color_intake_Orange Tabby</th>\n",
       "      <th>color_intake_Other</th>\n",
       "      <th>...</th>\n",
       "      <th>intake_type_Owner Surrender_x</th>\n",
       "      <th>intake_type_Public Assist_x</th>\n",
       "      <th>intake_type_Stray_x</th>\n",
       "      <th>intake_type_Abandoned_y</th>\n",
       "      <th>intake_type_Euthanasia Request_y</th>\n",
       "      <th>intake_type_Owner Surrender_y</th>\n",
       "      <th>intake_type_Public Assist_y</th>\n",
       "      <th>intake_type_Stray_y</th>\n",
       "      <th>Adopted</th>\n",
       "      <th>Other</th>\n",
       "    </tr>\n",
       "  </thead>\n",
       "  <tbody>\n",
       "    <tr>\n",
       "      <th>0</th>\n",
       "      <td>5475</td>\n",
       "      <td>5485</td>\n",
       "      <td>0.0</td>\n",
       "      <td>0.0</td>\n",
       "      <td>0.0</td>\n",
       "      <td>0.0</td>\n",
       "      <td>0.0</td>\n",
       "      <td>0.0</td>\n",
       "      <td>0.0</td>\n",
       "      <td>0.0</td>\n",
       "      <td>...</td>\n",
       "      <td>0.0</td>\n",
       "      <td>1.0</td>\n",
       "      <td>0.0</td>\n",
       "      <td>0.0</td>\n",
       "      <td>0.0</td>\n",
       "      <td>0.0</td>\n",
       "      <td>1.0</td>\n",
       "      <td>0.0</td>\n",
       "      <td>1</td>\n",
       "      <td>0</td>\n",
       "    </tr>\n",
       "    <tr>\n",
       "      <th>1</th>\n",
       "      <td>6570</td>\n",
       "      <td>6622</td>\n",
       "      <td>0.0</td>\n",
       "      <td>0.0</td>\n",
       "      <td>0.0</td>\n",
       "      <td>0.0</td>\n",
       "      <td>0.0</td>\n",
       "      <td>1.0</td>\n",
       "      <td>0.0</td>\n",
       "      <td>0.0</td>\n",
       "      <td>...</td>\n",
       "      <td>0.0</td>\n",
       "      <td>0.0</td>\n",
       "      <td>1.0</td>\n",
       "      <td>0.0</td>\n",
       "      <td>0.0</td>\n",
       "      <td>0.0</td>\n",
       "      <td>0.0</td>\n",
       "      <td>1.0</td>\n",
       "      <td>1</td>\n",
       "      <td>0</td>\n",
       "    </tr>\n",
       "    <tr>\n",
       "      <th>2</th>\n",
       "      <td>4745</td>\n",
       "      <td>4947</td>\n",
       "      <td>1.0</td>\n",
       "      <td>0.0</td>\n",
       "      <td>0.0</td>\n",
       "      <td>0.0</td>\n",
       "      <td>0.0</td>\n",
       "      <td>0.0</td>\n",
       "      <td>0.0</td>\n",
       "      <td>0.0</td>\n",
       "      <td>...</td>\n",
       "      <td>0.0</td>\n",
       "      <td>0.0</td>\n",
       "      <td>1.0</td>\n",
       "      <td>0.0</td>\n",
       "      <td>0.0</td>\n",
       "      <td>0.0</td>\n",
       "      <td>0.0</td>\n",
       "      <td>1.0</td>\n",
       "      <td>1</td>\n",
       "      <td>0</td>\n",
       "    </tr>\n",
       "    <tr>\n",
       "      <th>3</th>\n",
       "      <td>6205</td>\n",
       "      <td>6399</td>\n",
       "      <td>0.0</td>\n",
       "      <td>0.0</td>\n",
       "      <td>0.0</td>\n",
       "      <td>0.0</td>\n",
       "      <td>0.0</td>\n",
       "      <td>0.0</td>\n",
       "      <td>0.0</td>\n",
       "      <td>1.0</td>\n",
       "      <td>...</td>\n",
       "      <td>0.0</td>\n",
       "      <td>0.0</td>\n",
       "      <td>1.0</td>\n",
       "      <td>0.0</td>\n",
       "      <td>0.0</td>\n",
       "      <td>0.0</td>\n",
       "      <td>0.0</td>\n",
       "      <td>1.0</td>\n",
       "      <td>0</td>\n",
       "      <td>1</td>\n",
       "    </tr>\n",
       "    <tr>\n",
       "      <th>4</th>\n",
       "      <td>7300</td>\n",
       "      <td>7305</td>\n",
       "      <td>0.0</td>\n",
       "      <td>0.0</td>\n",
       "      <td>0.0</td>\n",
       "      <td>0.0</td>\n",
       "      <td>0.0</td>\n",
       "      <td>0.0</td>\n",
       "      <td>0.0</td>\n",
       "      <td>0.0</td>\n",
       "      <td>...</td>\n",
       "      <td>0.0</td>\n",
       "      <td>0.0</td>\n",
       "      <td>0.0</td>\n",
       "      <td>0.0</td>\n",
       "      <td>1.0</td>\n",
       "      <td>0.0</td>\n",
       "      <td>0.0</td>\n",
       "      <td>0.0</td>\n",
       "      <td>0</td>\n",
       "      <td>1</td>\n",
       "    </tr>\n",
       "  </tbody>\n",
       "</table>\n",
       "<p>5 rows × 43 columns</p>\n",
       "</div>"
      ],
      "text/plain": [
       "   Age_Upon_Intake(days)  Age_Upon_Outcome(days)  color_intake_Black  \\\n",
       "0                   5475                    5485                 0.0   \n",
       "1                   6570                    6622                 0.0   \n",
       "2                   4745                    4947                 1.0   \n",
       "3                   6205                    6399                 0.0   \n",
       "4                   7300                    7305                 0.0   \n",
       "\n",
       "   color_intake_Black/White  color_intake_Blue/White  \\\n",
       "0                       0.0                      0.0   \n",
       "1                       0.0                      0.0   \n",
       "2                       0.0                      0.0   \n",
       "3                       0.0                      0.0   \n",
       "4                       0.0                      0.0   \n",
       "\n",
       "   color_intake_Brown Tabby  color_intake_Brown Tabby/White  \\\n",
       "0                       0.0                             0.0   \n",
       "1                       0.0                             0.0   \n",
       "2                       0.0                             0.0   \n",
       "3                       0.0                             0.0   \n",
       "4                       0.0                             0.0   \n",
       "\n",
       "   color_intake_Brown/White  color_intake_Orange Tabby  color_intake_Other  \\\n",
       "0                       0.0                        0.0                 0.0   \n",
       "1                       1.0                        0.0                 0.0   \n",
       "2                       0.0                        0.0                 0.0   \n",
       "3                       0.0                        0.0                 1.0   \n",
       "4                       0.0                        0.0                 0.0   \n",
       "\n",
       "   ...  intake_type_Owner Surrender_x  intake_type_Public Assist_x  \\\n",
       "0  ...                            0.0                          1.0   \n",
       "1  ...                            0.0                          0.0   \n",
       "2  ...                            0.0                          0.0   \n",
       "3  ...                            0.0                          0.0   \n",
       "4  ...                            0.0                          0.0   \n",
       "\n",
       "   intake_type_Stray_x  intake_type_Abandoned_y  \\\n",
       "0                  0.0                      0.0   \n",
       "1                  1.0                      0.0   \n",
       "2                  1.0                      0.0   \n",
       "3                  1.0                      0.0   \n",
       "4                  0.0                      0.0   \n",
       "\n",
       "   intake_type_Euthanasia Request_y  intake_type_Owner Surrender_y  \\\n",
       "0                               0.0                            0.0   \n",
       "1                               0.0                            0.0   \n",
       "2                               0.0                            0.0   \n",
       "3                               0.0                            0.0   \n",
       "4                               1.0                            0.0   \n",
       "\n",
       "   intake_type_Public Assist_y  intake_type_Stray_y  Adopted  Other  \n",
       "0                          1.0                  0.0        1      0  \n",
       "1                          0.0                  1.0        1      0  \n",
       "2                          0.0                  1.0        1      0  \n",
       "3                          0.0                  1.0        0      1  \n",
       "4                          0.0                  0.0        0      1  \n",
       "\n",
       "[5 rows x 43 columns]"
      ]
     },
     "execution_count": 356,
     "metadata": {},
     "output_type": "execute_result"
    }
   ],
   "source": [
    "df_ML.head()"
   ]
  },
  {
   "cell_type": "code",
   "execution_count": 362,
   "id": "7a1dcf58",
   "metadata": {},
   "outputs": [],
   "source": [
    "# Remove diabetes outcome target from features data\n",
    "y = df_ML.Adopted\n",
    "columns=[\"Adopted\",\"Other\"]\n",
    "X = df_ML.drop(columns=columns)\n",
    "\n",
    "\n",
    "# Split training/test datasets\n",
    "X_train, X_test, y_train, y_test = train_test_split(X, y, random_state=42, stratify=y)"
   ]
  },
  {
   "cell_type": "code",
   "execution_count": 370,
   "id": "af218dcc",
   "metadata": {},
   "outputs": [],
   "source": [
    "# Create a StandardScaler instance\n",
    "scaler = StandardScaler()\n",
    "\n",
    "# Fit the StandardScaler\n",
    "X_scaler = scaler.fit(X_train)\n",
    "\n",
    "# Scale the data\n",
    "X_train_scaled = X_scaler.transform(X_train)\n",
    "X_test_scaled = X_scaler.transform(X_test)"
   ]
  },
  {
   "cell_type": "code",
   "execution_count": 371,
   "id": "ba893076",
   "metadata": {},
   "outputs": [],
   "source": [
    "\n",
    "model = LogisticRegression()"
   ]
  },
  {
   "cell_type": "code",
   "execution_count": 372,
   "id": "a23ae395",
   "metadata": {},
   "outputs": [
    {
     "data": {
      "text/html": [
       "<style>#sk-container-id-1 {color: black;background-color: white;}#sk-container-id-1 pre{padding: 0;}#sk-container-id-1 div.sk-toggleable {background-color: white;}#sk-container-id-1 label.sk-toggleable__label {cursor: pointer;display: block;width: 100%;margin-bottom: 0;padding: 0.3em;box-sizing: border-box;text-align: center;}#sk-container-id-1 label.sk-toggleable__label-arrow:before {content: \"▸\";float: left;margin-right: 0.25em;color: #696969;}#sk-container-id-1 label.sk-toggleable__label-arrow:hover:before {color: black;}#sk-container-id-1 div.sk-estimator:hover label.sk-toggleable__label-arrow:before {color: black;}#sk-container-id-1 div.sk-toggleable__content {max-height: 0;max-width: 0;overflow: hidden;text-align: left;background-color: #f0f8ff;}#sk-container-id-1 div.sk-toggleable__content pre {margin: 0.2em;color: black;border-radius: 0.25em;background-color: #f0f8ff;}#sk-container-id-1 input.sk-toggleable__control:checked~div.sk-toggleable__content {max-height: 200px;max-width: 100%;overflow: auto;}#sk-container-id-1 input.sk-toggleable__control:checked~label.sk-toggleable__label-arrow:before {content: \"▾\";}#sk-container-id-1 div.sk-estimator input.sk-toggleable__control:checked~label.sk-toggleable__label {background-color: #d4ebff;}#sk-container-id-1 div.sk-label input.sk-toggleable__control:checked~label.sk-toggleable__label {background-color: #d4ebff;}#sk-container-id-1 input.sk-hidden--visually {border: 0;clip: rect(1px 1px 1px 1px);clip: rect(1px, 1px, 1px, 1px);height: 1px;margin: -1px;overflow: hidden;padding: 0;position: absolute;width: 1px;}#sk-container-id-1 div.sk-estimator {font-family: monospace;background-color: #f0f8ff;border: 1px dotted black;border-radius: 0.25em;box-sizing: border-box;margin-bottom: 0.5em;}#sk-container-id-1 div.sk-estimator:hover {background-color: #d4ebff;}#sk-container-id-1 div.sk-parallel-item::after {content: \"\";width: 100%;border-bottom: 1px solid gray;flex-grow: 1;}#sk-container-id-1 div.sk-label:hover label.sk-toggleable__label {background-color: #d4ebff;}#sk-container-id-1 div.sk-serial::before {content: \"\";position: absolute;border-left: 1px solid gray;box-sizing: border-box;top: 0;bottom: 0;left: 50%;z-index: 0;}#sk-container-id-1 div.sk-serial {display: flex;flex-direction: column;align-items: center;background-color: white;padding-right: 0.2em;padding-left: 0.2em;position: relative;}#sk-container-id-1 div.sk-item {position: relative;z-index: 1;}#sk-container-id-1 div.sk-parallel {display: flex;align-items: stretch;justify-content: center;background-color: white;position: relative;}#sk-container-id-1 div.sk-item::before, #sk-container-id-1 div.sk-parallel-item::before {content: \"\";position: absolute;border-left: 1px solid gray;box-sizing: border-box;top: 0;bottom: 0;left: 50%;z-index: -1;}#sk-container-id-1 div.sk-parallel-item {display: flex;flex-direction: column;z-index: 1;position: relative;background-color: white;}#sk-container-id-1 div.sk-parallel-item:first-child::after {align-self: flex-end;width: 50%;}#sk-container-id-1 div.sk-parallel-item:last-child::after {align-self: flex-start;width: 50%;}#sk-container-id-1 div.sk-parallel-item:only-child::after {width: 0;}#sk-container-id-1 div.sk-dashed-wrapped {border: 1px dashed gray;margin: 0 0.4em 0.5em 0.4em;box-sizing: border-box;padding-bottom: 0.4em;background-color: white;}#sk-container-id-1 div.sk-label label {font-family: monospace;font-weight: bold;display: inline-block;line-height: 1.2em;}#sk-container-id-1 div.sk-label-container {text-align: center;}#sk-container-id-1 div.sk-container {/* jupyter's `normalize.less` sets `[hidden] { display: none; }` but bootstrap.min.css set `[hidden] { display: none !important; }` so we also need the `!important` here to be able to override the default hidden behavior on the sphinx rendered scikit-learn.org. See: https://github.com/scikit-learn/scikit-learn/issues/21755 */display: inline-block !important;position: relative;}#sk-container-id-1 div.sk-text-repr-fallback {display: none;}</style><div id=\"sk-container-id-1\" class=\"sk-top-container\"><div class=\"sk-text-repr-fallback\"><pre>LogisticRegression()</pre><b>In a Jupyter environment, please rerun this cell to show the HTML representation or trust the notebook. <br />On GitHub, the HTML representation is unable to render, please try loading this page with nbviewer.org.</b></div><div class=\"sk-container\" hidden><div class=\"sk-item\"><div class=\"sk-estimator sk-toggleable\"><input class=\"sk-toggleable__control sk-hidden--visually\" id=\"sk-estimator-id-1\" type=\"checkbox\" checked><label for=\"sk-estimator-id-1\" class=\"sk-toggleable__label sk-toggleable__label-arrow\">LogisticRegression</label><div class=\"sk-toggleable__content\"><pre>LogisticRegression()</pre></div></div></div></div></div>"
      ],
      "text/plain": [
       "LogisticRegression()"
      ]
     },
     "execution_count": 372,
     "metadata": {},
     "output_type": "execute_result"
    }
   ],
   "source": [
    "model.fit(X_train_scaled,y_train)"
   ]
  },
  {
   "cell_type": "code",
   "execution_count": 373,
   "id": "6f05bb41",
   "metadata": {},
   "outputs": [
    {
     "data": {
      "text/plain": [
       "array([1, 1, 1, ..., 1, 1, 1], dtype=uint8)"
      ]
     },
     "execution_count": 373,
     "metadata": {},
     "output_type": "execute_result"
    }
   ],
   "source": [
    "model.predict(X_test_scaled)"
   ]
  },
  {
   "cell_type": "code",
   "execution_count": 374,
   "id": "8f99e106",
   "metadata": {},
   "outputs": [
    {
     "data": {
      "text/plain": [
       "100117    1\n",
       "44475     1\n",
       "47746     1\n",
       "35050     1\n",
       "73452     1\n",
       "         ..\n",
       "102629    0\n",
       "111634    1\n",
       "63438     0\n",
       "8464      1\n",
       "56653     1\n",
       "Name: Adopted, Length: 34318, dtype: uint8"
      ]
     },
     "execution_count": 374,
     "metadata": {},
     "output_type": "execute_result"
    }
   ],
   "source": [
    "y_test"
   ]
  },
  {
   "cell_type": "code",
   "execution_count": 375,
   "id": "e65d896b",
   "metadata": {},
   "outputs": [
    {
     "name": "stderr",
     "output_type": "stream",
     "text": [
      "/Users/pappus/opt/anaconda3/envs/new_mlenv/lib/python3.10/site-packages/sklearn/base.py:443: UserWarning: X has feature names, but LogisticRegression was fitted without feature names\n",
      "  warnings.warn(\n"
     ]
    },
    {
     "data": {
      "text/plain": [
       "0.6541465120345008"
      ]
     },
     "execution_count": 375,
     "metadata": {},
     "output_type": "execute_result"
    }
   ],
   "source": [
    "model.score(X_test,y_test)"
   ]
  },
  {
   "cell_type": "code",
   "execution_count": 377,
   "id": "0c4de9c2",
   "metadata": {},
   "outputs": [
    {
     "name": "stdout",
     "output_type": "stream",
     "text": [
      " Random forest predictive accuracy: 0.757\n"
     ]
    }
   ],
   "source": [
    "from sklearn.ensemble import RandomForestClassifier\n",
    "random = RandomForestClassifier()\n",
    "random.fit(X_train_scaled,y_train)\n",
    "y_pred=random.predict(X_test_scaled)\n",
    "\n",
    "print(f\" Random forest predictive accuracy: {accuracy_score(y_test,y_pred):.3f}\")"
   ]
  }
 ],
 "metadata": {
  "kernelspec": {
   "display_name": "new_mlenv",
   "language": "python",
   "name": "new_mlenv"
  },
  "language_info": {
   "codemirror_mode": {
    "name": "ipython",
    "version": 3
   },
   "file_extension": ".py",
   "mimetype": "text/x-python",
   "name": "python",
   "nbconvert_exporter": "python",
   "pygments_lexer": "ipython3",
   "version": "3.10.5"
  }
 },
 "nbformat": 4,
 "nbformat_minor": 5
}
